{
 "cells": [
  {
   "cell_type": "markdown",
   "metadata": {},
   "source": [
    "## Day 19\n",
    "You land in an airport surrounded by dense forest. As you walk to your high-speed train, the Elves at the Mythical Information Bureau contact you again. They think their satellite has collected an image of a sea monster! Unfortunately, the connection to the satellite is having problems, and many of the messages sent back from the satellite have been corrupted.\n",
    "\n",
    "They sent you a list of the rules valid messages should obey and a list of received messages they've collected so far (your puzzle input).\n",
    "\n",
    "The rules for valid messages (the top part of your puzzle input) are numbered and build upon each other. For example:\n",
    "\n",
    "- 0: 1 2\n",
    "- 1: \"a\"\n",
    "- 2: 1 3 | 3 1\n",
    "- 3: \"b\"\n",
    "\n",
    "Some rules, like 3: \"b\", simply match a single character (in this case, b).\n",
    "\n",
    "The remaining rules list the sub-rules that must be followed; for example, the rule 0: 1 2 means that to match rule 0, the text being checked must match rule 1, and the text after the part that matched rule 1 must then match rule 2.\n",
    "\n",
    "Some of the rules have multiple lists of sub-rules separated by a pipe (|). This means that at least one list of sub-rules must match. (The ones that match might be different each time the rule is encountered.) For example, the rule 2: 1 3 | 3 1 means that to match rule 2, the text being checked must match rule 1 followed by rule 3 or it must match rule 3 followed by rule 1.\n",
    "\n",
    "Fortunately, there are no loops in the rules, so the list of possible matches will be finite. Since rule 1 matches a and rule 3 matches b, rule 2 matches either ab or ba. Therefore, rule 0 matches aab or aba.\n",
    "\n",
    "Here's a more interesting example:\n",
    "\n",
    "- 0: 4 1 5\n",
    "- 1: 2 3 | 3 2\n",
    "- 2: 4 4 | 5 5\n",
    "- 3: 4 5 | 5 4\n",
    "- 4: \"a\"\n",
    "- 5: \"b\"\n",
    "\n",
    "Here, because rule 4 matches a and rule 5 matches b, rule 2 matches two letters that are the same (aa or bb), and rule 3 matches two letters that are different (ab or ba).\n",
    "\n",
    "Since rule 1 matches rules 2 and 3 once each in either order, it must match two pairs of letters, one pair with matching letters and one pair with different letters. This leaves eight possibilities: aaab, aaba, bbab, bbba, abaa, abbb, baaa, or babb.\n",
    "\n",
    "Rule 0, therefore, matches a (rule 4), then any of the eight options from rule 1, then b (rule 5): aaaabb, aaabab, abbabb, abbbab, aabaab, aabbbb, abaaab, or ababbb.\n",
    "\n",
    "The received messages (the bottom part of your puzzle input) need to be checked against the rules so you can determine which are valid and which are corrupted. Including the rules and the messages together, this might look like:\n",
    "\n",
    "- 0: 4 1 5\n",
    "- 1: 2 3 | 3 2\n",
    "- 2: 4 4 | 5 5\n",
    "- 3: 4 5 | 5 4\n",
    "- 4: \"a\"\n",
    "- 5: \"b\"\n",
    "\n",
    "- ababbb\n",
    "- bababa\n",
    "- abbbab\n",
    "- aaabbb\n",
    "- aaaabbb\n",
    "\n",
    "Your goal is to determine the number of messages that completely match rule 0. In the above example, ababbb and abbbab match, but bababa, aaabbb, and aaaabbb do not, producing the answer 2. The whole message must match all of rule 0; there can't be extra unmatched characters in the message. (For example, aaaabbb might appear to match rule 0 above, but it has an extra unmatched b on the end.)\n",
    "\n",
    "How many messages completely match rule 0?"
   ]
  },
  {
   "cell_type": "code",
   "execution_count": 1,
   "metadata": {},
   "outputs": [],
   "source": [
    "import numpy as np\n",
    "import regex"
   ]
  },
  {
   "cell_type": "code",
   "execution_count": 2,
   "metadata": {},
   "outputs": [],
   "source": [
    "# Open file\n",
    "f = open(\"input_data/Day19.txt\", \"r\")\n",
    "\n",
    "# Read in the rules\n",
    "rules = {}\n",
    "\n",
    "line=f.readline()\n",
    "while (line != '\\n'):\n",
    "    line = line.strip('\\n')\n",
    "    rule_no, rule = line.split(':')\n",
    "    rules[int(rule_no)] = rule.strip()\n",
    "    line = f.readline()\n",
    "    \n",
    "# Clean up terminating rules\n",
    "rules[91] = 'b'\n",
    "rules[20] = 'a'\n",
    "\n",
    "# Read in the test strings\n",
    "\n",
    "messages = []\n",
    "\n",
    "line=f.readline()\n",
    "while line:\n",
    "    line = line.strip('\\n')\n",
    "    messages.append(line)\n",
    "    line = f.readline()\n",
    "    \n",
    "# Close file\n",
    "f.close()"
   ]
  },
  {
   "cell_type": "code",
   "execution_count": 3,
   "metadata": {},
   "outputs": [],
   "source": [
    "def process_rule(rule_string):\n",
    "    '''recursively processes a rule, building up a string that is a huge regular expression'''\n",
    "    \n",
    "    # initialize our regular expression\n",
    "    reg_exp = ''\n",
    "    \n",
    "    # first we look for a termination point\n",
    "    if rule_string in ['a','b']:\n",
    "        return rule_string\n",
    "    \n",
    "    # otherwise we break rule_string into its parts\n",
    "    rule_list = rule_string.split()\n",
    "    \n",
    "    # Look at each item in the list\n",
    "    reg_exp = '('\n",
    "    for r in rule_list:\n",
    "        \n",
    "        # if we have a pipe add it to our regular expression\n",
    "        if r == '|':\n",
    "            reg_exp += r\n",
    "        else:\n",
    "            reg_exp += process_rule(rules[int(r)])\n",
    "    \n",
    "    return reg_exp + ')'"
   ]
  },
  {
   "cell_type": "code",
   "execution_count": 4,
   "metadata": {},
   "outputs": [
    {
     "name": "stdout",
     "output_type": "stream",
     "text": [
      "((((a((b(b(a((ba)a|(ba|a(b|a))b)|b(b(ba)|a(bb)))|a(b(a(ba)|b(aa))|a((aa|(b|a)b)b|(ba|(b|a)b)a)))|a(a(((b(b|a)|aa)(b|a))b|((aa|(b|a)b)b|(ba|(b|a)b)a)a)|b(((aa|(b|a)b)b|(ba|a(b|a))a)b|((ba)a|(b(b|a)|aa)b)a)))a|((a(((b|a)(aa|bb))a|((ba|a(b|a))(b|a))b)|b(((ba|a(b|a))b|(ab|aa)a)b|(a(aa|(b|a)b))a))b|(((b(ab|ba)|a(aa|bb))a|((ba)a|(ba|a(b|a))b)b)a|(((aa|ba)b|(aa)a)b|((ba|a(b|a))b|(aa)a)a)b)a)b)|b(b((b(b((ba)a|(ba|a(b|a))b)|a((bb)b|(bb)a))|a(a(a(aa|ba)|b(ba|a(b|a)))|b(a(aa|(b|a)b))))a|(((b(ba|(b|a)b)|a(ba|a(b|a)))b|(a(aa|bb)|b(bb|ba))a)a|(b(a(bb))|a(b(bb)|a(bb)))b)b)|a(((b((ab|ba)b|(aa)a)|a((b|a)(ba|a(b|a))))a|(((ba)a|(b(b|a)|aa)b)a|((bb|ba)b)b)b)b|((((b|a)(ba|(b|a)b))a|(b(ba))b)a|(a((ab|ba)b|(ba|a(b|a))a)|b((ab|ba)b|(b(b|a)|aa)a))b)a))))((a((b(b(a((ba)a|(ba|a(b|a))b)|b(b(ba)|a(bb)))|a(b(a(ba)|b(aa))|a((aa|(b|a)b)b|(ba|(b|a)b)a)))|a(a(((b(b|a)|aa)(b|a))b|((aa|(b|a)b)b|(ba|(b|a)b)a)a)|b(((aa|(b|a)b)b|(ba|a(b|a))a)b|((ba)a|(b(b|a)|aa)b)a)))a|((a(((b|a)(aa|bb))a|((ba|a(b|a))(b|a))b)|b(((ba|a(b|a))b|(ab|aa)a)b|(a(aa|(b|a)b))a))b|(((b(ab|ba)|a(aa|bb))a|((ba)a|(ba|a(b|a))b)b)a|(((aa|ba)b|(aa)a)b|((ba|a(b|a))b|(aa)a)a)b)a)b)|b(b((b(b((ba)a|(ba|a(b|a))b)|a((bb)b|(bb)a))|a(a(a(aa|ba)|b(ba|a(b|a)))|b(a(aa|(b|a)b))))a|(((b(ba|(b|a)b)|a(ba|a(b|a)))b|(a(aa|bb)|b(bb|ba))a)a|(b(a(bb))|a(b(bb)|a(bb)))b)b)|a(((b((ab|ba)b|(aa)a)|a((b|a)(ba|a(b|a))))a|(((ba)a|(b(b|a)|aa)b)a|((bb|ba)b)b)b)b|((((b|a)(ba|(b|a)b))a|(b(ba))b)a|(a((ab|ba)b|(ba|a(b|a))a)|b((ab|ba)b|(b(b|a)|aa)a))b)a)))(b(((b(b(((b|a)(b|a))a|(b(b|a)|aa)b)|a((b|a)(ba|a(b|a))))|a((b(ba)|a(b(b|a)|aa))a|(((b|a)(b|a))a|(ab|aa)b)b))b|(b(b((aa)b|(ab|aa)a)|a((ab|ba)a|(bb)b))|a(a(b(bb)|a(bb))|b((aa|bb)b|(ba|(b|a)b)a)))a)b|((b(b((ab|aa)a|(aa|bb)b)|a(a(aa|(b|a)b)|b(bb|ba)))|a(((b|a)(aa|bb))b|(a(bb)|b(ab))a))b|(b(((ab|ba)b|(bb|ba)a)a|(a(bb|ba)|b(b(b|a)|aa))b)|a(a((aa)a|((b|a)(b|a))b)|b((aa|(b|a)b)b|(aa)a)))a)a)|a(a(b((a(a(aa|ba)|b(ba|a(b|a)))|b((bb)a|(aa|(b|a)b)b))b|(((bb)a|(ba)b)b|(b(ba)|a(b(b|a)|aa))a)a)|a(((a(bb|ba))b|((aa)a|(ba)b)a)a|((a(ba)|b(aa))(b|a))b))|b(((((bb|ba)a|(bb)b)b|(a(ba)|b((b|a)(b|a)))a)b|(b(b((b|a)(b|a))|a(ba|(b|a)b))|a(a(aa|(b|a)b)))a)b|((((ba|(b|a)b)b|(ab)a)b|(a(ba|(b|a)b)|b(bb|ba))a)b|((b(b(b|a)|aa)|a(aa|ba))a|((ab|ba)b|(bb|ba)a)b)a)a))))))\n"
     ]
    }
   ],
   "source": [
    "reg_exp = process_rule('0')\n",
    "print(reg_exp)"
   ]
  },
  {
   "cell_type": "code",
   "execution_count": 5,
   "metadata": {},
   "outputs": [
    {
     "name": "stdout",
     "output_type": "stream",
     "text": [
      "Number of matches: 195\n"
     ]
    }
   ],
   "source": [
    "# now let's compile our regular expression\n",
    "p = regex.compile(reg_exp)\n",
    "\n",
    "# initialize our sum of matches\n",
    "matches = 0\n",
    "\n",
    "# And now we loop through our messages counting matches\n",
    "for message in messages:\n",
    "    \n",
    "    m = p.match(message)\n",
    "    if m and (m.start()==0) and (m.end()==len(message)):\n",
    "        matches += 1\n",
    "\n",
    "print('Number of matches:', matches)"
   ]
  },
  {
   "cell_type": "markdown",
   "metadata": {},
   "source": [
    "### Part 2"
   ]
  },
  {
   "cell_type": "code",
   "execution_count": 108,
   "metadata": {},
   "outputs": [],
   "source": [
    "# Let's stay with our original data and see what rules 8, 11, 31, and 42 generate for a regular expression\n",
    "\n",
    "reg_exp_8  = process_rule('8')\n",
    "reg_exp_11 = process_rule('11')\n",
    "reg_exp_31 = process_rule('31')\n",
    "reg_exp_42 = process_rule('42')\n",
    "\n",
    "# Strip leading and trailing parentheses\n",
    "reg_exp_8 = reg_exp_8[1:len(reg_exp_8)-1]\n",
    "reg_exp_11 = reg_exp_11[1:len(reg_exp_11)-1]\n",
    "reg_exp_31 = reg_exp_31[1:len(reg_exp_31)-1]\n",
    "reg_exp_42 = reg_exp_42[1:len(reg_exp_42)-1]"
   ]
  },
  {
   "cell_type": "code",
   "execution_count": 112,
   "metadata": {},
   "outputs": [
    {
     "name": "stdout",
     "output_type": "stream",
     "text": [
      "Number of matches: 309\n"
     ]
    }
   ],
   "source": [
    "# New rules are:\n",
    "# 8: 42 | 42 8\n",
    "# 11: 42 31 | 42 11 31\n",
    "\n",
    "# Try this with recursion\n",
    "new_reg_exp_8 = '(' + reg_exp_42 + ')+'\n",
    "\n",
    "matches = 0\n",
    "for i in range(1,9):\n",
    "    new_reg_exp_11 = '(' + i*reg_exp_42 + i*reg_exp_31 + ')'\n",
    "    \n",
    "    # Rule 0: 8 11 )\n",
    "    p2_reg_exp = '(' + new_reg_exp_8 + ')(' + new_reg_exp_11 + ')'\n",
    "    \n",
    "    p2_p = regex.compile(p2_reg_exp)\n",
    "\n",
    "    # And now we loop through our messages counting matches\n",
    "    for message in messages:\n",
    "    \n",
    "        m = p2_p.match(message)\n",
    "        if m and (m.start()==0) and (m.end()==len(message)):\n",
    "            matches += 1\n",
    "\n",
    "print('Number of matches:', matches)"
   ]
  },
  {
   "cell_type": "code",
   "execution_count": null,
   "metadata": {},
   "outputs": [],
   "source": []
  }
 ],
 "metadata": {
  "kernelspec": {
   "display_name": "Python [conda env:TestEnv] *",
   "language": "python",
   "name": "conda-env-TestEnv-py"
  },
  "language_info": {
   "codemirror_mode": {
    "name": "ipython",
    "version": 3
   },
   "file_extension": ".py",
   "mimetype": "text/x-python",
   "name": "python",
   "nbconvert_exporter": "python",
   "pygments_lexer": "ipython3",
   "version": "3.8.2"
  }
 },
 "nbformat": 4,
 "nbformat_minor": 4
}

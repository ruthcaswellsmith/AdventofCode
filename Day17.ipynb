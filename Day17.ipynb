{
 "cells": [
  {
   "cell_type": "markdown",
   "metadata": {},
   "source": [
    "## Day 17"
   ]
  },
  {
   "cell_type": "markdown",
   "metadata": {},
   "source": [
    "### Part 1 \n",
    "\n",
    "As your flight slowly drifts through the sky, the Elves at the Mythical Information Bureau at the North Pole contact you. They'd like some help debugging a malfunctioning experimental energy source aboard one of their super-secret imaging satellites.\n",
    "\n",
    "The experimental energy source is based on cutting-edge technology: a set of Conway Cubes contained in a pocket dimension! When you hear it's having problems, you can't help but agree to take a look.\n",
    "\n",
    "The pocket dimension contains an infinite 3-dimensional grid. At every integer 3-dimensional coordinate (x,y,z), there exists a single cube which is either active or inactive.\n",
    "\n",
    "In the initial state of the pocket dimension, almost all cubes start inactive. The only exception to this is a small flat region of cubes (your puzzle input); the cubes in this region start in the specified active (#) or inactive (.) state.\n",
    "\n",
    "The energy source then proceeds to boot up by executing six cycles.\n",
    "\n",
    "Each cube only ever considers its neighbors: any of the 26 other cubes where any of their coordinates differ by at most 1. For example, given the cube at x=1,y=2,z=3, its neighbors include the cube at x=2,y=2,z=2, the cube at x=0,y=2,z=3, and so on.\n",
    "\n",
    "During a cycle, all cubes simultaneously change their state according to the following rules:\n",
    "\n",
    "If a cube is active and exactly 2 or 3 of its neighbors are also active, the cube remains active. Otherwise, the cube becomes inactive.\n",
    "If a cube is inactive but exactly 3 of its neighbors are active, the cube becomes active. Otherwise, the cube remains inactive.\n",
    "The engineers responsible for this experimental energy source would like you to simulate the pocket dimension and determine what the configuration of cubes should be at the end of the six-cycle boot process.\n",
    "\n",
    "For example, consider the following initial state:\n",
    "\n",
    ".#.\n",
    "..#\n",
    "###\n",
    "Even though the pocket dimension is 3-dimensional, this initial state represents a small 2-dimensional slice of it. (In particular, this initial state defines a 3x3x1 region of the 3-dimensional space.)\n",
    "\n",
    "Simulating a few cycles from this initial state produces the following configurations, where the result of each cycle is shown layer-by-layer at each given z coordinate (and the frame of view follows the active cells in each cycle):\n",
    "\n",
    "Before any cycles:\n",
    "\n",
    "z=0\n",
    "- .#.\n",
    "- ..#\n",
    "- ###\n",
    "\n",
    "\n",
    "After 1 cycle:\n",
    "\n",
    "z=-1\n",
    "- #..\n",
    "- ..#\n",
    "- .#.\n",
    "\n",
    "z=0\n",
    "- #.#\n",
    "- .##\n",
    "- .#.\n",
    "\n",
    "z=1\n",
    "- #..\n",
    "- ..#\n",
    "- .#.\n",
    "\n",
    "\n",
    "After 2 cycles:\n",
    "\n",
    "z=-2\n",
    "- .....\n",
    "- .....\n",
    "- ..#..\n",
    "- .....\n",
    "- .....\n",
    "\n",
    "z=-1\n",
    "- ..#..\n",
    "- .#..#\n",
    "- ....#\n",
    "- .#...\n",
    "- .....\n",
    "\n",
    "z=0\n",
    "- ##...\n",
    "- ##...\n",
    "- #....\n",
    "- ....#\n",
    "- .###.\n",
    "\n",
    "z=1\n",
    "- ..#..\n",
    "- .#..#\n",
    "- ....#\n",
    "- .#...\n",
    "- .....\n",
    "\n",
    "z=2\n",
    "- .....\n",
    "- .....\n",
    "- ..#..\n",
    "- .....\n",
    "- .....\n",
    "\n",
    "\n",
    "After 3 cycles:\n",
    "\n",
    "z=-2\n",
    "- .......\n",
    "- .......\n",
    "- ..##...\n",
    "- ..###..\n",
    "- .......\n",
    "- .......\n",
    "- .......\n",
    "\n",
    "z=-1\n",
    "- ..#....\n",
    "- ...#...\n",
    "- #......\n",
    "- .....##\n",
    "- .#...#.\n",
    "- ..#.#..\n",
    "- ...#...\n",
    "\n",
    "z=0\n",
    "- ...#...\n",
    "- .......\n",
    "- #......\n",
    "- .......\n",
    "- .....##\n",
    "- .##.#..\n",
    "- ...#...\n",
    "\n",
    "z=1\n",
    "- ..#....\n",
    "- ...#...\n",
    "- #......\n",
    "- .....##\n",
    "- .#...#.\n",
    "- ..#.#..\n",
    "- ...#...\n",
    "\n",
    "z=2\n",
    "- .......\n",
    "- .......\n",
    "- ..##...\n",
    "- ..###..\n",
    "- .......\n",
    "- .......\n",
    "- .......\n",
    "\n",
    "After the full six-cycle boot process completes, 112 cubes are left in the active state.\n",
    "\n",
    "Starting with your given initial configuration, simulate six cycles. How many cubes are left in the active state after the sixth cycle?"
   ]
  },
  {
   "cell_type": "code",
   "execution_count": 1,
   "metadata": {},
   "outputs": [],
   "source": [
    "import pandas as pd\n",
    "import numpy as np"
   ]
  },
  {
   "cell_type": "markdown",
   "metadata": {},
   "source": [
    "### Read in input"
   ]
  },
  {
   "cell_type": "code",
   "execution_count": 163,
   "metadata": {},
   "outputs": [],
   "source": [
    "# Open file\n",
    "f = open(\"input_data/Day17.txt\", \"r\")\n",
    "\n",
    "# initialize some variables\n",
    "num_cycles = 6\n",
    "xdim, ydim, zdim = 8,8,1\n",
    "xmax, ymax, zmax = xdim+2*num_cycles, ydim+2*num_cycles, zdim+2*num_cycles\n",
    "\n",
    "# initialize our array\n",
    "active = np.zeros([xmax,ymax,zmax], dtype='bool')\n",
    "neighbors = np.zeros([xmax,ymax,zmax], dtype='int')\n",
    "\n",
    "line=f.readline()\n",
    "y=0\n",
    "\n",
    "while line:\n",
    "    line = line.strip('\\n')\n",
    "    for i in range(len(line)):        \n",
    "        active[num_cycles+y][num_cycles+i][num_cycles] = True if line[i]=='#' else False\n",
    "    line=f.readline()\n",
    "    y+=1\n",
    "    \n",
    "# Close file\n",
    "f.close()"
   ]
  },
  {
   "cell_type": "code",
   "execution_count": 164,
   "metadata": {},
   "outputs": [
    {
     "data": {
      "text/plain": [
       "((20, 20, 13), (20, 20, 13))"
      ]
     },
     "execution_count": 164,
     "metadata": {},
     "output_type": "execute_result"
    }
   ],
   "source": [
    "active.shape, neighbors.shape"
   ]
  },
  {
   "cell_type": "code",
   "execution_count": 165,
   "metadata": {},
   "outputs": [
    {
     "data": {
      "text/plain": [
       "False"
      ]
     },
     "execution_count": 165,
     "metadata": {},
     "output_type": "execute_result"
    }
   ],
   "source": [
    "active[6][6][6]"
   ]
  },
  {
   "cell_type": "markdown",
   "metadata": {},
   "source": [
    "### Function Definitions"
   ]
  },
  {
   "cell_type": "code",
   "execution_count": 166,
   "metadata": {},
   "outputs": [],
   "source": [
    "def count_neighbors(xpos,ypos,zpos):\n",
    "    '''loops through space and counts neighbors, updating the neighbors array'''\n",
    "\n",
    "    active_neighbors = 0\n",
    "    \n",
    "    # take care of boundaries\n",
    "    x_min = 0 if xpos==0 else xpos-1\n",
    "    x_max = xmax-1 if xpos==xmax-1 else xpos+1\n",
    "    y_min = 0 if ypos==0 else ypos-1\n",
    "    y_max = ymax-1 if ypos==ymax-1 else ypos+1\n",
    "    z_min = 0 if zpos==0 else zpos-1\n",
    "    z_max = zmax-1 if zpos==zmax-1 else zpos+1\n",
    "    \n",
    "#    print(x_min, x_max, y_min, y_max, z_min, z_max)\n",
    "    for x in range(x_min, x_max+1):\n",
    "        for y in range(y_min, y_max+1):\n",
    "            for z in range(z_min, z_max+1):\n",
    "                # don't count itself\n",
    "                if not ((x==xpos) & (y==ypos) & (z==zpos)):\n",
    "                     if active[x][y][z]:\n",
    "                        active_neighbors+=1\n",
    "    return active_neighbors"
   ]
  },
  {
   "cell_type": "markdown",
   "metadata": {},
   "source": [
    "### Main Loop"
   ]
  },
  {
   "cell_type": "code",
   "execution_count": 167,
   "metadata": {},
   "outputs": [
    {
     "name": "stdout",
     "output_type": "stream",
     "text": [
      "Cycle:  1\n",
      "Counting Neighbors\n",
      "Updating Status\n",
      "Cycle:  2\n",
      "Counting Neighbors\n",
      "Updating Status\n",
      "Cycle:  3\n",
      "Counting Neighbors\n",
      "Updating Status\n",
      "Cycle:  4\n",
      "Counting Neighbors\n",
      "Updating Status\n",
      "Cycle:  5\n",
      "Counting Neighbors\n",
      "Updating Status\n",
      "Cycle:  6\n",
      "Counting Neighbors\n",
      "Updating Status\n"
     ]
    }
   ],
   "source": [
    "for i in range(1,num_cycles+1):\n",
    "    \n",
    "    print('Cycle: ', i)\n",
    "    \n",
    "    print('Counting Neighbors')   \n",
    "    # go through our numpy array, counting neighbors\n",
    "    for x in range(xmax):\n",
    "        for y in range(ymax):\n",
    "            for z in range(zmax):\n",
    "                neighbors[x][y][z] = count_neighbors(x,y,z)\n",
    "    \n",
    "    print('Updating Status')\n",
    "    # now go through our numpy array, update status\n",
    "    for x in range(xmax):\n",
    "        for y in range(ymax):\n",
    "            for z in range(zmax):\n",
    "                if active[x][y][z]:\n",
    "            \n",
    "                # If a cube is active, and if active neighbors are anything except 2 or 3 it becomes inactive\n",
    "                    num_neighbors = neighbors[x][y][z]\n",
    "                    if not ((num_neighbors == 2) | (num_neighbors == 3)):\n",
    "                        active[x][y][z] = False\n",
    "                        \n",
    "                else: \n",
    "                \n",
    "                # a cube is inactive, and if exactly three neighbors are active, it becomes active\n",
    "                    if (neighbors[x][y][z] == 3):\n",
    "                        active[x][y][z] = True"
   ]
  },
  {
   "cell_type": "code",
   "execution_count": 168,
   "metadata": {},
   "outputs": [
    {
     "name": "stdout",
     "output_type": "stream",
     "text": [
      "Number of active state:  304\n"
     ]
    }
   ],
   "source": [
    "# Now we need to count the active states\n",
    "num_active = 0\n",
    "for x in range(xmax):\n",
    "    for y in range(ymax):\n",
    "        for z in range(zmax):\n",
    "            if active[x][y][z]:\n",
    "                num_active += 1\n",
    "                \n",
    "print('Number of active state: ', num_active)"
   ]
  },
  {
   "cell_type": "markdown",
   "metadata": {},
   "source": [
    "### Part 2"
   ]
  },
  {
   "cell_type": "markdown",
   "metadata": {},
   "source": [
    "Expand to 4D.  Same rules."
   ]
  },
  {
   "cell_type": "code",
   "execution_count": 193,
   "metadata": {},
   "outputs": [],
   "source": [
    "# Open file\n",
    "f = open(\"input_data/Day17.txt\", \"r\")\n",
    "\n",
    "# initialize some variables\n",
    "num_cycles = 6\n",
    "xdim, ydim, zdim, wdim = 8,8,1,1\n",
    "xmax, ymax, zmax, wmax = xdim+2*num_cycles, ydim+2*num_cycles, zdim+2*num_cycles, wdim+2*num_cycles\n",
    "\n",
    "# initialize our array\n",
    "active = np.zeros([xmax,ymax,zmax,wmax], dtype='bool')\n",
    "neighbors = np.zeros([xmax,ymax,zmax,wmax], dtype='int')\n",
    "\n",
    "line=f.readline()\n",
    "y=0\n",
    "\n",
    "while line:\n",
    "    line = line.strip('\\n')\n",
    "    for i in range(len(line)):        \n",
    "        active[num_cycles+y][num_cycles+i][num_cycles][num_cycles] = True if line[i]=='#' else False\n",
    "    line=f.readline()\n",
    "    y+=1\n",
    "    \n",
    "# Close file\n",
    "f.close()"
   ]
  },
  {
   "cell_type": "code",
   "execution_count": 194,
   "metadata": {},
   "outputs": [
    {
     "data": {
      "text/plain": [
       "((20, 20, 13, 13), (20, 20, 13, 13))"
      ]
     },
     "execution_count": 194,
     "metadata": {},
     "output_type": "execute_result"
    }
   ],
   "source": [
    "active.shape, neighbors.shape"
   ]
  },
  {
   "cell_type": "code",
   "execution_count": 195,
   "metadata": {},
   "outputs": [
    {
     "data": {
      "text/plain": [
       "True"
      ]
     },
     "execution_count": 195,
     "metadata": {},
     "output_type": "execute_result"
    }
   ],
   "source": [
    "active[6][7][6][6]"
   ]
  },
  {
   "cell_type": "markdown",
   "metadata": {},
   "source": [
    "### Function Definitions"
   ]
  },
  {
   "cell_type": "code",
   "execution_count": 196,
   "metadata": {},
   "outputs": [],
   "source": [
    "def count_neighbors(xpos,ypos,zpos,wpos):\n",
    "    '''loops through space and counts neighbors, updating the neighbors array'''\n",
    "\n",
    "    active_neighbors = 0\n",
    "    \n",
    "    # take care of boundaries\n",
    "    x_min = 0 if xpos==0 else xpos-1\n",
    "    x_max = xmax-1 if xpos==xmax-1 else xpos+1\n",
    "  \n",
    "    y_min = 0 if ypos==0 else ypos-1\n",
    "    y_max = ymax-1 if ypos==ymax-1 else ypos+1\n",
    "    \n",
    "    z_min = 0 if zpos==0 else zpos-1\n",
    "    z_max = zmax-1 if zpos==zmax-1 else zpos+1\n",
    "    \n",
    "    w_min = 0 if wpos==0 else wpos-1\n",
    "    w_max = wmax-1 if wpos==wmax-1 else wpos+1\n",
    "    \n",
    "    \n",
    "#    print(x_min, x_max, y_min, y_max, z_min, z_max)\n",
    "    for x in range(x_min, x_max+1):\n",
    "        for y in range(y_min, y_max+1):\n",
    "            for z in range(z_min, z_max+1):\n",
    "                for w in range(w_min, w_max+1):\n",
    "                    # don't count itself\n",
    "                    if not ((x==xpos) & (y==ypos) & (z==zpos) & (w==wpos)):\n",
    "                         if active[x][y][z][w]:\n",
    "                            active_neighbors+=1\n",
    "    return active_neighbors"
   ]
  },
  {
   "cell_type": "markdown",
   "metadata": {},
   "source": [
    "### Main Loop"
   ]
  },
  {
   "cell_type": "code",
   "execution_count": 197,
   "metadata": {},
   "outputs": [
    {
     "name": "stdout",
     "output_type": "stream",
     "text": [
      "Cycle:  1\n",
      "Counting Neighbors\n",
      "Updating Status\n",
      "Cycle:  2\n",
      "Counting Neighbors\n",
      "Updating Status\n",
      "Cycle:  3\n",
      "Counting Neighbors\n",
      "Updating Status\n",
      "Cycle:  4\n",
      "Counting Neighbors\n",
      "Updating Status\n",
      "Cycle:  5\n",
      "Counting Neighbors\n",
      "Updating Status\n",
      "Cycle:  6\n",
      "Counting Neighbors\n",
      "Updating Status\n"
     ]
    }
   ],
   "source": [
    "for i in range(1,num_cycles+1):\n",
    "    \n",
    "    print('Cycle: ', i)\n",
    "    \n",
    "    print('Counting Neighbors')   \n",
    "    # go through our numpy array, counting neighbors\n",
    "    for x in range(xmax):\n",
    "        for y in range(ymax):\n",
    "            for z in range(zmax):\n",
    "                for w in range(wmax):\n",
    "                    neighbors[x][y][z][w] = count_neighbors(x,y,z,w)\n",
    "    \n",
    "    print('Updating Status')\n",
    "    # now go through our numpy array, update status\n",
    "    for x in range(xmax):\n",
    "        for y in range(ymax):\n",
    "            for z in range(zmax):\n",
    "                for w in range(wmax):\n",
    "                    if active[x][y][z][w]:\n",
    "            \n",
    "                    # If a cube is active, and if active neighbors are anything except 2 or 3 it becomes inactive\n",
    "                        num_neighbors = neighbors[x][y][z][w]\n",
    "                        if not ((num_neighbors == 2) | (num_neighbors == 3)):\n",
    "                            active[x][y][z][w] = False\n",
    "                        \n",
    "                    else: \n",
    "                \n",
    "                    # a cube is inactive, and if exactly three neighbors are active, it becomes active\n",
    "                        if (neighbors[x][y][z][w] == 3):\n",
    "                            active[x][y][z][w] = True"
   ]
  },
  {
   "cell_type": "code",
   "execution_count": 198,
   "metadata": {},
   "outputs": [
    {
     "name": "stdout",
     "output_type": "stream",
     "text": [
      "Number of active state:  1868\n"
     ]
    }
   ],
   "source": [
    "# Now we need to count the active states\n",
    "num_active = 0\n",
    "for x in range(xmax):\n",
    "    for y in range(ymax):\n",
    "        for z in range(zmax):\n",
    "            for w in range(wmax):\n",
    "                if active[x][y][z][w]:\n",
    "                    num_active += 1\n",
    "                \n",
    "print('Number of active state: ', num_active)"
   ]
  },
  {
   "cell_type": "code",
   "execution_count": null,
   "metadata": {},
   "outputs": [],
   "source": []
  }
 ],
 "metadata": {
  "kernelspec": {
   "display_name": "Python 3",
   "language": "python",
   "name": "python3"
  },
  "language_info": {
   "codemirror_mode": {
    "name": "ipython",
    "version": 3
   },
   "file_extension": ".py",
   "mimetype": "text/x-python",
   "name": "python",
   "nbconvert_exporter": "python",
   "pygments_lexer": "ipython3",
   "version": "3.8.3"
  }
 },
 "nbformat": 4,
 "nbformat_minor": 4
}

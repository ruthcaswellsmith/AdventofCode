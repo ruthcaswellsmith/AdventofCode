{
 "cells": [
  {
   "cell_type": "markdown",
   "metadata": {},
   "source": [
    "# Day 16"
   ]
  },
  {
   "cell_type": "markdown",
   "metadata": {},
   "source": [
    "As you're walking to yet another connecting flight, you realize that one of the legs of your re-routed trip coming up is on a high-speed train. However, the train ticket you were given is in a language you don't understand. You should probably figure out what it says before you get to the train station after the next flight.\n",
    "\n",
    "Unfortunately, you can't actually read the words on the ticket. You can, however, read the numbers, and so you figure out the fields these tickets must have and the valid ranges for values in those fields.\n",
    "\n",
    "You collect the rules for ticket fields, the numbers on your ticket, and the numbers on other nearby tickets for the same train service (via the airport security cameras) together into a single document you can reference (your puzzle input).\n",
    "\n",
    "The rules for ticket fields specify a list of fields that exist somewhere on the ticket and the valid ranges of values for each field. For example, a rule like class: 1-3 or 5-7 means that one of the fields in every ticket is named class and can be any value in the ranges 1-3 or 5-7 (inclusive, such that 3 and 5 are both valid in this field, but 4 is not).\n",
    "\n",
    "Each ticket is represented by a single line of comma-separated values. The values are the numbers on the ticket in the order they appear; every ticket has the same format. For example, consider this ticket:\n",
    "\n",
    "- .--------------------------------------------------------.\n",
    "- | ????: 101    ?????: 102   ??????????: 103     ???: 104 |\n",
    "- |                                                        |\n",
    "- | ??: 301  ??: 302             ???????: 303      ??????? |\n",
    "- | ??: 401  ??: 402           ???? ????: 403    ????????? |\n",
    "- '--------------------------------------------------------'\n",
    "\n",
    "Here, ? represents text in a language you don't understand. This ticket might be represented as 101,102,103,104,301,302,303,401,402,403; of course, the actual train tickets you're looking at are much more complicated. In any case, you've extracted just the numbers in such a way that the first number is always the same specific field, the second number is always a different specific field, and so on - you just don't know what each position actually means!\n",
    "\n",
    "Start by determining which tickets are completely invalid; these are tickets that contain values which aren't valid for any field. Ignore your ticket for now.\n",
    "\n",
    "For example, suppose you have the following notes:\n",
    "\n",
    "- class: 1-3 or 5-7\n",
    "- row: 6-11 or 33-44\n",
    "- seat: 13-40 or 45-50\n",
    "\n",
    "your ticket:\n",
    "- 7,1,14\n",
    "\n",
    "nearby tickets:\n",
    "- 7,3,47\n",
    "- 40,4,50\n",
    "- 55,2,20\n",
    "- 38,6,12\n",
    "\n",
    "It doesn't matter which position corresponds to which field; you can identify invalid nearby tickets by considering only whether tickets contain values that are not valid for any field. In this example, the values on the first nearby ticket are all valid for at least one field. This is not true of the other three nearby tickets: the values 4, 55, and 12 are are not valid for any field. Adding together all of the invalid values produces your ticket scanning error rate: 4 + 55 + 12 = 71.\n",
    "\n",
    "Consider the validity of the nearby tickets you scanned. What is your ticket scanning error rate?"
   ]
  },
  {
   "cell_type": "code",
   "execution_count": 1,
   "metadata": {},
   "outputs": [],
   "source": [
    "import pandas as pd\n",
    "import numpy as np"
   ]
  },
  {
   "cell_type": "code",
   "execution_count": 108,
   "metadata": {},
   "outputs": [],
   "source": [
    "# Open file\n",
    "f = open(\"input_data/Day16.txt\", \"r\")\n",
    "\n",
    "# initialize our rules df\n",
    "rules = pd.DataFrame(columns = ['rule','r1_min','r1_max','r2_min','r2_max'])\n",
    "\n",
    "line = f.readline()\n",
    "while line != \"\\n\":\n",
    "    # we have another rule\n",
    "    line = line.strip('\\n')\n",
    "    rule, ranges = line.split(':')\n",
    "    range1, range2 = ranges.split(' or ')\n",
    "    range1 = range1.strip()\n",
    "    range2 = range2.strip()\n",
    "    r1_min, r1_max = range1.split('-')\n",
    "    r2_min, r2_max = range2.split('-')\n",
    "    rules = rules.append(dict(zip(rules.columns, [rule, r1_min, r1_max, r2_min, r2_max])), ignore_index=True)\n",
    "\n",
    "    line=f.readline()\n",
    "\n",
    "# convert ranges to ints\n",
    "rules[['r1_min','r1_max','r2_min','r2_max']] = rules[['r1_min','r1_max','r2_min','r2_max']].astype(int)\n",
    "\n",
    "# Get number of rules\n",
    "num_rules = rules.shape[0]\n",
    "\n",
    "# Read 'your ticket' line\n",
    "line = f.readline()\n",
    "# Read next line with my ticket values\n",
    "line = f.readline()\n",
    "my_vals = np.array(line.split(','),dtype='int')\n",
    "\n",
    "# read empty line\n",
    "line = f.readline()\n",
    "# read 'nearby tickets'\n",
    "line = f.readline()\n",
    "\n",
    "# initialize our ticket list\n",
    "tickets = []\n",
    "\n",
    "# read first ticket\n",
    "line= f.readline()\n",
    "while line != '':\n",
    "    \n",
    "    # process ticket\n",
    "    ticket_nums = line.split(',')\n",
    "    ticket_nums = [ticket.strip('\\n') for ticket in ticket_nums]\n",
    "\n",
    "    tickets.append(ticket_nums)\n",
    "                             \n",
    "    line= f.readline()\n",
    "\n",
    "# convert our list of lists to a numpy array\n",
    "tickets = np.array(tickets, dtype='int')\n",
    "\n",
    "# Close file\n",
    "f.close()"
   ]
  },
  {
   "cell_type": "code",
   "execution_count": 109,
   "metadata": {},
   "outputs": [
    {
     "data": {
      "text/html": [
       "<div>\n",
       "<style scoped>\n",
       "    .dataframe tbody tr th:only-of-type {\n",
       "        vertical-align: middle;\n",
       "    }\n",
       "\n",
       "    .dataframe tbody tr th {\n",
       "        vertical-align: top;\n",
       "    }\n",
       "\n",
       "    .dataframe thead th {\n",
       "        text-align: right;\n",
       "    }\n",
       "</style>\n",
       "<table border=\"1\" class=\"dataframe\">\n",
       "  <thead>\n",
       "    <tr style=\"text-align: right;\">\n",
       "      <th></th>\n",
       "      <th>rule</th>\n",
       "      <th>r1_min</th>\n",
       "      <th>r1_max</th>\n",
       "      <th>r2_min</th>\n",
       "      <th>r2_max</th>\n",
       "    </tr>\n",
       "  </thead>\n",
       "  <tbody>\n",
       "    <tr>\n",
       "      <th>0</th>\n",
       "      <td>departure location</td>\n",
       "      <td>47</td>\n",
       "      <td>874</td>\n",
       "      <td>885</td>\n",
       "      <td>960</td>\n",
       "    </tr>\n",
       "    <tr>\n",
       "      <th>1</th>\n",
       "      <td>departure station</td>\n",
       "      <td>25</td>\n",
       "      <td>616</td>\n",
       "      <td>622</td>\n",
       "      <td>964</td>\n",
       "    </tr>\n",
       "    <tr>\n",
       "      <th>2</th>\n",
       "      <td>departure platform</td>\n",
       "      <td>42</td>\n",
       "      <td>807</td>\n",
       "      <td>825</td>\n",
       "      <td>966</td>\n",
       "    </tr>\n",
       "    <tr>\n",
       "      <th>3</th>\n",
       "      <td>departure track</td>\n",
       "      <td>36</td>\n",
       "      <td>560</td>\n",
       "      <td>583</td>\n",
       "      <td>965</td>\n",
       "    </tr>\n",
       "    <tr>\n",
       "      <th>4</th>\n",
       "      <td>departure date</td>\n",
       "      <td>37</td>\n",
       "      <td>264</td>\n",
       "      <td>289</td>\n",
       "      <td>968</td>\n",
       "    </tr>\n",
       "    <tr>\n",
       "      <th>5</th>\n",
       "      <td>departure time</td>\n",
       "      <td>27</td>\n",
       "      <td>325</td>\n",
       "      <td>346</td>\n",
       "      <td>954</td>\n",
       "    </tr>\n",
       "    <tr>\n",
       "      <th>6</th>\n",
       "      <td>arrival location</td>\n",
       "      <td>37</td>\n",
       "      <td>384</td>\n",
       "      <td>391</td>\n",
       "      <td>950</td>\n",
       "    </tr>\n",
       "    <tr>\n",
       "      <th>7</th>\n",
       "      <td>arrival station</td>\n",
       "      <td>35</td>\n",
       "      <td>233</td>\n",
       "      <td>244</td>\n",
       "      <td>963</td>\n",
       "    </tr>\n",
       "    <tr>\n",
       "      <th>8</th>\n",
       "      <td>arrival platform</td>\n",
       "      <td>26</td>\n",
       "      <td>652</td>\n",
       "      <td>675</td>\n",
       "      <td>949</td>\n",
       "    </tr>\n",
       "    <tr>\n",
       "      <th>9</th>\n",
       "      <td>arrival track</td>\n",
       "      <td>41</td>\n",
       "      <td>689</td>\n",
       "      <td>710</td>\n",
       "      <td>954</td>\n",
       "    </tr>\n",
       "    <tr>\n",
       "      <th>10</th>\n",
       "      <td>class</td>\n",
       "      <td>27</td>\n",
       "      <td>75</td>\n",
       "      <td>81</td>\n",
       "      <td>952</td>\n",
       "    </tr>\n",
       "    <tr>\n",
       "      <th>11</th>\n",
       "      <td>duration</td>\n",
       "      <td>45</td>\n",
       "      <td>784</td>\n",
       "      <td>807</td>\n",
       "      <td>967</td>\n",
       "    </tr>\n",
       "    <tr>\n",
       "      <th>12</th>\n",
       "      <td>price</td>\n",
       "      <td>40</td>\n",
       "      <td>350</td>\n",
       "      <td>374</td>\n",
       "      <td>970</td>\n",
       "    </tr>\n",
       "    <tr>\n",
       "      <th>13</th>\n",
       "      <td>route</td>\n",
       "      <td>30</td>\n",
       "      <td>892</td>\n",
       "      <td>904</td>\n",
       "      <td>968</td>\n",
       "    </tr>\n",
       "    <tr>\n",
       "      <th>14</th>\n",
       "      <td>row</td>\n",
       "      <td>47</td>\n",
       "      <td>144</td>\n",
       "      <td>151</td>\n",
       "      <td>957</td>\n",
       "    </tr>\n",
       "    <tr>\n",
       "      <th>15</th>\n",
       "      <td>seat</td>\n",
       "      <td>28</td>\n",
       "      <td>750</td>\n",
       "      <td>773</td>\n",
       "      <td>973</td>\n",
       "    </tr>\n",
       "    <tr>\n",
       "      <th>16</th>\n",
       "      <td>train</td>\n",
       "      <td>30</td>\n",
       "      <td>456</td>\n",
       "      <td>475</td>\n",
       "      <td>950</td>\n",
       "    </tr>\n",
       "    <tr>\n",
       "      <th>17</th>\n",
       "      <td>type</td>\n",
       "      <td>34</td>\n",
       "      <td>642</td>\n",
       "      <td>648</td>\n",
       "      <td>968</td>\n",
       "    </tr>\n",
       "    <tr>\n",
       "      <th>18</th>\n",
       "      <td>wagon</td>\n",
       "      <td>42</td>\n",
       "      <td>486</td>\n",
       "      <td>498</td>\n",
       "      <td>970</td>\n",
       "    </tr>\n",
       "    <tr>\n",
       "      <th>19</th>\n",
       "      <td>zone</td>\n",
       "      <td>37</td>\n",
       "      <td>152</td>\n",
       "      <td>167</td>\n",
       "      <td>973</td>\n",
       "    </tr>\n",
       "  </tbody>\n",
       "</table>\n",
       "</div>"
      ],
      "text/plain": [
       "                  rule  r1_min  r1_max  r2_min  r2_max\n",
       "0   departure location      47     874     885     960\n",
       "1    departure station      25     616     622     964\n",
       "2   departure platform      42     807     825     966\n",
       "3      departure track      36     560     583     965\n",
       "4       departure date      37     264     289     968\n",
       "5       departure time      27     325     346     954\n",
       "6     arrival location      37     384     391     950\n",
       "7      arrival station      35     233     244     963\n",
       "8     arrival platform      26     652     675     949\n",
       "9        arrival track      41     689     710     954\n",
       "10               class      27      75      81     952\n",
       "11            duration      45     784     807     967\n",
       "12               price      40     350     374     970\n",
       "13               route      30     892     904     968\n",
       "14                 row      47     144     151     957\n",
       "15                seat      28     750     773     973\n",
       "16               train      30     456     475     950\n",
       "17                type      34     642     648     968\n",
       "18               wagon      42     486     498     970\n",
       "19                zone      37     152     167     973"
      ]
     },
     "execution_count": 109,
     "metadata": {},
     "output_type": "execute_result"
    }
   ],
   "source": [
    "rules"
   ]
  },
  {
   "cell_type": "code",
   "execution_count": 110,
   "metadata": {},
   "outputs": [
    {
     "data": {
      "text/plain": [
       "array([[191, 477, 199, ..., 302, 376, 252],\n",
       "       [598, 628, 446, ..., 102, 708, 637],\n",
       "       [890, 168, 741, ..., 632, 226, 862],\n",
       "       ...,\n",
       "       [711, 119, 891, ..., 828, 225, 178],\n",
       "       [880, 257, 383, ..., 253, 395, 318],\n",
       "       [183, 940, 255, ..., 645, 855, 380]])"
      ]
     },
     "execution_count": 110,
     "metadata": {},
     "output_type": "execute_result"
    }
   ],
   "source": [
    "tickets"
   ]
  },
  {
   "cell_type": "code",
   "execution_count": 111,
   "metadata": {},
   "outputs": [
    {
     "data": {
      "text/plain": [
       "0"
      ]
     },
     "execution_count": 111,
     "metadata": {},
     "output_type": "execute_result"
    }
   ],
   "source": [
    "rules.apply(lambda x: (x['r1_min']<= 3 <=x['r1_max']) | (x['r2_min']<=3<=x['r2_max)']), axis=1).sum()"
   ]
  },
  {
   "cell_type": "code",
   "execution_count": 112,
   "metadata": {},
   "outputs": [],
   "source": [
    "def test_values(ticket):\n",
    "    '''takes a ticket which is an array of values and a set of rules (df) and returns an array of booleans'''\n",
    "    \n",
    "    ret_vals = []\n",
    "    for val in ticket:\n",
    "        # loop through our values testing each one against the set of rules.  If it's good add a True if not a False\n",
    "        if rules.apply(lambda x: (x['r1_min'] <= val <= x['r1_max']) | \n",
    "                       (x['r2_min'] <= val <= x['r2_max']), axis=1).sum():\n",
    "            ret_vals.append(True)\n",
    "        else:\n",
    "            ret_vals.append(False)\n",
    "    \n",
    "    return ret_vals"
   ]
  },
  {
   "cell_type": "code",
   "execution_count": 113,
   "metadata": {},
   "outputs": [],
   "source": [
    "invalids = []\n",
    "\n",
    "# Loop through our tickets\n",
    "for ticket in tickets:\n",
    "    \n",
    "    valid_list = test_values(ticket)\n",
    "    for idx, val in enumerate(valid_list):\n",
    "        if not val:\n",
    "            invalids.append(ticket[idx])"
   ]
  },
  {
   "cell_type": "code",
   "execution_count": 114,
   "metadata": {},
   "outputs": [
    {
     "data": {
      "text/plain": [
       "19087"
      ]
     },
     "execution_count": 114,
     "metadata": {},
     "output_type": "execute_result"
    }
   ],
   "source": [
    "sum(invalids)"
   ]
  },
  {
   "cell_type": "markdown",
   "metadata": {},
   "source": [
    "### Part 2\n",
    "Now that you've identified which tickets contain invalid values, discard those tickets entirely. Use the remaining valid tickets to determine which field is which.\n",
    "\n",
    "Using the valid ranges for each field, determine what order the fields appear on the tickets. The order is consistent between all tickets: if seat is the third field, it is the third field on every ticket, including your ticket.\n",
    "\n",
    "For example, suppose you have the following notes:\n",
    "\n",
    "- class: 0-1 or 4-19\n",
    "- row: 0-5 or 8-19\n",
    "- seat: 0-13 or 16-19\n",
    "\n",
    "your ticket:\n",
    "-11,12,13\n",
    "\n",
    "nearby tickets:\n",
    "- 3,9,18\n",
    "- 15,1,5\n",
    "- 5,14,9\n",
    "\n",
    "Based on the nearby tickets in the above example, the first position must be row, the second position must be class, and the third position must be seat; you can conclude that in your ticket, class is 12, row is 11, and seat is 13.\n",
    "\n",
    "Once you work out which field is which, look for the six fields on your ticket that start with the word departure. What do you get if you multiply those six values together?"
   ]
  },
  {
   "cell_type": "code",
   "execution_count": 115,
   "metadata": {},
   "outputs": [
    {
     "data": {
      "text/plain": [
       "(236, 20)"
      ]
     },
     "execution_count": 115,
     "metadata": {},
     "output_type": "execute_result"
    }
   ],
   "source": [
    "tickets.shape"
   ]
  },
  {
   "cell_type": "code",
   "execution_count": 116,
   "metadata": {},
   "outputs": [],
   "source": [
    "val_tickets = []\n",
    "\n",
    "for idx, ticket in enumerate(tickets):\n",
    "    \n",
    "    valid_list = test_values(ticket)\n",
    "    if sum(valid_list) == len(valid_list):\n",
    "        val_tickets.append(ticket.tolist())"
   ]
  },
  {
   "cell_type": "code",
   "execution_count": 117,
   "metadata": {},
   "outputs": [],
   "source": [
    "val_tickets = np.array(val_tickets)"
   ]
  },
  {
   "cell_type": "code",
   "execution_count": 118,
   "metadata": {},
   "outputs": [
    {
     "data": {
      "text/plain": [
       "(190, 20)"
      ]
     },
     "execution_count": 118,
     "metadata": {},
     "output_type": "execute_result"
    }
   ],
   "source": [
    "val_tickets.shape"
   ]
  },
  {
   "cell_type": "code",
   "execution_count": 119,
   "metadata": {},
   "outputs": [],
   "source": [
    "# let's transpose our valid tickets because we're going to going through them one position at a time\n",
    "val_tickets_T = np.transpose(val_tickets)"
   ]
  },
  {
   "cell_type": "code",
   "execution_count": 120,
   "metadata": {},
   "outputs": [
    {
     "data": {
      "text/plain": [
       "(20, 190)"
      ]
     },
     "execution_count": 120,
     "metadata": {},
     "output_type": "execute_result"
    }
   ],
   "source": [
    "val_tickets_T.shape"
   ]
  },
  {
   "cell_type": "code",
   "execution_count": 121,
   "metadata": {},
   "outputs": [
    {
     "data": {
      "text/plain": [
       "(20, 5)"
      ]
     },
     "execution_count": 121,
     "metadata": {},
     "output_type": "execute_result"
    }
   ],
   "source": [
    "rules.shape"
   ]
  },
  {
   "cell_type": "markdown",
   "metadata": {},
   "source": [
    "Good, our number of rules matches our number of positions, so that is good."
   ]
  },
  {
   "cell_type": "code",
   "execution_count": 122,
   "metadata": {},
   "outputs": [],
   "source": [
    "def test_pos(values):\n",
    "    '''takes an array of values and returns an array of booleans indicating which positions it could fit'''\n",
    "    \n",
    "    test_array = np.array([True for i in range(num_rules)])\n",
    "    for val in values:\n",
    "        # Get whether this value is valid for each rule\n",
    "        valid = np.array(rules.apply(lambda x: (x['r1_min'] <= val <= x['r1_max']) | \n",
    "                       (x['r2_min'] <= val <= x['r2_max']), axis=1))\n",
    " \n",
    "        # now and that with our test_array\n",
    "        test_array = valid & test_array\n",
    "#        print(val, test_array)\n",
    "      \n",
    "    return test_array"
   ]
  },
  {
   "cell_type": "markdown",
   "metadata": {},
   "source": [
    "This tells us that the first column can only be position 1, but we could have more than one valid position so we need to build a dataframe and then work through that.  "
   ]
  },
  {
   "cell_type": "code",
   "execution_count": 123,
   "metadata": {},
   "outputs": [],
   "source": [
    "valid_positions = pd.DataFrame()\n",
    "\n",
    "for idx, pos_vals in enumerate(val_tickets_T):\n",
    "\n",
    "    valid_positions[idx] = test_pos(pos_vals)"
   ]
  },
  {
   "cell_type": "code",
   "execution_count": 126,
   "metadata": {},
   "outputs": [],
   "source": [
    "# Now we loop through there, looking for columns which have only one true, then dropping the corresponding row\n",
    "positions_to_rules = [-1 for i in range(rules.shape[0])]\n",
    "\n",
    "while valid_positions.shape[0]>0:\n",
    "    \n",
    "    # This gives us the column where we have only one True\n",
    "    pos_num = np.where((valid_positions.sum(axis=0))==1)[0][0]\n",
    "    \n",
    "    # Get position in that column of the True\n",
    "    rule_num = valid_positions[pos_num][valid_positions[pos_num]==True].index[0]\n",
    "    \n",
    "    # Store that rule_num in the positions_to_rules array\n",
    "    positions_to_rules[pos_num] = rule_num\n",
    "    \n",
    "    # drop that row from our array\n",
    "    valid_positions = valid_positions.drop(rule_num)"
   ]
  },
  {
   "cell_type": "code",
   "execution_count": 127,
   "metadata": {},
   "outputs": [
    {
     "data": {
      "text/plain": [
       "[5, 3, 10, 11, 9, 19, 16, 12, 8, 2, 7, 6, 14, 13, 1, 0, 17, 4, 18, 15]"
      ]
     },
     "execution_count": 127,
     "metadata": {},
     "output_type": "execute_result"
    }
   ],
   "source": [
    "positions_to_rules"
   ]
  },
  {
   "cell_type": "code",
   "execution_count": 128,
   "metadata": {},
   "outputs": [
    {
     "data": {
      "text/html": [
       "<div>\n",
       "<style scoped>\n",
       "    .dataframe tbody tr th:only-of-type {\n",
       "        vertical-align: middle;\n",
       "    }\n",
       "\n",
       "    .dataframe tbody tr th {\n",
       "        vertical-align: top;\n",
       "    }\n",
       "\n",
       "    .dataframe thead th {\n",
       "        text-align: right;\n",
       "    }\n",
       "</style>\n",
       "<table border=\"1\" class=\"dataframe\">\n",
       "  <thead>\n",
       "    <tr style=\"text-align: right;\">\n",
       "      <th></th>\n",
       "      <th>rule</th>\n",
       "      <th>r1_min</th>\n",
       "      <th>r1_max</th>\n",
       "      <th>r2_min</th>\n",
       "      <th>r2_max</th>\n",
       "    </tr>\n",
       "  </thead>\n",
       "  <tbody>\n",
       "    <tr>\n",
       "      <th>0</th>\n",
       "      <td>departure location</td>\n",
       "      <td>47</td>\n",
       "      <td>874</td>\n",
       "      <td>885</td>\n",
       "      <td>960</td>\n",
       "    </tr>\n",
       "    <tr>\n",
       "      <th>1</th>\n",
       "      <td>departure station</td>\n",
       "      <td>25</td>\n",
       "      <td>616</td>\n",
       "      <td>622</td>\n",
       "      <td>964</td>\n",
       "    </tr>\n",
       "    <tr>\n",
       "      <th>2</th>\n",
       "      <td>departure platform</td>\n",
       "      <td>42</td>\n",
       "      <td>807</td>\n",
       "      <td>825</td>\n",
       "      <td>966</td>\n",
       "    </tr>\n",
       "    <tr>\n",
       "      <th>3</th>\n",
       "      <td>departure track</td>\n",
       "      <td>36</td>\n",
       "      <td>560</td>\n",
       "      <td>583</td>\n",
       "      <td>965</td>\n",
       "    </tr>\n",
       "    <tr>\n",
       "      <th>4</th>\n",
       "      <td>departure date</td>\n",
       "      <td>37</td>\n",
       "      <td>264</td>\n",
       "      <td>289</td>\n",
       "      <td>968</td>\n",
       "    </tr>\n",
       "  </tbody>\n",
       "</table>\n",
       "</div>"
      ],
      "text/plain": [
       "                 rule  r1_min  r1_max  r2_min  r2_max\n",
       "0  departure location      47     874     885     960\n",
       "1   departure station      25     616     622     964\n",
       "2  departure platform      42     807     825     966\n",
       "3     departure track      36     560     583     965\n",
       "4      departure date      37     264     289     968"
      ]
     },
     "execution_count": 128,
     "metadata": {},
     "output_type": "execute_result"
    }
   ],
   "source": [
    "rules.head()"
   ]
  },
  {
   "cell_type": "code",
   "execution_count": 130,
   "metadata": {},
   "outputs": [
    {
     "data": {
      "text/html": [
       "<div>\n",
       "<style scoped>\n",
       "    .dataframe tbody tr th:only-of-type {\n",
       "        vertical-align: middle;\n",
       "    }\n",
       "\n",
       "    .dataframe tbody tr th {\n",
       "        vertical-align: top;\n",
       "    }\n",
       "\n",
       "    .dataframe thead th {\n",
       "        text-align: right;\n",
       "    }\n",
       "</style>\n",
       "<table border=\"1\" class=\"dataframe\">\n",
       "  <thead>\n",
       "    <tr style=\"text-align: right;\">\n",
       "      <th></th>\n",
       "      <th>rule</th>\n",
       "      <th>r1_min</th>\n",
       "      <th>r1_max</th>\n",
       "      <th>r2_min</th>\n",
       "      <th>r2_max</th>\n",
       "    </tr>\n",
       "  </thead>\n",
       "  <tbody>\n",
       "    <tr>\n",
       "      <th>0</th>\n",
       "      <td>departure location</td>\n",
       "      <td>47</td>\n",
       "      <td>874</td>\n",
       "      <td>885</td>\n",
       "      <td>960</td>\n",
       "    </tr>\n",
       "    <tr>\n",
       "      <th>1</th>\n",
       "      <td>departure station</td>\n",
       "      <td>25</td>\n",
       "      <td>616</td>\n",
       "      <td>622</td>\n",
       "      <td>964</td>\n",
       "    </tr>\n",
       "    <tr>\n",
       "      <th>2</th>\n",
       "      <td>departure platform</td>\n",
       "      <td>42</td>\n",
       "      <td>807</td>\n",
       "      <td>825</td>\n",
       "      <td>966</td>\n",
       "    </tr>\n",
       "    <tr>\n",
       "      <th>3</th>\n",
       "      <td>departure track</td>\n",
       "      <td>36</td>\n",
       "      <td>560</td>\n",
       "      <td>583</td>\n",
       "      <td>965</td>\n",
       "    </tr>\n",
       "    <tr>\n",
       "      <th>4</th>\n",
       "      <td>departure date</td>\n",
       "      <td>37</td>\n",
       "      <td>264</td>\n",
       "      <td>289</td>\n",
       "      <td>968</td>\n",
       "    </tr>\n",
       "    <tr>\n",
       "      <th>5</th>\n",
       "      <td>departure time</td>\n",
       "      <td>27</td>\n",
       "      <td>325</td>\n",
       "      <td>346</td>\n",
       "      <td>954</td>\n",
       "    </tr>\n",
       "  </tbody>\n",
       "</table>\n",
       "</div>"
      ],
      "text/plain": [
       "                 rule  r1_min  r1_max  r2_min  r2_max\n",
       "0  departure location      47     874     885     960\n",
       "1   departure station      25     616     622     964\n",
       "2  departure platform      42     807     825     966\n",
       "3     departure track      36     560     583     965\n",
       "4      departure date      37     264     289     968\n",
       "5      departure time      27     325     346     954"
      ]
     },
     "execution_count": 130,
     "metadata": {},
     "output_type": "execute_result"
    }
   ],
   "source": [
    "# let's find 6 fields that start with word departure\n",
    "rules[rules['rule'].str.find('departure')==0]"
   ]
  },
  {
   "cell_type": "code",
   "execution_count": 138,
   "metadata": {},
   "outputs": [],
   "source": [
    "#looks like that's rules 0 through 5 so find those positions in our positions_to_rules array\n",
    "\n",
    "answer = 1\n",
    "for i in range(6):\n",
    "    answer *= my_vals[positions_to_rules.index(i)]"
   ]
  },
  {
   "cell_type": "code",
   "execution_count": 139,
   "metadata": {},
   "outputs": [
    {
     "data": {
      "text/plain": [
       "1382443095281"
      ]
     },
     "execution_count": 139,
     "metadata": {},
     "output_type": "execute_result"
    }
   ],
   "source": [
    "answer"
   ]
  }
 ],
 "metadata": {
  "kernelspec": {
   "display_name": "Python 3",
   "language": "python",
   "name": "python3"
  },
  "language_info": {
   "codemirror_mode": {
    "name": "ipython",
    "version": 3
   },
   "file_extension": ".py",
   "mimetype": "text/x-python",
   "name": "python",
   "nbconvert_exporter": "python",
   "pygments_lexer": "ipython3",
   "version": "3.8.3"
  }
 },
 "nbformat": 4,
 "nbformat_minor": 4
}

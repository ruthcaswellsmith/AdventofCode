{
 "cells": [
  {
   "cell_type": "markdown",
   "metadata": {},
   "source": [
    "## Day 9"
   ]
  },
  {
   "cell_type": "markdown",
   "metadata": {},
   "source": [
    "### Part 1\n",
    "\n",
    "With your neighbor happily enjoying their video game, you turn your attention to an open data port on the little screen in the seat in front of you.\n",
    "\n",
    "Though the port is non-standard, you manage to connect it to your computer through the clever use of several paperclips. Upon connection, the port outputs a series of numbers (your puzzle input).\n",
    "\n",
    "The data appears to be encrypted with the eXchange-Masking Addition System (XMAS) which, conveniently for you, is an old cypher with an important weakness.\n",
    "\n",
    "XMAS starts by transmitting a preamble of 25 numbers. After that, each number you receive should be the sum of any two of the 25 immediately previous numbers. The two numbers will have different values, and there might be more than one such pair.\n",
    "\n",
    "For example, suppose your preamble consists of the numbers 1 through 25 in a random order. To be valid, the next number must be the sum of two of those numbers:\n",
    "\n",
    "- 26 would be a valid next number, as it could be 1 plus 25 (or many other pairs, like 2 and 24).\n",
    "- 49 would be a valid next number, as it is the sum of 24 and 25.\n",
    "- 100 would not be valid; no two of the previous 25 numbers sum to 100.\n",
    "- 50 would also not be valid; although 25 appears in the previous 25 numbers, the two numbers in the pair must be different.\n",
    "\n",
    "Suppose the 26th number is 45, and the first number (no longer an option, as it is more than 25 numbers ago) was 20. Now, for the next number to be valid, there needs to be some pair of numbers among 1-19, 21-25, or 45 that add up to it:\n",
    "- 26 would still be a valid next number, as 1 and 25 are still within the previous 25 numbers.\n",
    "- 65 would not be valid, as no two of the available numbers sum to it.\n",
    "- 64 and 66 would both be valid, as they are the result of 19+45 and 21+45 respectively.\n",
    "\n",
    "Here is a larger example which only considers the previous 5 numbers (and has a preamble of length 5):\n",
    "\n",
    "- 35\n",
    "- 20\n",
    "- 15\n",
    "- 25\n",
    "- 47\n",
    "- 40\n",
    "- 62\n",
    "- 55\n",
    "-  65\n",
    "- 95\n",
    "- 102\n",
    "- 117\n",
    "- 150\n",
    "- 182\n",
    "- 127\n",
    "- 219\n",
    "- 299\n",
    "- 277\n",
    "- 309\n",
    "- 576\n",
    "\n",
    "In this example, after the 5-number preamble, almost every number is the sum of two of the previous 5 numbers; the only number that does not follow this rule is 127.\n",
    "\n",
    "The first step of attacking the weakness in the XMAS data is to find the first number in the list (after the preamble) which is not the sum of two of the 25 numbers before it. What is the first number that does not have this property?"
   ]
  },
  {
   "cell_type": "code",
   "execution_count": 1,
   "metadata": {},
   "outputs": [],
   "source": [
    "# import packages\n",
    "import pandas as pd\n",
    "import numpy as np"
   ]
  },
  {
   "cell_type": "code",
   "execution_count": 2,
   "metadata": {},
   "outputs": [
    {
     "data": {
      "text/html": [
       "<div>\n",
       "<style scoped>\n",
       "    .dataframe tbody tr th:only-of-type {\n",
       "        vertical-align: middle;\n",
       "    }\n",
       "\n",
       "    .dataframe tbody tr th {\n",
       "        vertical-align: top;\n",
       "    }\n",
       "\n",
       "    .dataframe thead th {\n",
       "        text-align: right;\n",
       "    }\n",
       "</style>\n",
       "<table border=\"1\" class=\"dataframe\">\n",
       "  <thead>\n",
       "    <tr style=\"text-align: right;\">\n",
       "      <th></th>\n",
       "      <th>number</th>\n",
       "    </tr>\n",
       "  </thead>\n",
       "  <tbody>\n",
       "    <tr>\n",
       "      <th>0</th>\n",
       "      <td>16</td>\n",
       "    </tr>\n",
       "    <tr>\n",
       "      <th>1</th>\n",
       "      <td>45</td>\n",
       "    </tr>\n",
       "    <tr>\n",
       "      <th>2</th>\n",
       "      <td>42</td>\n",
       "    </tr>\n",
       "    <tr>\n",
       "      <th>3</th>\n",
       "      <td>47</td>\n",
       "    </tr>\n",
       "    <tr>\n",
       "      <th>4</th>\n",
       "      <td>31</td>\n",
       "    </tr>\n",
       "  </tbody>\n",
       "</table>\n",
       "</div>"
      ],
      "text/plain": [
       "   number\n",
       "0      16\n",
       "1      45\n",
       "2      42\n",
       "3      47\n",
       "4      31"
      ]
     },
     "execution_count": 2,
     "metadata": {},
     "output_type": "execute_result"
    }
   ],
   "source": [
    "numbers = pd.read_csv('input_data/Day9.txt', header=None)\n",
    "\n",
    "numbers.shape\n",
    "\n",
    "numbers.columns=['number']\n",
    "\n",
    "numbers.head()"
   ]
  },
  {
   "cell_type": "code",
   "execution_count": 3,
   "metadata": {},
   "outputs": [],
   "source": [
    "def valid_num(num, list_of_nums):\n",
    "    '''takes a number and list of numbers and returns\n",
    "    True if the number is the sum of any of the numbers in the list\n",
    "    False if the number is not the summ of any of the numbers in the list'''\n",
    "    \n",
    "    for idx, val1 in enumerate(list_of_nums):\n",
    "        for val2 in list_of_nums[idx+1:]:\n",
    "            if val1+val2 == num:\n",
    "                return True\n",
    "    return False"
   ]
  },
  {
   "cell_type": "code",
   "execution_count": 4,
   "metadata": {},
   "outputs": [
    {
     "data": {
      "text/plain": [
       "True"
      ]
     },
     "execution_count": 4,
     "metadata": {},
     "output_type": "execute_result"
    }
   ],
   "source": [
    "# Let's test this\n",
    "test_num=40\n",
    "test_list = [35,20,15,25,47,40]\n",
    "valid_num(test_num,test_list)"
   ]
  },
  {
   "cell_type": "code",
   "execution_count": 5,
   "metadata": {},
   "outputs": [
    {
     "name": "stdout",
     "output_type": "stream",
     "text": [
      "And our bad number is:  2089807806\n"
     ]
    }
   ],
   "source": [
    "# Now let's loop through our dataframe and do this based on a variable length list of previous numbers\n",
    "\n",
    "# This is the length of the list we're going to test and \n",
    "# also is our starting position\n",
    "length_of_list = 25\n",
    "position = length_of_list\n",
    "\n",
    "total_numbers = numbers.shape[0]\n",
    "\n",
    "# Now we loop through our list of numbers, grabbing a number and the list of previous numbers\n",
    "nums_valid = True\n",
    "while nums_valid and position<total_numbers:\n",
    "    test_num = numbers.iloc[position]['number']\n",
    "    prev_list = numbers.iloc[position-length_of_list:position]['number'].to_list()\n",
    "    \n",
    "    nums_valid = valid_num(test_num,prev_list)\n",
    "\n",
    "#    print(position, test_num, prev_list, nums_valid)\n",
    "\n",
    "    # Increment our position\n",
    "    position += 1\n",
    "\n",
    "print('And our bad number is: ', test_num)"
   ]
  },
  {
   "cell_type": "markdown",
   "metadata": {},
   "source": [
    "### Part 2\n",
    "The final step in breaking the XMAS encryption relies on the invalid number you just found: you must find a contiguous set of at least two numbers in your list which sum to the invalid number from step 1.\n",
    "\n",
    "Again consider the above example:\n",
    "\n",
    "- 35\n",
    "- 20\n",
    "- 15\n",
    "- 25\n",
    "- 47\n",
    "- 40\n",
    "- 62\n",
    "- 55\n",
    "- 65\n",
    "- 95\n",
    "- 102\n",
    "- 117\n",
    "- 150\n",
    "- 182\n",
    "- 127\n",
    "- 219\n",
    "- 299\n",
    "- 277\n",
    "- 309\n",
    "- 576\n",
    "\n",
    "In this list, adding up all of the numbers from 15 through 40 produces the invalid number from step 1, 127. (Of course, the contiguous set of numbers in your actual list might be much longer.)\n",
    "\n",
    "To find the encryption weakness, add together the smallest and largest number in this contiguous range; in this example, these are 15 and 47, producing 62.\n",
    "\n",
    "What is the encryption weakness in your XMAS-encrypted list of numbers?"
   ]
  },
  {
   "cell_type": "code",
   "execution_count": 6,
   "metadata": {},
   "outputs": [],
   "source": [
    "# let's save our invalid number and drop it from our data\n",
    "invalid_num = test_num\n",
    "numbers = numbers[numbers['number'] != invalid_num]\n",
    "numbers.reset_index(inplace=True, drop = True)"
   ]
  },
  {
   "cell_type": "code",
   "execution_count": 7,
   "metadata": {},
   "outputs": [
    {
     "data": {
      "text/plain": [
       "(999, 1)"
      ]
     },
     "execution_count": 7,
     "metadata": {},
     "output_type": "execute_result"
    }
   ],
   "source": [
    "numbers.shape"
   ]
  },
  {
   "cell_type": "code",
   "execution_count": 8,
   "metadata": {},
   "outputs": [],
   "source": [
    "def find_range(list_of_nums, target):\n",
    "    '''takes a list of numbers and determines if there is a contiguous range in that list\n",
    "    which sum to the target number.'''\n",
    "    \n",
    "    too_big = False\n",
    "    pos = 0\n",
    "    while not too_big:\n",
    "        \n",
    "#        print(pos, sum(list_of_nums[0:pos+2]))\n",
    "        \n",
    "        if sum(list_of_nums[0:pos+2]) == target:\n",
    "               return True\n",
    "        elif sum(list_of_nums[0:pos+2]) > target:\n",
    "            too_big = True\n",
    "        \n",
    "        pos += 1\n",
    "                 \n",
    "    return False"
   ]
  },
  {
   "cell_type": "code",
   "execution_count": 9,
   "metadata": {},
   "outputs": [
    {
     "name": "stdout",
     "output_type": "stream",
     "text": [
      "2089807806 2089807806 245848639\n"
     ]
    }
   ],
   "source": [
    "# Now we loop through our dataframe, sending in a new list of numbers each time\n",
    "\n",
    "found_range = False\n",
    "total_numbers = numbers.shape[0]\n",
    "start_position = 0\n",
    "\n",
    "while not found_range:\n",
    "    \n",
    "    list_to_check = numbers.iloc[start_position:total_numbers]['number'].tolist()\n",
    "    start_position += 1\n",
    "    \n",
    "    found_range = find_range(list_to_check, invalid_num)\n",
    "\n",
    "# Ok we've got our list that contains the contiguous range so we just need to go through it\n",
    "# and find the min and max of the range and sum them.  \n",
    "\n",
    "max_pos=2\n",
    "found = False\n",
    "\n",
    "while not found:\n",
    "    found = (sum(list_to_check[0:max_pos+2]) == invalid_num)\n",
    "    max_pos += 1\n",
    "\n",
    "print(invalid_num, sum(list_to_check[0:max_pos+1]), min((list_to_check[0:max_pos+1])) + max((list_to_check[0:max_pos+1])))"
   ]
  }
 ],
 "metadata": {
  "kernelspec": {
   "display_name": "Python 3",
   "language": "python",
   "name": "python3"
  },
  "language_info": {
   "codemirror_mode": {
    "name": "ipython",
    "version": 3
   },
   "file_extension": ".py",
   "mimetype": "text/x-python",
   "name": "python",
   "nbconvert_exporter": "python",
   "pygments_lexer": "ipython3",
   "version": "3.8.3"
  }
 },
 "nbformat": 4,
 "nbformat_minor": 4
}

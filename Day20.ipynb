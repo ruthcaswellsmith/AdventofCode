{
 "cells": [
  {
   "cell_type": "markdown",
   "metadata": {},
   "source": [
    "# Day 20\n",
    "\n",
    "## Part1"
   ]
  },
  {
   "cell_type": "code",
   "execution_count": 1,
   "metadata": {},
   "outputs": [],
   "source": [
    "import numpy as np"
   ]
  },
  {
   "cell_type": "markdown",
   "metadata": {},
   "source": [
    "### Read input"
   ]
  },
  {
   "cell_type": "code",
   "execution_count": 2,
   "metadata": {},
   "outputs": [],
   "source": [
    "# Open file\n",
    "#f = open(\"Day20.txt\", \"r\")\n",
    "f = open(\"input_data/Day20.txt\", \"r\")\n",
    "\n",
    "# Initialize our dictionary, which consists of a key of tile number and a value of\n",
    "# a numpy array containing the image and a flag whether it is used or not\n",
    "tiles = {}\n",
    "\n",
    "line = f.readline()\n",
    "while line:\n",
    "\n",
    "    # Process the tile number\n",
    "    line = line.strip('\\n')\n",
    "    line = line.strip('Tile')\n",
    "    line = line.strip(':')\n",
    "    line = line.strip(' ')\n",
    "    tile_num = line\n",
    "\n",
    "    # Now we read each line of the tile\n",
    "    # initialize our numpy array\n",
    "    tile_image = np.zeros([10, 10], dtype='int')\n",
    "\n",
    "    line = f.readline()\n",
    "    num_row=0\n",
    "    while (line != '\\n') & (line != ''):\n",
    "        line = line.strip('\\n')\n",
    "        tile_image[num_row] = np.array([True if i=='#' else False for i in line])\n",
    "        num_row += 1\n",
    "        line = f.readline()\n",
    "\n",
    "    # we're done reading this tile so store it in our dictionary\n",
    "    tiles[tile_num] = {'image': tile_image, 'edges': {'0':'', '90':'', '180':'', '270':''}, 'matches': {}}\n",
    "\n",
    "    # we've gotten a blank line so read the next tile number\n",
    "    line = f.readline()\n",
    "\n",
    "# Close file\n",
    "f.close()\n",
    "\n",
    "# This is the dimension of our tiles (10x10)\n",
    "num_dim = 10\n",
    "\n",
    "# This is the dimension of our cropped tiles (8x8)\n",
    "crop_dim = num_dim -2\n",
    "\n",
    "# This is the dimension of our puzzle \n",
    "puzzle_dim = int(np.sqrt(len(tiles.keys())))\n",
    "\n",
    "# Directions\n",
    "directions = ['0','90','180','270']\n",
    "\n",
    "# Number of circuits (this is the number of times we need to build edges as we work our way inside)\n",
    "num_circuits = round(puzzle_dim / 2)\n",
    "\n",
    "# initialize our puzzle\n",
    "puzzle = np.zeros([puzzle_dim*crop_dim, puzzle_dim*crop_dim], dtype='int')\n",
    "puzzle_ids = []\n",
    "for i in range(puzzle_dim):\n",
    "    puzzle_ids.append(['0' for i in range(puzzle_dim)])"
   ]
  },
  {
   "cell_type": "markdown",
   "metadata": {},
   "source": [
    "### Function Definitions"
   ]
  },
  {
   "cell_type": "code",
   "execution_count": 3,
   "metadata": {},
   "outputs": [],
   "source": [
    "\n",
    "\n",
    "def match_tiles(tile1, tile2):\n",
    "    '''takes two tiles and matches all free edges on tile1 with any free edges on tile2.\n",
    "    Updates both tile1 and tile2 if a match is found'''\n",
    "\n",
    "    # Check each available edge on tile1\n",
    "    for dir1 in directions:\n",
    "        if tiles[tile1]['edges'][dir1]=='':\n",
    "            for dir2 in directions:\n",
    "                if tiles[tile2]['edges'][dir2]=='':\n",
    "                    if match_edges(tile1, dir1, tile2, dir2):\n",
    " #                       print('found a match with ', tile1, dir1, tile2, dir2)\n",
    "                        tiles[tile1]['edges'][dir1] = tile2\n",
    "                        tiles[tile2]['edges'][dir2] = tile1\n",
    "                        return True\n",
    "    return False\n",
    "\n",
    "\n",
    "def get_edge(tile_num, dir):\n",
    "    '''takes a tile and a direction and returns an edge'''\n",
    "\n",
    "    if dir=='90':\n",
    "        return tiles[tile_num]['image'][0]\n",
    "    elif dir=='0':\n",
    "        return tiles[tile_num]['image'][:,num_dim-1]\n",
    "    elif dir == '270':\n",
    "        return tiles[tile_num]['image'][num_dim-1]\n",
    "    elif dir == '180':\n",
    "        return tiles[tile_num]['image'][:,0]\n",
    "\n",
    "\n",
    "def match_edges(tile1, dir1, tile2, dir2):\n",
    "    '''takes two tiles and two directions and returns True if a match'''\n",
    " \n",
    "    edge1 = get_edge(tile1, dir1)\n",
    "    edge2 = get_edge(tile2, dir2)\n",
    "    \n",
    "    # Try edge flipped or not\n",
    "    if np.sum(edge1 == edge2) == num_dim:\n",
    "        return True\n",
    "    elif np.sum(edge1 == np.flip(edge2)) == num_dim:\n",
    "        return True\n",
    "    else:\n",
    "        return False\n",
    "    \n",
    "    "
   ]
  },
  {
   "cell_type": "markdown",
   "metadata": {},
   "source": [
    "### Main Loop"
   ]
  },
  {
   "cell_type": "code",
   "execution_count": 4,
   "metadata": {},
   "outputs": [],
   "source": [
    "# We'll loop through our tiles, matching with each tile except itself\n",
    "\n",
    "for tile1 in tiles.keys():\n",
    "    \n",
    "    for tile2 in tiles.keys():\n",
    "        \n",
    "        if (tile1 != tile2):\n",
    "            match_tiles(tile1, tile2)\n",
    "    "
   ]
  },
  {
   "cell_type": "code",
   "execution_count": 5,
   "metadata": {},
   "outputs": [
    {
     "name": "stdout",
     "output_type": "stream",
     "text": [
      "number of corners:  4\n",
      "number of edges:  40\n",
      "number of middles:  100\n",
      "product of corner tiles: 63187742854073\n"
     ]
    }
   ],
   "source": [
    "# Now let's count corner, edge, and middle pieces\n",
    "\n",
    "corners = []\n",
    "edges = []\n",
    "middles = []\n",
    "\n",
    "for tile in tiles.keys():\n",
    "    \n",
    "    matched_edges = 0\n",
    "    for dir in directions:\n",
    "        \n",
    "        if tiles[tile]['edges'][dir] != '':\n",
    "            matched_edges += 1\n",
    "\n",
    "    if matched_edges == 2:\n",
    "        corners.append(tile)\n",
    "    elif matched_edges == 3:\n",
    "        edges.append(tile)\n",
    "    elif matched_edges == 4:\n",
    "        middles.append(tile)\n",
    "        \n",
    "print('number of corners: ', len(corners))\n",
    "print('number of edges: ', len(edges))\n",
    "print('number of middles: ', len(middles))\n",
    "\n",
    "prod = 1\n",
    "for tile in corners:\n",
    "    prod *= int(tile)\n",
    "    \n",
    "print('product of corner tiles:', prod)"
   ]
  },
  {
   "cell_type": "markdown",
   "metadata": {},
   "source": [
    "## Part 2"
   ]
  },
  {
   "cell_type": "markdown",
   "metadata": {},
   "source": [
    "### Function Definitions"
   ]
  },
  {
   "cell_type": "code",
   "execution_count": 6,
   "metadata": {},
   "outputs": [],
   "source": [
    "def crop_image(image):\n",
    "    '''takes a num_dim square image and removes the borders'''\n",
    "    \n",
    "    cropped_image = np.empty([num_dim-2, num_dim-2], dtype='bool')\n",
    "    for i in range(num_dim-2):\n",
    "        for j in range(num_dim-2):\n",
    "            cropped_image[i][j] = image[i+1][j+1]\n",
    "            \n",
    "    return cropped_image"
   ]
  },
  {
   "cell_type": "code",
   "execution_count": 7,
   "metadata": {},
   "outputs": [],
   "source": [
    "def rotate_tile(tile):\n",
    "    '''rotates a tile CCW 90'''\n",
    "    \n",
    "    temp = tiles[tile]['edges']['270']\n",
    "    tiles[tile]['edges']['270'] = tiles[tile]['edges']['180']\n",
    "    tiles[tile]['edges']['180'] = tiles[tile]['edges']['90']    \n",
    "    tiles[tile]['edges']['90'] = tiles[tile]['edges']['0']\n",
    "    tiles[tile]['edges']['0'] = temp\n",
    "    \n",
    "    tiles[tile]['image'] = np.rot90(tiles[tile]['image'])\n",
    "\n",
    "    return\n"
   ]
  },
  {
   "cell_type": "code",
   "execution_count": 8,
   "metadata": {},
   "outputs": [],
   "source": [
    "def flip_tile(tile, axis):\n",
    "    '''flips a tile about the vertical axis'''\n",
    "    \n",
    "    if axis == 'N-S':\n",
    "        temp = tiles[tile]['edges']['180']\n",
    "        tiles[tile]['edges']['180'] = tiles[tile]['edges']['0']    \n",
    "        tiles[tile]['edges']['0'] = temp\n",
    "    \n",
    "        tiles[tile]['image'] = np.flip(tiles[tile]['image'], axis=1)\n",
    "    \n",
    "    else: # flip along E-W axis\n",
    "        temp = tiles[tile]['edges']['90']\n",
    "        tiles[tile]['edges']['90'] = tiles[tile]['edges']['270']    \n",
    "        tiles[tile]['edges']['270'] = temp\n",
    "    \n",
    "        tiles[tile]['image'] = np.flip(tiles[tile]['image'], axis=0)\n",
    "        \n",
    "    return"
   ]
  },
  {
   "cell_type": "code",
   "execution_count": 9,
   "metadata": {},
   "outputs": [],
   "source": [
    "def orient_next_tile(tile1, dir1):\n",
    "    '''finds tile2 that matches tile1 along dir1 and re-orients it to line up with tile1\n",
    "    returns tile2'''\n",
    "    \n",
    "    # find which tile matches this edge of tile1\n",
    "    tile2 = tiles[tile1]['edges'][dir1]\n",
    "    # find which edge of tile2 matches this edge of tile1\n",
    "    for direction in directions:\n",
    "        if tiles[tile2]['edges'][direction] == tile1:\n",
    "            dir2 = direction\n",
    "    \n",
    "    diff = (int(dir2) - int(dir1))%360\n",
    "    if diff == 0:\n",
    "        # rotate 2x\n",
    "        rotate_tile(tile2)\n",
    "        rotate_tile(tile2)\n",
    "        dir2 = str((180+int(dir2))%360)\n",
    "    if diff == 90:\n",
    "        # rotate 1x\n",
    "        rotate_tile(tile2)\n",
    "        dir2 = str((90+int(dir2))%360)\n",
    "    if diff == 180:\n",
    "        # don't rotate\n",
    "        pass\n",
    "    if diff == 270:\n",
    "        # rotate 3x\n",
    "        rotate_tile(tile2)\n",
    "        rotate_tile(tile2)\n",
    "        rotate_tile(tile2)\n",
    "        dir2 = str((270+int(dir2))%360)\n",
    "        \n",
    "    # Now check if edges match propertly or if edge 2 needs to be reversed\n",
    "    # if it does we flip the tile along the appropriate axis\n",
    "\n",
    "    # get the edges\n",
    "    edge1 = get_edge(tile1, dir1)\n",
    "    edge2 = get_edge(tile2, dir2)\n",
    "    \n",
    "    if np.sum(edge1 == np.flip(edge2)) == 10:\n",
    "        if dir1 in ['0','180']:\n",
    "            flip_tile(tile2, 'E-W')\n",
    "        else:\n",
    "            flip_tile(tile2, 'N-S')\n",
    "\n",
    "    return tile2"
   ]
  },
  {
   "cell_type": "code",
   "execution_count": 10,
   "metadata": {},
   "outputs": [],
   "source": [
    "def get_corner_tile(circuit_num):\n",
    "    '''starts with a circuit num and finds a corner piece'''\n",
    "    \n",
    "    if circuit_num == 0:\n",
    "        # we have to initialize it\n",
    "        \n",
    "        # test case\n",
    "        # we're going to start with a corner and rotate it so it's N and W edges are unconnected\n",
    "        # and it's oriented the way we want\n",
    "#        corner_tile='1951'\n",
    "#        flip_tile(corner_tile, 'E-W')\n",
    "        \n",
    "        # Real data\n",
    "        corner_tile = '3209'\n",
    "        \n",
    "    else:\n",
    "        \n",
    "        # we grab puzzle piece above this location to find out our tile number\n",
    "        upper_tile = puzzle_ids[circuit_num-1][circuit_num]\n",
    "        print(upper_tile)\n",
    "        \n",
    "        # Orient the tile along the bottom edge\n",
    "        corner_tile = orient_next_tile(upper_tile, '270')\n",
    "            \n",
    "    # fill in puzzle id and puzzle with the corner image\n",
    "    place_tile(corner_tile, circuit_num, circuit_num)   \n",
    "\n",
    "    return corner_tile\n",
    "\n"
   ]
  },
  {
   "cell_type": "code",
   "execution_count": 11,
   "metadata": {},
   "outputs": [],
   "source": [
    "def build_circuit(circuit_num, corner_tile):\n",
    "    '''builds a circuit, starting in NW corner with a corner tile'''\n",
    "    \n",
    "    # if we have an odd puzzle dimension and we're at the last circle, we just have a middle\n",
    "    # piece and we're done\n",
    "    \n",
    "    if (circuit_num == round(puzzle_dim/2)) and (puzzle_dim%2!=0):\n",
    "        return\n",
    "    \n",
    "\n",
    "    i, j = circuit_num, circuit_num\n",
    "    print('Circuit Number:', circuit_num)\n",
    "    \n",
    "    tile1 = corner_tile\n",
    "    \n",
    "    for j in range(circuit_num+1,puzzle_dim-circuit_num):\n",
    "\n",
    " #       print('Northern:', i,j)\n",
    "        # build along northern edge\n",
    "        tile2 = orient_next_tile(tile1, '0')\n",
    " #       print(tile1, tile2)\n",
    "        \n",
    "        # place tile\n",
    "        place_tile(tile2, i, j)\n",
    "        \n",
    "        # Now move on\n",
    "        tile1 = tile2\n",
    "        \n",
    "    for i in range(circuit_num+1,puzzle_dim-circuit_num):\n",
    "        # build along eastern edge\n",
    " #       print('Eastern:', i,j)\n",
    "        tile2 = orient_next_tile(tile1, '270')\n",
    " #       print(tile1, tile2)\n",
    "\n",
    "        # place tile\n",
    "        place_tile(tile2, i, j)\n",
    "    \n",
    "        # Now move on\n",
    "        tile1 = tile2\n",
    "\n",
    "    for j in range(puzzle_dim-circuit_num-2, circuit_num-1, -1):\n",
    " \n",
    "        # build along southern edge\n",
    " #       print('Southern:', i,j)\n",
    "        tile2 = orient_next_tile(tile1, '180')\n",
    " #       print(tile1, tile2)\n",
    "\n",
    "        # place tile\n",
    "        place_tile(tile2, i, j)\n",
    "    \n",
    "        # Now move on\n",
    "        tile1 = tile2\n",
    "\n",
    "    for i in range(puzzle_dim-circuit_num-2, circuit_num, -1):\n",
    "        # build along southern edge\n",
    " #       print('Western:', i,j)\n",
    "        tile2 = orient_next_tile(tile1, '90')\n",
    " #       print(tile1, tile2)\n",
    "\n",
    "        # place tile\n",
    "        place_tile(tile2, i, j)\n",
    "   \n",
    "        # Now move on\n",
    "        tile1 = tile2\n",
    "\n",
    "    return"
   ]
  },
  {
   "cell_type": "code",
   "execution_count": 12,
   "metadata": {},
   "outputs": [],
   "source": [
    "def place_tile(tile, i, j):\n",
    "    '''places a tile into position i, j in our puzzle and puzzle id'''\n",
    "    \n",
    "    puzzle_ids[i][j] = tile\n",
    "    start_i = i * crop_dim\n",
    "    start_j = j * crop_dim\n",
    "    puzzle[start_i:start_i+crop_dim,start_j:start_j+crop_dim] = crop_image(tiles[tile]['image'])\n",
    "\n",
    "    return\n"
   ]
  },
  {
   "cell_type": "markdown",
   "metadata": {},
   "source": [
    "### Main Loop"
   ]
  },
  {
   "cell_type": "code",
   "execution_count": 13,
   "metadata": {},
   "outputs": [],
   "source": [
    "# Define our sea monster\n",
    "\n",
    "sea_monster = np.zeros([3,20], dtype='int')\n",
    "sea_monster[0,18]=1\n",
    "sea_monster[1,0]=1\n",
    "sea_monster[1,5]=1\n",
    "sea_monster[1,6]=1\n",
    "sea_monster[1,11]=1\n",
    "sea_monster[1,12]=1\n",
    "sea_monster[1,17]=1\n",
    "sea_monster[1,18]=1\n",
    "sea_monster[1,19]=1\n",
    "sea_monster[2,1]=1\n",
    "sea_monster[2,4]=1\n",
    "sea_monster[2,7]=1\n",
    "sea_monster[2,10]=1\n",
    "sea_monster[2,13]=1\n",
    "sea_monster[2,16]=1\n",
    "\n",
    "# Define number of matches we need\n",
    "matches = 15"
   ]
  },
  {
   "cell_type": "code",
   "execution_count": 14,
   "metadata": {},
   "outputs": [
    {
     "name": "stdout",
     "output_type": "stream",
     "text": [
      "Circuit Number: 0\n",
      "1193\n",
      "Circuit Number: 1\n",
      "2549\n",
      "Circuit Number: 2\n",
      "3673\n",
      "Circuit Number: 3\n",
      "3257\n",
      "Circuit Number: 4\n",
      "2131\n",
      "Circuit Number: 5\n",
      "[['3209', '1193', '2441', '2063', '3931', '3581', '3727', '1987', '1163', '3733', '2963', '3803'], ['2237', '1409', '2549', '1663', '2417', '3067', '2381', '2731', '2729', '1993', '2389', '2161'], ['3767', '1997', '3877', '3673', '2087', '2711', '3307', '1123', '3761', '3793', '3347', '1231'], ['2777', '3719', '1153', '1361', '3257', '2749', '2347', '1559', '3541', '2017', '2383', '2473'], ['2351', '3517', '1979', '1933', '3407', '2131', '2377', '1607', '1489', '2411', '1613', '1321'], ['1039', '2917', '2203', '2767', '3607', '1693', '2819', '3301', '3191', '1453', '2897', '1823'], ['2281', '3457', '3449', '2879', '3571', '1117', '3911', '3389', '1237', '2707', '2531', '1279'], ['2251', '3511', '3691', '3323', '3163', '1171', '3259', '2083', '1481', '1777', '1033', '3079'], ['2137', '1753', '3559', '1801', '1427', '2647', '1187', '2969', '2297', '1259', '1721', '1031'], ['3329', '3547', '3943', '2677', '2789', '2267', '1181', '2851', '2539', '3709', '1787', '1609'], ['2659', '1291', '3169', '1973', '2593', '1657', '2113', '2591', '1901', '3499', '1699', '1109'], ['3701', '2521', '3167', '3181', '3947', '3023', '2579', '2633', '2239', '3989', '2269', '1399']]\n"
     ]
    }
   ],
   "source": [
    "for i in range(round(puzzle_dim/2)):\n",
    "    \n",
    "    corner_tile = get_corner_tile(i)\n",
    "\n",
    "    build_circuit(i, corner_tile)\n",
    "\n",
    "print(puzzle_ids)"
   ]
  },
  {
   "cell_type": "code",
   "execution_count": 15,
   "metadata": {},
   "outputs": [],
   "source": [
    "\n",
    "\n",
    "def search_image():\n",
    "    '''takes the current puzzle image and searches it for sea monsters.  Returns the number\n",
    "    of monsters found'''\n",
    "    \n",
    "    sea_monsters = 0\n",
    "    for i in range(crop_dim*puzzle_dim-2): # loop down rows\n",
    "        for j in range(crop_dim*puzzle_dim-19): # loop across row\n",
    "            if (np.sum(np.sum(np.logical_and(sea_monster, puzzle[i:i+3,j:j+20]))) == 15):\n",
    "                sea_monsters += 1\n",
    "    return sea_monsters\n",
    "\n"
   ]
  },
  {
   "cell_type": "code",
   "execution_count": 16,
   "metadata": {},
   "outputs": [],
   "source": [
    "\n",
    "\n",
    "def search_all_orientations():\n",
    "    '''searches all orientations of the puzzle and returns the number of sea monsters\n",
    "    if it finds sea monsters'''\n",
    "\n",
    "    global puzzle\n",
    "    # Search puzzle image\n",
    "    sea_monsters = search_image()\n",
    "    if sea_monsters>0:\n",
    "        return sea_monsters\n",
    "    \n",
    "    # Rotate and search \n",
    "    puzzle = np.rot90(puzzle)\n",
    "    sea_monsters = search_image()\n",
    "    if sea_monsters>0:\n",
    "        return sea_monsters\n",
    " \n",
    "    # Rotate and search \n",
    "    puzzle = np.rot90(puzzle)\n",
    "    sea_monsters = search_image()\n",
    "    if sea_monsters>0:\n",
    "        return sea_monsters\n",
    " \n",
    "    # Rotate and search \n",
    "    puzzle = np.rot90(puzzle)\n",
    "    sea_monsters = search_image()\n",
    "    if sea_monsters>0:\n",
    "        return sea_monsters\n",
    " \n",
    "    # Flip and search\n",
    "    puzzle = np.flip(puzzle, axis=1)\n",
    "    sea_monsters = search_image()\n",
    "    if sea_monsters>0:\n",
    "        return sea_monsters\n",
    " \n",
    "    # Rotate and search \n",
    "    np.rot90(puzzle)\n",
    "    sea_monsters = search_image()\n",
    "    if sea_monsters>0:\n",
    "        return sea_monsters\n",
    " \n",
    "    # Rotate and search \n",
    "    np.rot90(puzzle)\n",
    "    sea_monsters = search_image()\n",
    "    if sea_monsters>0:\n",
    "        return sea_monsters\n",
    " \n",
    "    # Rotate and search \n",
    "    np.rot90(puzzle)\n",
    "    sea_monsters = search_image()\n",
    "    if sea_monsters>0:\n",
    "        return sea_monsters\n",
    "\n",
    "    return -1\n",
    "\n"
   ]
  },
  {
   "cell_type": "code",
   "execution_count": 20,
   "metadata": {},
   "outputs": [
    {
     "data": {
      "text/plain": [
       "18"
      ]
     },
     "execution_count": 20,
     "metadata": {},
     "output_type": "execute_result"
    }
   ],
   "source": [
    "search_all_orientations()"
   ]
  },
  {
   "cell_type": "code",
   "execution_count": 21,
   "metadata": {},
   "outputs": [
    {
     "data": {
      "text/plain": [
       "18"
      ]
     },
     "execution_count": 21,
     "metadata": {},
     "output_type": "execute_result"
    }
   ],
   "source": [
    "search_image()"
   ]
  },
  {
   "cell_type": "code",
   "execution_count": 22,
   "metadata": {},
   "outputs": [
    {
     "data": {
      "text/plain": [
       "2152"
      ]
     },
     "execution_count": 22,
     "metadata": {},
     "output_type": "execute_result"
    }
   ],
   "source": [
    "# We want to know how many 1's are in the area without monsters\n",
    "np.sum(np.sum(puzzle))-18*15"
   ]
  },
  {
   "cell_type": "code",
   "execution_count": null,
   "metadata": {},
   "outputs": [],
   "source": []
  }
 ],
 "metadata": {
  "kernelspec": {
   "display_name": "Python 3",
   "language": "python",
   "name": "python3"
  },
  "language_info": {
   "codemirror_mode": {
    "name": "ipython",
    "version": 3
   },
   "file_extension": ".py",
   "mimetype": "text/x-python",
   "name": "python",
   "nbconvert_exporter": "python",
   "pygments_lexer": "ipython3",
   "version": "3.8.2"
  }
 },
 "nbformat": 4,
 "nbformat_minor": 4
}

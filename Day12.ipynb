{
 "cells": [
  {
   "cell_type": "markdown",
   "metadata": {},
   "source": [
    "## Day 12"
   ]
  },
  {
   "cell_type": "markdown",
   "metadata": {},
   "source": [
    "### Part 1\n",
    "\n",
    "Your ferry made decent progress toward the island, but the storm came in faster than anyone expected. The ferry needs to take evasive actions!\n",
    "\n",
    "Unfortunately, the ship's navigation computer seems to be malfunctioning; rather than giving a route directly to safety, it produced extremely circuitous instructions. When the captain uses the PA system to ask if anyone can help, you quickly volunteer.\n",
    "\n",
    "The navigation instructions (your puzzle input) consists of a sequence of single-character actions paired with integer input values. After staring at them for a few minutes, you work out what they probably mean:\n",
    "\n",
    "Action N means to move north by the given value.\n",
    "Action S means to move south by the given value.\n",
    "Action E means to move east by the given value.\n",
    "Action W means to move west by the given value.\n",
    "Action L means to turn left the given number of degrees.\n",
    "Action R means to turn right the given number of degrees.\n",
    "Action F means to move forward by the given value in the direction the ship is currently facing.\n",
    "The ship starts by facing east. Only the L and R actions change the direction the ship is facing. (That is, if the ship is facing east and the next instruction is N10, the ship would move north 10 units, but would still move east if the following action were F.)\n",
    "\n",
    "For example:\n",
    "\n",
    "- F10\n",
    "- N3\n",
    "- F7\n",
    "- R90\n",
    "- F11\n",
    "\n",
    "These instructions would be handled as follows:\n",
    "\n",
    "- F10 would move the ship 10 units east (because the ship starts by facing east) to east 10, north 0.\n",
    "- N3 would move the ship 3 units north to east 10, north 3.\n",
    "- F7 would move the ship another 7 units east (because the ship is still facing east) to east 17, north 3.\n",
    "- R90 would cause the ship to turn right by 90 degrees and face south; it remains at east 17, north 3.\n",
    "- F11 would move the ship 11 units south to east 17, south 8.\n",
    "\n",
    "At the end of these instructions, the ship's Manhattan distance (sum of the absolute values of its east/west position and its north/south position) from its starting position is 17 + 8 = 25.\n",
    "\n",
    "Figure out where the navigation instructions lead. What is the Manhattan distance between that location and the ship's starting position?"
   ]
  },
  {
   "cell_type": "code",
   "execution_count": 1,
   "metadata": {},
   "outputs": [],
   "source": [
    "# import packages\n",
    "import pandas as pd\n",
    "import numpy as np\n",
    "import operator"
   ]
  },
  {
   "cell_type": "code",
   "execution_count": 2,
   "metadata": {},
   "outputs": [],
   "source": [
    "directions = pd.read_csv('input_data/Day12.txt', header=None)\n",
    "\n",
    "directions.columns = ['direction']\n",
    "\n",
    "directions = directions['direction'].to_list()"
   ]
  },
  {
   "cell_type": "code",
   "execution_count": 3,
   "metadata": {},
   "outputs": [],
   "source": [
    "def parse_direction(direction):\n",
    "    '''takes a direction and returns\n",
    "    an action and a value'''\n",
    "    \n",
    "    return direction[0], int(direction[1:])"
   ]
  },
  {
   "cell_type": "code",
   "execution_count": 4,
   "metadata": {},
   "outputs": [],
   "source": [
    "# Define some global dictionaries\n",
    "direction_to_degrees = {'E':0, 'N': 90, 'W': 180, 'S': 270}\n",
    "degrees_to_direction = {0:'E', 90: 'N', 180:'W', 270:'S'}\n",
    "add_or_sub = {\n",
    "        'N': operator.add,\n",
    "        'S': operator.sub,\n",
    "        'E':operator.add,\n",
    "        'W':operator.sub,\n",
    "        'L': operator.add,\n",
    "        'R': operator.sub }"
   ]
  },
  {
   "cell_type": "code",
   "execution_count": 5,
   "metadata": {},
   "outputs": [],
   "source": [
    "def process_direction(x, y, orientation, direction):\n",
    "    '''takes a starting position and direction\n",
    "    and returns new position and orientation'''\n",
    "    \n",
    "    action, value = parse_direction(direction)\n",
    "\n",
    "    if action in ['N','S']:\n",
    "        # increase or decrease y position\n",
    "        y = add_or_sub[action](y, value)\n",
    " \n",
    "    elif action in ['E','W']:\n",
    "        # increase or decrease x position\n",
    "        x = add_or_sub[action](x, value)\n",
    "\n",
    "    elif action =='F':\n",
    "        if orientation in ['N','S']:\n",
    "            # increase or decrease y position\n",
    "            y = add_or_sub[orientation](y, value)\n",
    " \n",
    "        elif orientation in ['E','W']:\n",
    "            # increase or decrease x position\n",
    "            x = add_or_sub[orientation](x, value)\n",
    "        \n",
    "    else: #action is L or R\n",
    "        \n",
    "        new_degrees = add_or_sub[action](direction_to_degrees[orientation], value ) % 360                                       \n",
    "        orientation = degrees_to_direction[new_degrees]\n",
    "        \n",
    "    return x, y, orientation"
   ]
  },
  {
   "cell_type": "code",
   "execution_count": 6,
   "metadata": {},
   "outputs": [
    {
     "data": {
      "text/plain": [
       "(10, 0, 'E')"
      ]
     },
     "execution_count": 6,
     "metadata": {},
     "output_type": "execute_result"
    }
   ],
   "source": [
    "process_direction(0,0,'E','F10')"
   ]
  },
  {
   "cell_type": "code",
   "execution_count": 7,
   "metadata": {},
   "outputs": [],
   "source": [
    "xpos, ypos = 0,0\n",
    "orient = 'E'\n",
    "\n",
    "for direction in directions:\n",
    "    \n",
    "#    print(direction, xpos, ypos, orient)\n",
    "    xpos, ypos, orient = process_direction(xpos, ypos, orient, direction)"
   ]
  },
  {
   "cell_type": "code",
   "execution_count": 8,
   "metadata": {},
   "outputs": [
    {
     "data": {
      "text/plain": [
       "(-743, 576)"
      ]
     },
     "execution_count": 8,
     "metadata": {},
     "output_type": "execute_result"
    }
   ],
   "source": [
    "xpos, ypos"
   ]
  },
  {
   "cell_type": "code",
   "execution_count": 9,
   "metadata": {},
   "outputs": [
    {
     "data": {
      "text/plain": [
       "1319"
      ]
     },
     "execution_count": 9,
     "metadata": {},
     "output_type": "execute_result"
    }
   ],
   "source": [
    "abs(xpos)+abs(ypos)"
   ]
  },
  {
   "cell_type": "markdown",
   "metadata": {},
   "source": [
    "### Part 2\n",
    "\n",
    "Before you can give the destination to the captain, you realize that the actual action meanings were printed on the back of the instructions the whole time.\n",
    "\n",
    "Almost all of the actions indicate how to move a waypoint which is relative to the ship's position:\n",
    "\n",
    "- Action N means to move the waypoint north by the given value.\n",
    "- Action S means to move the waypoint south by the given value.\n",
    "- Action E means to move the waypoint east by the given value.\n",
    "- Action W means to move the waypoint west by the given value.\n",
    "- Action L means to rotate the waypoint around the ship left (counter-clockwise) the given number of degrees.\n",
    "- Action R means to rotate the waypoint around the ship right (clockwise) the given number of degrees.\n",
    "- Action F means to move forward to the waypoint a number of times equal to the given value.\n",
    "\n",
    "The waypoint starts 10 units east and 1 unit north relative to the ship. The waypoint is relative to the ship; that is, if the ship moves, the waypoint moves with it.\n",
    "\n",
    "For example, using the same instructions as above:\n",
    "\n",
    "- F10 moves the ship to the waypoint 10 times (a total of 100 units east and 10 units north), leaving the ship at east 100, north 10. The waypoint stays 10 units east and 1 unit north of the ship.\n",
    "- N3 moves the waypoint 3 units north to 10 units east and 4 units north of the ship. The ship remains at east 100, north 10.\n",
    "- F7 moves the ship to the waypoint 7 times (a total of 70 units east and 28 units north), leaving the ship at east 170, north 38. The waypoint stays 10 units east and 4 units north of the ship.\n",
    "- R90 rotates the waypoint around the ship clockwise 90 degrees, moving it to 4 units east and 10 units south of the ship. The ship remains at east 170, north 38.\n",
    "- F11 moves the ship to the waypoint 11 times (a total of 44 units east and 110 units south), leaving the ship at east 214, south 72. The waypoint stays 4 units east and 10 units south of the ship.\n",
    "\n",
    "After these operations, the ship's Manhattan distance from its starting position is 214 + 72 = 286.\n",
    "\n",
    "Figure out where the navigation instructions actually lead. What is the Manhattan distance between that location and the ship's starting position?"
   ]
  },
  {
   "cell_type": "code",
   "execution_count": 10,
   "metadata": {},
   "outputs": [],
   "source": [
    "def rotate_waypoint(x, y, action, value):\n",
    "    '''takes an x y pos for a waypoint and rotates it\n",
    "    cw or ccw based on action and value, returning new x and y pos'''\n",
    "    \n",
    "    if (action=='R' and value==90) or (action=='L' and value==270):\n",
    "        return y, -x\n",
    "    elif (action=='R' and value==270) or (action=='L' and value==90):\n",
    "        return -y, x\n",
    "    else: #action=180 value doesn't matter\n",
    "        return -x, -y"
   ]
  },
  {
   "cell_type": "code",
   "execution_count": 11,
   "metadata": {},
   "outputs": [
    {
     "data": {
      "text/plain": [
       "(-4, 10)"
      ]
     },
     "execution_count": 11,
     "metadata": {},
     "output_type": "execute_result"
    }
   ],
   "source": [
    "# Let's test this\n",
    "rotate_waypoint(10,4,'L',90)"
   ]
  },
  {
   "cell_type": "code",
   "execution_count": 12,
   "metadata": {},
   "outputs": [],
   "source": [
    "def process_direction(x, y, wx, wy, orientation, direction):\n",
    "    '''takes a starting position for ship and waypoint, and a direction\n",
    "    and returns a new position for ship and waypoint and orientation'''\n",
    "    \n",
    "    action, value = parse_direction(direction)\n",
    "\n",
    "    if action in ['N','S']:\n",
    "        # increase or decrease waypoint y position\n",
    "        wy = add_or_sub[action](wy, value)\n",
    "    elif action in ['E','W']:\n",
    "        # increase or decrease waypoint x position\n",
    "        wx = add_or_sub[action](wx, value)             \n",
    "    elif action in ['L','R']: \n",
    "        # we rotate waypoint cw or ccw from its current position\n",
    "        wx, wy = rotate_waypoint(wx, wy, action, value)\n",
    "            \n",
    "    else: # action == 'F'\n",
    "        # we move the ship\n",
    "        x,y = x + value*wx, y + value*wy\n",
    "        \n",
    "    return x, y, wx, wy, orientation"
   ]
  },
  {
   "cell_type": "code",
   "execution_count": 13,
   "metadata": {},
   "outputs": [],
   "source": [
    "xpos, ypos = 0,0\n",
    "wxpos, wypos = 10,1\n",
    "orient = 'E'\n",
    "\n",
    "for direction in directions:\n",
    "    \n",
    "#    print(direction, xpos, ypos, orient)\n",
    "    xpos, ypos, wxpos, wypos, orient = process_direction(xpos, ypos, wxpos, wypos, orient, direction)"
   ]
  },
  {
   "cell_type": "code",
   "execution_count": 14,
   "metadata": {},
   "outputs": [
    {
     "data": {
      "text/plain": [
       "(-39392, 23042)"
      ]
     },
     "execution_count": 14,
     "metadata": {},
     "output_type": "execute_result"
    }
   ],
   "source": [
    "xpos, ypos"
   ]
  },
  {
   "cell_type": "code",
   "execution_count": 15,
   "metadata": {},
   "outputs": [
    {
     "data": {
      "text/plain": [
       "62434"
      ]
     },
     "execution_count": 15,
     "metadata": {},
     "output_type": "execute_result"
    }
   ],
   "source": [
    "abs(xpos)+abs(ypos)"
   ]
  }
 ],
 "metadata": {
  "kernelspec": {
   "display_name": "Python 3",
   "language": "python",
   "name": "python3"
  },
  "language_info": {
   "codemirror_mode": {
    "name": "ipython",
    "version": 3
   },
   "file_extension": ".py",
   "mimetype": "text/x-python",
   "name": "python",
   "nbconvert_exporter": "python",
   "pygments_lexer": "ipython3",
   "version": "3.8.3"
  }
 },
 "nbformat": 4,
 "nbformat_minor": 4
}

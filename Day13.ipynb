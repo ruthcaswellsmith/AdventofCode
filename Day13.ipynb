{
 "cells": [
  {
   "cell_type": "markdown",
   "metadata": {},
   "source": [
    "## Day 13"
   ]
  },
  {
   "cell_type": "markdown",
   "metadata": {},
   "source": [
    "### Part 1 \n",
    "\n",
    "Your ferry can make it safely to a nearby port, but it won't get much further. When you call to book another ship, you discover that no ships embark from that port to your vacation island. You'll need to get from the port to the nearest airport.\n",
    "\n",
    "Fortunately, a shuttle bus service is available to bring you from the sea port to the airport! Each bus has an ID number that also indicates how often the bus leaves for the airport.\n",
    "\n",
    "Bus schedules are defined based on a timestamp that measures the number of minutes since some fixed reference point in the past. At timestamp 0, every bus simultaneously departed from the sea port. After that, each bus travels to the airport, then various other locations, and finally returns to the sea port to repeat its journey forever.\n",
    "\n",
    "The time this loop takes a particular bus is also its ID number: the bus with ID 5 departs from the sea port at timestamps 0, 5, 10, 15, and so on. The bus with ID 11 departs at 0, 11, 22, 33, and so on. If you are there when the bus departs, you can ride that bus to the airport!\n",
    "\n",
    "Your notes (your puzzle input) consist of two lines. The first line is your estimate of the earliest timestamp you could depart on a bus. The second line lists the bus IDs that are in service according to the shuttle company; entries that show x must be out of service, so you decide to ignore them.\n",
    "\n",
    "To save time once you arrive, your goal is to figure out the earliest bus you can take to the airport. (There will be exactly one such bus.)\n",
    "\n",
    "For example, suppose you have the following notes:\n",
    "\n",
    "- 939\n",
    "- 7,13,x,x,59,x,31,19\n",
    "\n",
    "Here, the earliest timestamp you could depart is 939, and the bus IDs in service are 7, 13, 59, 31, and 19. Near timestamp 939, these bus IDs depart at the times marked D:\n",
    "\n",
    "time   bus 7   bus 13  bus 59  bus 31  bus 19\n",
    "- 929      .       .       .       .       .\n",
    "- 930      .       .       .       D       .\n",
    "- 931      D       .       .       .       D\n",
    "- 932      .       .       .       .       .\n",
    "- 933      .       .       .       .       .\n",
    "- 934      .       .       .       .       .\n",
    "- 935      .       .       .       .       .\n",
    "- 936      .       D       .       .       .\n",
    "- 937      .       .       .       .       .\n",
    "- 938      D       .       .       .       .\n",
    "- 939      .       .       .       .       .\n",
    "- 940      .       .       .       .       .\n",
    "- 941      .       .       .       .       .\n",
    "- 942      .       .       .       .       .\n",
    "- 943      .       .       .       .       .\n",
    "- 944      .       .       D       .       .\n",
    "- 945      D       .       .       .       .\n",
    "- 946      .       .       .       .       .\n",
    "- 947      .       .       .       .       .\n",
    "- 948      .       .       .       .       .\n",
    "- 949      .       D       .       .       .\n",
    "\n",
    "The earliest bus you could take is bus ID 59. It doesn't depart until timestamp 944, so you would need to wait 944 - 939 = 5 minutes before it departs. Multiplying the bus ID by the number of minutes you'd need to wait gives 295.\n",
    "\n",
    "What is the ID of the earliest bus you can take to the airport multiplied by the number of minutes you'll need to wait for that bus?"
   ]
  },
  {
   "cell_type": "code",
   "execution_count": null,
   "metadata": {},
   "outputs": [],
   "source": [
    "import numpy as np"
   ]
  },
  {
   "cell_type": "code",
   "execution_count": null,
   "metadata": {},
   "outputs": [],
   "source": [
    "# Open file\n",
    "f = open(\"input_data/Day13.txt\", \"r\")\n",
    "\n",
    "# read your starting time\n",
    "start_time = f.readline()\n",
    "start_time = int(start_time)\n",
    "print(start_time)\n",
    "\n",
    "# read bus schedule\n",
    "schedule = f.readline()\n",
    "\n",
    "f.close()\n",
    "schedule = schedule.split(',')\n",
    "schedule[len(schedule)-1] = schedule[len(schedule)-1].replace('\\n','')\n",
    "print(schedule)"
   ]
  },
  {
   "cell_type": "code",
   "execution_count": null,
   "metadata": {},
   "outputs": [],
   "source": [
    "times_to_leave = {}\n",
    "\n",
    "for bus in schedule:\n",
    "    if bus != 'x':\n",
    "        bus_num = int(bus)\n",
    "        times_to_leave[bus_num] = (int(start_time / bus_num) + 1) * bus_num - start_time"
   ]
  },
  {
   "cell_type": "code",
   "execution_count": null,
   "metadata": {},
   "outputs": [],
   "source": [
    "times_to_leave"
   ]
  },
  {
   "cell_type": "code",
   "execution_count": null,
   "metadata": {},
   "outputs": [],
   "source": [
    "key_min = min(times_to_leave.keys(), key=(lambda k: times_to_leave[k]))"
   ]
  },
  {
   "cell_type": "code",
   "execution_count": null,
   "metadata": {},
   "outputs": [],
   "source": [
    "print(key_min*times_to_leave[key_min])"
   ]
  },
  {
   "cell_type": "markdown",
   "metadata": {},
   "source": [
    "### Part2\n",
    "\n",
    "The shuttle company is running a contest: one gold coin for anyone that can find the earliest timestamp such that the first bus ID departs at that time and each subsequent listed bus ID departs at that subsequent minute. (The first line in your input is no longer relevant.)\n",
    "\n",
    "For example, suppose you have the same list of bus IDs as above:\n",
    "\n",
    "- 7,13,x,x,59,x,31,19\n",
    "\n",
    "An x in the schedule means there are no constraints on what bus IDs must depart at that time.\n",
    "\n",
    "This means you are looking for the earliest timestamp (called t) such that:\n",
    "\n",
    "- Bus ID 7 departs at timestamp t.\n",
    "- Bus ID 13 departs one minute after timestamp t.\n",
    "- There are no requirements or restrictions on departures at two or three minutes after timestamp t.\n",
    "- Bus ID 59 departs four minutes after timestamp t.\n",
    "- There are no requirements or restrictions on departures at five minutes after timestamp t.\n",
    "- Bus ID 31 departs six minutes after timestamp t.\n",
    "- Bus ID 19 departs seven minutes after timestamp t.\n",
    "- The only bus departures that matter are the listed bus IDs at their specific offsets from t. Those bus IDs can depart at other times, and other bus IDs can depart at those times. For example, in the list above, because bus ID 19 must depart seven minutes after the timestamp at which bus ID 7 departs, bus ID 7 will always also be departing with bus ID 19 at seven minutes after timestamp t.\n",
    "\n",
    "\n",
    "In this example, the earliest timestamp at which this occurs is 1068781:\n",
    "\n",
    "time     bus 7   bus 13  bus 59  bus 31  bus 19\n",
    "- 1068773    .       .       .       .       .\n",
    "- 1068774    D       .       .       .       .\n",
    "- 1068775    .       .       .       .       .\n",
    "- 1068776    .       .       .       .       .\n",
    "- 1068777    .       .       .       .       .\n",
    "- 1068778    .       .       .       .       .\n",
    "- 1068779    .       .       .       .       .\n",
    "- 1068780    .       .       .       .       .\n",
    "- 1068781    D       .       .       .       .\n",
    "- 1068782    .       D       .       .       .\n",
    "- 1068783    .       .       .       .       .\n",
    "- 1068784    .       .       .       .       .\n",
    "- 1068785    .       .       D       .       .\n",
    "- 1068786    .       .       .       .       .\n",
    "- 1068787    .       .       .       D       .\n",
    "- 1068788    D       .       .       .       D\n",
    "- 1068789    .       .       .       .       .\n",
    "- 1068790    .       .       .       .       .\n",
    "- 1068791    .       .       .       .       .\n",
    "- 1068792    .       .       .       .       .\n",
    "- 1068793    .       .       .       .       .\n",
    "- 1068794    .       .       .       .       .\n",
    "- 1068795    D       D       .       .       .\n",
    "- 1068796    .       .       .       .       .\n",
    "- 1068797    .       .       .       .       .\n",
    "\n",
    "In the above example, bus ID 7 departs at timestamp 1068788 (seven minutes after t). This is fine; the only requirement on that minute is that bus ID 19 departs then, and it does.\n",
    "\n",
    "Here are some other examples:\n",
    "\n",
    "The earliest timestamp that matches the list 17,x,13,19 is 3417.\n",
    "\n",
    "- 67,7,59,61 first occurs at timestamp 754018.\n",
    "- 67,x,7,59,61 first occurs at timestamp 779210.\n",
    "- 67,7,x,59,61 first occurs at timestamp 1261476.\n",
    "- 1789,37,47,1889 first occurs at timestamp 1202161486.\n",
    "\n",
    "However, with so many bus IDs in your list, surely the actual earliest timestamp will be larger than 100000000000000!\n",
    "\n",
    "What is the earliest timestamp such that all of the listed bus IDs depart at offsets matching their positions in the list?"
   ]
  },
  {
   "cell_type": "code",
   "execution_count": 145,
   "metadata": {},
   "outputs": [
    {
     "name": "stdout",
     "output_type": "stream",
     "text": [
      "['19', 'x', 'x', 'x', 'x', 'x', 'x', 'x', 'x', '41', 'x', 'x', 'x', 'x', 'x', 'x', 'x', 'x', 'x', '823', 'x', 'x', 'x', 'x', 'x', 'x', 'x', '23', 'x', 'x', 'x', 'x', 'x', 'x', 'x', 'x', '17', 'x', 'x', 'x', 'x', 'x', 'x', 'x', 'x', 'x', 'x', 'x', '29', 'x', '443', 'x', 'x', 'x', 'x', 'x', '37', 'x', 'x', 'x', 'x', 'x', 'x', '13']\n"
     ]
    }
   ],
   "source": [
    "# Open file\n",
    "f = open(\"input_data/Day13.txt\", \"r\")\n",
    "\n",
    "# This line is now irrelevant\n",
    "_ = f.readline()\n",
    "\n",
    "# read bus schedule\n",
    "schedule = f.readline()\n",
    "\n",
    "f.close()\n",
    "schedule = schedule.split(',')\n",
    "schedule[len(schedule)-1] = schedule[len(schedule)-1].replace('\\n','')\n",
    "print(schedule)"
   ]
  },
  {
   "cell_type": "code",
   "execution_count": 146,
   "metadata": {},
   "outputs": [],
   "source": [
    "# build a list of buses from schedule\n",
    "buses = [int(bus) for bus in schedule if bus!='x' ]\n",
    "\n",
    "# build a dictionary with key/value pair of bus/time after first bus\n",
    "bus_sched = {}\n",
    "for bus in buses:\n",
    "    bus_sched[bus] =  schedule.index(str(bus))+buses[0]"
   ]
  },
  {
   "cell_type": "code",
   "execution_count": 147,
   "metadata": {},
   "outputs": [],
   "source": [
    "def bus_leaves(time, bus):\n",
    "    '''takes a bus number as a string and returns true if it departs at that time or false if it does not.'''\n",
    "    return True if time % int(bus) == 0 else False"
   ]
  },
  {
   "cell_type": "code",
   "execution_count": 148,
   "metadata": {},
   "outputs": [
    {
     "data": {
      "text/plain": [
       "{19: 19, 41: 28, 823: 38, 23: 46, 17: 55, 29: 67, 443: 69, 37: 75, 13: 82}"
      ]
     },
     "execution_count": 148,
     "metadata": {},
     "output_type": "execute_result"
    }
   ],
   "source": [
    "bus_sched"
   ]
  },
  {
   "cell_type": "code",
   "execution_count": 149,
   "metadata": {},
   "outputs": [],
   "source": [
    "def check_timestamp(bus_sched, timestamp):\n",
    "    '''takes a bus schedule and a timestamp and sees if any bus leaves at the correct offset time'''\n",
    "\n",
    "    for bus, timediff in bus_sched.items():\n",
    "        if bus_leaves(timestamp+timediff, bus):\n",
    "            return bus\n",
    "    return -1"
   ]
  },
  {
   "cell_type": "code",
   "execution_count": 150,
   "metadata": {},
   "outputs": [
    {
     "data": {
      "text/plain": [
       "-1"
      ]
     },
     "execution_count": 150,
     "metadata": {},
     "output_type": "execute_result"
    }
   ],
   "source": [
    "check_timestamp(bus_sched, 18)"
   ]
  },
  {
   "cell_type": "code",
   "execution_count": 151,
   "metadata": {},
   "outputs": [
    {
     "name": "stdout",
     "output_type": "stream",
     "text": [
      "max bus:  823\n",
      "diff max bus:  38\n",
      "first bus:  19\n"
     ]
    }
   ],
   "source": [
    "# Let's get the maximum value of our bus and its difference in time from starting point\n",
    "max_bus = 0\n",
    "diff_max_bus = 0\n",
    "\n",
    "for key, value in bus_sched.items():\n",
    "        if (int(key)> int(max_bus)):\n",
    "            max_bus = int(key)\n",
    "            diff_max_bus =value\n",
    "print('max bus: ', max_bus)\n",
    "print('diff max bus: ', diff_max_bus )\n",
    "\n",
    "# Let's get the value of the first bus\n",
    "first_bus = int(list(bus_sched.keys())[0])\n",
    "\n",
    "print('first bus: ', first_bus)"
   ]
  },
  {
   "cell_type": "code",
   "execution_count": 152,
   "metadata": {},
   "outputs": [
    {
     "name": "stdout",
     "output_type": "stream",
     "text": [
      "timestamp to leave:  1058443396696792\n"
     ]
    }
   ],
   "source": [
    "# Let's be smarter about this\n",
    "# We're going to start by incrementing by our biggest bus\n",
    "# Then if we find another bus leaving at the same time, we can multiply our \n",
    "# delta by the value of the new bus.  \n",
    "\n",
    "# this is our starting point\n",
    "timestamp = int(100000000000000/max_bus) * max_bus - diff_max_bus - 1\n",
    "delta = 1\n",
    "\n",
    "working_bus_sched = bus_sched.copy()\n",
    "\n",
    "found = False\n",
    "while not found:\n",
    "    \n",
    "    # increase our timestamp by delta\n",
    "    timestamp += delta\n",
    "#    print(timestamp, delta)\n",
    "    \n",
    "    found_bus = check_timestamp(working_bus_sched, timestamp)\n",
    "    #print(found_bus)\n",
    "    if found_bus>0:\n",
    "        # we have found a multiple\n",
    "        delta = delta * found_bus\n",
    "        #print('delta: ',delta)\n",
    "        working_bus_sched.pop(found_bus)\n",
    "        \n",
    "        # Check if we've gotten all the buses\n",
    "        if not bool(working_bus_sched):\n",
    "            found = True\n",
    "        \n",
    "print('timestamp to leave: ', timestamp + first_bus)"
   ]
  },
  {
   "cell_type": "code",
   "execution_count": null,
   "metadata": {},
   "outputs": [],
   "source": []
  }
 ],
 "metadata": {
  "kernelspec": {
   "display_name": "Python 3",
   "language": "python",
   "name": "python3"
  },
  "language_info": {
   "codemirror_mode": {
    "name": "ipython",
    "version": 3
   },
   "file_extension": ".py",
   "mimetype": "text/x-python",
   "name": "python",
   "nbconvert_exporter": "python",
   "pygments_lexer": "ipython3",
   "version": "3.8.3"
  }
 },
 "nbformat": 4,
 "nbformat_minor": 4
}

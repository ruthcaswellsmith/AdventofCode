{
 "cells": [
  {
   "cell_type": "markdown",
   "metadata": {},
   "source": [
    "## Day 15"
   ]
  },
  {
   "cell_type": "markdown",
   "metadata": {},
   "source": [
    "### Part 1\n",
    "\n",
    "You catch the airport shuttle and try to book a new flight to your vacation island. Due to the storm, all direct flights have been cancelled, but a route is available to get around the storm. You take it.\n",
    "\n",
    "While you wait for your flight, you decide to check in with the Elves back at the North Pole. They're playing a memory game and are ever so excited to explain the rules!\n",
    "\n",
    "In this game, the players take turns saying numbers. They begin by taking turns reading from a list of starting numbers (your puzzle input). Then, each turn consists of considering the most recently spoken number:\n",
    "\n",
    "If that was the first time the number has been spoken, the current player says 0.\n",
    "Otherwise, the number had been spoken before; the current player announces how many turns apart the number is from when it was previously spoken.\n",
    "So, after the starting numbers, each turn results in that player speaking aloud either 0 (if the last number is new) or an age (if the last number is a repeat).\n",
    "\n",
    "For example, suppose the starting numbers are 0,3,6:\n",
    "\n",
    "- Turn 1: The 1st number spoken is a starting number, 0.\n",
    "- Turn 2: The 2nd number spoken is a starting number, 3.\n",
    "- Turn 3: The 3rd number spoken is a starting number, 6.\n",
    "- Turn 4: Now, consider the last number spoken, 6. Since that was the first time the number had been spoken, the 4th number spoken is 0.\n",
    "- Turn 5: Next, again consider the last number spoken, 0. Since it had been spoken before, the next number to speak is the difference between the turn number when it was last spoken (the previous turn, 4) and the turn number of the time it was most recently spoken before then (turn 1). Thus, the 5th number spoken is 4 - 1, 3.\n",
    "- Turn 6: The last number spoken, 3 had also been spoken before, most recently on turns 5 and 2. So, the 6th number spoken is 5 - 2, 3.\n",
    "- Turn 7: Since 3 was just spoken twice in a row, and the last two turns are 1 turn apart, the 7th number spoken is 1.\n",
    "- Turn 8: Since 1 is new, the 8th number spoken is 0.\n",
    "- Turn 9: 0 was last spoken on turns 8 and 4, so the 9th number spoken is the difference between them, 4.\n",
    "-Turn 10: 4 is new, so the 10th number spoken is 0.\n",
    "\n",
    "(The game ends when the Elves get sick of playing or dinner is ready, whichever comes first.)\n",
    "\n",
    "Their question for you is: what will be the 2020th number spoken? In the example above, the 2020th number spoken will be 436.\n",
    "\n",
    "Here are a few more examples:\n",
    "\n",
    "- Given the starting numbers 1,3,2, the 2020th number spoken is 1.\n",
    "- Given the starting numbers 2,1,3, the 2020th number spoken is 10.\n",
    "- Given the starting numbers 1,2,3, the 2020th number spoken is 27.\n",
    "- Given the starting numbers 2,3,1, the 2020th number spoken is 78.\n",
    "- Given the starting numbers 3,2,1, the 2020th number spoken is 438.\n",
    "- Given the starting numbers 3,1,2, the 2020th number spoken is 1836.\n",
    "- Given your starting numbers, what will be the 2020th number spoken?\n",
    "\n",
    "Your puzzle input is 13,0,10,12,1,5,8."
   ]
  },
  {
   "cell_type": "code",
   "execution_count": null,
   "metadata": {},
   "outputs": [],
   "source": [
    "# this our list of numbers that have been spoken\n",
    "\n",
    "nums = [13,0,10,12,1,5,8]\n",
    "#nums = [0,3,6]"
   ]
  },
  {
   "cell_type": "code",
   "execution_count": null,
   "metadata": {
    "scrolled": false
   },
   "outputs": [],
   "source": [
    "# iniitalize an array to hold last time number was spoken\n",
    "last = [i+1 for i in range(len(nums))]\n",
    "\n",
    "# this is the last number spoken and it was a new number\n",
    "last_num = nums[len(nums)-1]\n",
    "new_flag = True\n",
    "\n",
    "# this is the turn we are on\n",
    "i = len(nums)+1\n",
    "\n",
    "while i < 2021:\n",
    "        \n",
    "#    print('\\ni:',i, 'nflag:', new_flag, '\\nlast_num:',last_num, '\\nnums:',nums, '\\nlast:',last )\n",
    "    if not new_flag:\n",
    "        \n",
    "        # The new number is the difference between the last turn (i-1) \n",
    "        # and the time it was previously spoken \n",
    "        new_num = (i-1)  - last[nums.index(last_num)]\n",
    "\n",
    "        # update last time the last number was spoken\n",
    "        last[nums.index(last_num)] = i-1\n",
    "        \n",
    "    else: \n",
    "        \n",
    "        # the last number has not been spoken before, the next number is 0\n",
    "        new_num = 0\n",
    "        \n",
    "    if (new_num in nums):\n",
    "        # this is not a new number\n",
    "        new_flag = False\n",
    "    \n",
    "    else:\n",
    "        # This number has never been spoken we need to add it to our list\n",
    "        # and we need to remember when it was spoken\n",
    "        nums.append(new_num)\n",
    "        last.append(i)\n",
    "            \n",
    "        # remember we have a new number\n",
    "        new_flag = True\n",
    "            \n",
    "#    print(new_num )\n",
    "    last_num = new_num\n",
    "    i += 1\n",
    "    \n",
    "print('2020th number is:', new_num)"
   ]
  },
  {
   "cell_type": "markdown",
   "metadata": {},
   "source": [
    "### Part 2\n",
    "Impressed, the Elves issue you a challenge: determine the 30000000th number spoken. For example, given the same starting numbers as above:\n",
    "\n",
    "- Given 0,3,6, the 30000000th number spoken is 175594.\n",
    "- Given 1,3,2, the 30000000th number spoken is 2578.\n",
    "- Given 2,1,3, the 30000000th number spoken is 3544142.\n",
    "- Given 1,2,3, the 30000000th number spoken is 261214.\n",
    "- Given 2,3,1, the 30000000th number spoken is 6895259.\n",
    "- Given 3,2,1, the 30000000th number spoken is 18.\n",
    "- Given 3,1,2, the 30000000th number spoken is 362.\n",
    "\n",
    "Given your starting numbers, what will be the 30000000th number spoken?"
   ]
  },
  {
   "cell_type": "code",
   "execution_count": 4,
   "metadata": {},
   "outputs": [],
   "source": [
    "import numpy as np"
   ]
  },
  {
   "cell_type": "code",
   "execution_count": 5,
   "metadata": {},
   "outputs": [],
   "source": [
    "# this our list of numbers that have been spoken\n",
    "\n",
    "nums = [13,0,10,12,1,5,8]\n",
    "#nums = [0,3,6]"
   ]
  },
  {
   "cell_type": "code",
   "execution_count": 6,
   "metadata": {
    "scrolled": false
   },
   "outputs": [
    {
     "name": "stdout",
     "output_type": "stream",
     "text": [
      "1000000\n",
      "2000000\n",
      "3000000\n",
      "4000000\n",
      "5000000\n",
      "6000000\n",
      "7000000\n",
      "8000000\n",
      "9000000\n",
      "10000000\n",
      "11000000\n",
      "12000000\n",
      "13000000\n",
      "14000000\n",
      "15000000\n",
      "16000000\n",
      "17000000\n",
      "18000000\n",
      "19000000\n",
      "20000000\n",
      "21000000\n",
      "22000000\n",
      "23000000\n",
      "24000000\n",
      "25000000\n",
      "26000000\n",
      "27000000\n",
      "28000000\n",
      "29000000\n",
      "30000000\n",
      "The number is: 950\n"
     ]
    }
   ],
   "source": [
    "target_num = 30000000\n",
    "#target_num = 2020\n",
    "\n",
    "# iniitalize an array to hold last time number was spoken\n",
    "last = np.zeros([target_num, 1], dtype='int')\n",
    "\n",
    "for idx, num in enumerate(nums):\n",
    "    last[num] = nums.index(num)+1\n",
    "\n",
    "# this is the last number spoken and it was a new number\n",
    "last_num = nums[len(nums)-1]\n",
    "new_flag = True\n",
    "\n",
    "# this is the turn we are on\n",
    "i = len(nums)+1\n",
    "\n",
    "while i < (target_num + 1):\n",
    "       \n",
    "    if (i % 1_000_000) == 0:\n",
    "        print(i)\n",
    "        \n",
    "#     print('\\ni:',i, 'nflag:', new_flag, '\\nlast_num:',last_num, '\\nnums:',nums, '\\nlast:',last )\n",
    "    if not new_flag:\n",
    "        \n",
    "        # The new number is the difference between the last turn (i-1) \n",
    "        # and the time it was previously spoken \n",
    "        new_num = (i-1)  - last[last_num][0]\n",
    "\n",
    "        # update last time the last number was spoken\n",
    "        last[last_num] = i-1\n",
    "        \n",
    "    else: \n",
    "        \n",
    "        # the last number has not been spoken before, the next number is 0\n",
    "        new_num = 0\n",
    "        \n",
    "    if (last[new_num] != 0):\n",
    "        # this is not a new number\n",
    "        new_flag = False\n",
    "    \n",
    "    else:\n",
    "        # This number has never been spoken we need to add it to our list\n",
    "        # and we need to remember when it was spoken\n",
    "        last[new_num]=i\n",
    "            \n",
    "        # remember we have a new number\n",
    "        new_flag = True\n",
    "            \n",
    "#    print(new_num )\n",
    "    last_num = new_num\n",
    "    i += 1\n",
    "    \n",
    "print('The number is:', new_num)"
   ]
  },
  {
   "cell_type": "code",
   "execution_count": null,
   "metadata": {},
   "outputs": [],
   "source": []
  },
  {
   "cell_type": "code",
   "execution_count": null,
   "metadata": {},
   "outputs": [],
   "source": []
  }
 ],
 "metadata": {
  "kernelspec": {
   "display_name": "Python 3",
   "language": "python",
   "name": "python3"
  },
  "language_info": {
   "codemirror_mode": {
    "name": "ipython",
    "version": 3
   },
   "file_extension": ".py",
   "mimetype": "text/x-python",
   "name": "python",
   "nbconvert_exporter": "python",
   "pygments_lexer": "ipython3",
   "version": "3.8.3"
  }
 },
 "nbformat": 4,
 "nbformat_minor": 4
}

{
 "cells": [
  {
   "cell_type": "markdown",
   "metadata": {},
   "source": [
    "## Day 8"
   ]
  },
  {
   "cell_type": "markdown",
   "metadata": {},
   "source": [
    "### Part 1\n",
    "Your flight to the major airline hub reaches cruising altitude without incident. While you consider checking the in-flight menu for one of those drinks that come with a little umbrella, you are interrupted by the kid sitting next to you.\n",
    "\n",
    "Their handheld game console won't turn on! They ask if you can take a look.\n",
    "\n",
    "You narrow the problem down to a strange infinite loop in the boot code (your puzzle input) of the device. You should be able to fix it, but first you need to be able to run the code in isolation.\n",
    "\n",
    "The boot code is represented as a text file with one instruction per line of text. Each instruction consists of an operation (acc, jmp, or nop) and an argument (a signed number like +4 or -20).\n",
    "\n",
    "acc increases or decreases a single global value called the accumulator by the value given in the argument. For example, acc +7 would increase the accumulator by 7. The accumulator starts at 0. After an acc instruction, the instruction immediately below it is executed next.\n",
    "jmp jumps to a new instruction relative to itself. The next instruction to execute is found using the argument as an offset from the jmp instruction; for example, jmp +2 would skip the next instruction, jmp +1 would continue to the instruction immediately below it, and jmp -20 would cause the instruction 20 lines above to be executed next.\n",
    "nop stands for No OPeration - it does nothing. The instruction immediately below it is executed next.\n",
    "For example, consider the following program:\n",
    "\n",
    "- nop +0\n",
    "- acc +1\n",
    "- jmp +4\n",
    "- acc +3\n",
    "- jmp -3\n",
    "- acc -99\n",
    "- acc +1\n",
    "- jmp -4\n",
    "- acc +6\n",
    "\n",
    "These instructions are visited in this order:\n",
    "\n",
    "- nop +0  | 1\n",
    "- acc +1  | 2, 8(!)\n",
    "- jmp +4  | 3\n",
    "- acc +3  | 6\n",
    "- jmp -3  | 7\n",
    "- acc -99 |\n",
    "- acc +1  | 4\n",
    "- jmp -4  | 5\n",
    "- acc +6  |\n",
    "\n",
    "First, the nop +0 does nothing. Then, the accumulator is increased from 0 to 1 (acc +1) and jmp +4 sets the next instruction to the other acc +1 near the bottom. After it increases the accumulator from 1 to 2, jmp -4 executes, setting the next instruction to the only acc +3. It sets the accumulator to 5, and jmp -3 causes the program to continue back at the first acc +1.\n",
    "\n",
    "This is an infinite loop: with this sequence of jumps, the program will run forever. The moment the program tries to run any instruction a second time, you know it will never terminate.\n",
    "\n",
    "Immediately before the program would run an instruction a second time, the value in the accumulator is 5.\n",
    "\n",
    "Run your copy of the boot code. Immediately before any instruction is executed a second time, what value is in the accumulator?"
   ]
  },
  {
   "cell_type": "code",
   "execution_count": 1,
   "metadata": {},
   "outputs": [],
   "source": [
    "# import packages\n",
    "import pandas as pd\n",
    "import numpy as np"
   ]
  },
  {
   "cell_type": "code",
   "execution_count": 2,
   "metadata": {},
   "outputs": [],
   "source": [
    "# read in data\n",
    "instructions = pd.read_csv('input_data/Day8.txt', sep=\" \", header=None)"
   ]
  },
  {
   "cell_type": "code",
   "execution_count": 3,
   "metadata": {},
   "outputs": [
    {
     "data": {
      "text/plain": [
       "(633, 2)"
      ]
     },
     "execution_count": 3,
     "metadata": {},
     "output_type": "execute_result"
    }
   ],
   "source": [
    "instructions.shape"
   ]
  },
  {
   "cell_type": "code",
   "execution_count": 4,
   "metadata": {},
   "outputs": [],
   "source": [
    "instructions.columns=['instruction','steps']"
   ]
  },
  {
   "cell_type": "code",
   "execution_count": 5,
   "metadata": {},
   "outputs": [],
   "source": [
    "instructions['has_run']=False"
   ]
  },
  {
   "cell_type": "code",
   "execution_count": 6,
   "metadata": {},
   "outputs": [
    {
     "data": {
      "text/html": [
       "<div>\n",
       "<style scoped>\n",
       "    .dataframe tbody tr th:only-of-type {\n",
       "        vertical-align: middle;\n",
       "    }\n",
       "\n",
       "    .dataframe tbody tr th {\n",
       "        vertical-align: top;\n",
       "    }\n",
       "\n",
       "    .dataframe thead th {\n",
       "        text-align: right;\n",
       "    }\n",
       "</style>\n",
       "<table border=\"1\" class=\"dataframe\">\n",
       "  <thead>\n",
       "    <tr style=\"text-align: right;\">\n",
       "      <th></th>\n",
       "      <th>instruction</th>\n",
       "      <th>steps</th>\n",
       "      <th>has_run</th>\n",
       "    </tr>\n",
       "  </thead>\n",
       "  <tbody>\n",
       "    <tr>\n",
       "      <th>0</th>\n",
       "      <td>acc</td>\n",
       "      <td>37</td>\n",
       "      <td>False</td>\n",
       "    </tr>\n",
       "    <tr>\n",
       "      <th>1</th>\n",
       "      <td>acc</td>\n",
       "      <td>-1</td>\n",
       "      <td>False</td>\n",
       "    </tr>\n",
       "    <tr>\n",
       "      <th>2</th>\n",
       "      <td>nop</td>\n",
       "      <td>512</td>\n",
       "      <td>False</td>\n",
       "    </tr>\n",
       "    <tr>\n",
       "      <th>3</th>\n",
       "      <td>acc</td>\n",
       "      <td>0</td>\n",
       "      <td>False</td>\n",
       "    </tr>\n",
       "    <tr>\n",
       "      <th>4</th>\n",
       "      <td>jmp</td>\n",
       "      <td>60</td>\n",
       "      <td>False</td>\n",
       "    </tr>\n",
       "  </tbody>\n",
       "</table>\n",
       "</div>"
      ],
      "text/plain": [
       "  instruction  steps  has_run\n",
       "0         acc     37    False\n",
       "1         acc     -1    False\n",
       "2         nop    512    False\n",
       "3         acc      0    False\n",
       "4         jmp     60    False"
      ]
     },
     "execution_count": 6,
     "metadata": {},
     "output_type": "execute_result"
    }
   ],
   "source": [
    "instructions.head()"
   ]
  },
  {
   "cell_type": "code",
   "execution_count": 7,
   "metadata": {},
   "outputs": [],
   "source": [
    "def process_instruction(instruction, steps):\n",
    "    '''takes in an instruction and value or steps and modifies global variables\n",
    "    acc_count and position, returning a flag indicating if new position has been\n",
    "    run before'''\n",
    "    global count, pos\n",
    "    \n",
    "    # Set to True has_run flag for this position\n",
    "    instructions.at[pos,'has_run'] = True\n",
    "    \n",
    "    if instruction=='acc':\n",
    "        # increase acc_count by steps and position by 1\n",
    "        count += steps\n",
    "        pos += 1\n",
    "    elif instruction == 'jmp':\n",
    "        # do not touch acc_count but jump forward or backward number of steps\n",
    "        pos += steps\n",
    "    else:\n",
    "        # do nothing but go forward one position\n",
    "        pos += 1\n",
    "    \n",
    "    return True if instructions.iloc[pos]['has_run'] else False"
   ]
  },
  {
   "cell_type": "code",
   "execution_count": 8,
   "metadata": {},
   "outputs": [
    {
     "name": "stdout",
     "output_type": "stream",
     "text": [
      "count:  1684\n"
     ]
    }
   ],
   "source": [
    "# these are global variables\n",
    "pos = 0\n",
    "count = 0\n",
    "instructions['has_run']=False\n",
    "\n",
    "flag = False\n",
    "while not flag:\n",
    "    flag = process_instruction(instructions.iloc[pos]['instruction'], instructions.iloc[pos]['steps'])\n",
    "    \n",
    "print('count: ', count)"
   ]
  },
  {
   "cell_type": "markdown",
   "metadata": {},
   "source": [
    "### Part 2\n",
    "After some careful analysis, you believe that exactly one instruction is corrupted.\n",
    "\n",
    "Somewhere in the program, either a jmp is supposed to be a nop, or a nop is supposed to be a jmp. (No acc instructions were harmed in the corruption of this boot code.)\n",
    "\n",
    "The program is supposed to terminate by attempting to execute an instruction immediately after the last instruction in the file. By changing exactly one jmp or nop, you can repair the boot code and make it terminate correctly.\n",
    "\n",
    "For example, consider the same program from above:\n",
    "\n",
    "- nop +0\n",
    "- acc +1\n",
    "- jmp +4\n",
    "- acc +3\n",
    "- jmp -3\n",
    "- acc -99\n",
    "- acc +1\n",
    "- jmp -4\n",
    "- acc +6\n",
    "\n",
    "If you change the first instruction from nop +0 to jmp +0, it would create a single-instruction infinite loop, never leaving that instruction. If you change almost any of the jmp instructions, the program will still eventually find another jmp instruction and loop forever.\n",
    "\n",
    "However, if you change the second-to-last instruction (from jmp -4 to nop -4), the program terminates! The instructions are visited in this order:\n",
    "\n",
    "- nop +0  | 1\n",
    "- acc +1  | 2\n",
    "- jmp +4  | 3\n",
    "- acc +3  |\n",
    "- jmp -3  |\n",
    "- acc -99 |\n",
    "- acc +1  | 4\n",
    "- nop -4  | 5\n",
    "- acc +6  | 6\n",
    "\n",
    "After the last instruction (acc +6), the program terminates by attempting to run the instruction below the last instruction in the file. With this change, after the program terminates, the accumulator contains the value 8 (acc +1, acc +1, acc +6).\n",
    "\n",
    "Fix the program so that it terminates normally by changing exactly one jmp (to nop) or nop (to jmp). What is the value of the accumulator after the program terminates?\n"
   ]
  },
  {
   "cell_type": "code",
   "execution_count": 9,
   "metadata": {},
   "outputs": [],
   "source": [
    "def process_instruction(instruction, steps):\n",
    "    '''takes in an instruction and value or steps and modifies global variables\n",
    "    acc_count and position, returning a flag indicating if new position has been\n",
    "    run before'''\n",
    "    global count, pos\n",
    "    \n",
    "    # Set to True has_run flag for this position\n",
    "    test_instructions.at[pos,'has_run'] = True\n",
    "    \n",
    "#    print(instruction, pos, steps, count)\n",
    "    if instruction=='acc':\n",
    "        # increase acc_count by steps and position by 1\n",
    "        count += steps\n",
    "        pos += 1\n",
    "    elif instruction == 'jmp':\n",
    "        # do not touch acc_count but jump forward or backward number of steps\n",
    "        pos += steps\n",
    "    else:\n",
    "        # do nothing but go forward one position\n",
    "        pos += 1\n",
    "    \n",
    "    # We want to return stop processing the instructions under two circumstances, \n",
    "    # if we've hit the bottom of the instructions or if the loop is infinite\n",
    "    if (pos == last_pos + 1):\n",
    "        return True\n",
    "    elif test_instructions.iloc[pos]['has_run']:\n",
    "        return True\n",
    "    else:\n",
    "        return False"
   ]
  },
  {
   "cell_type": "code",
   "execution_count": 10,
   "metadata": {},
   "outputs": [
    {
     "name": "stdout",
     "output_type": "stream",
     "text": [
      "We did it!  Count =  2188\n"
     ]
    }
   ],
   "source": [
    "# Put this inside a loop where we loop through our dataframe, changing one nop or jmp instruction at a time\n",
    "\n",
    "# Start at the first instruction\n",
    "test_pos = 0\n",
    "test_flag = True\n",
    "last_pos = instructions.shape[0]-1\n",
    "\n",
    "while test_flag:\n",
    "    \n",
    "    # make a copy of our dataframe with the original set of instructions\n",
    "    test_instructions = instructions.copy()\n",
    "    # grab the next instruction to test\n",
    "    test_inst = test_instructions.iloc[test_pos]['instruction']\n",
    "    \n",
    "    if (test_inst == 'jmp' or test_inst == 'nop'):\n",
    "        \n",
    "        # swap instructions\n",
    "        if test_inst == 'jmp':\n",
    "            test_instructions.at[test_pos,'instruction'] = 'nop' \n",
    "        else:\n",
    "            test_instructions.at[test_pos,'instruction'] = 'jmp'\n",
    " \n",
    "        # now test this set of instructions\n",
    "        pos = 0\n",
    "        count = 0\n",
    "        test_instructions['has_run']=False\n",
    "        flag = False\n",
    "        while not flag:\n",
    "            flag = process_instruction(test_instructions.iloc[pos]['instruction'], test_instructions.iloc[pos]['steps'])\n",
    " \n",
    "        # we're back from testing that set of instructions\n",
    "        # Let's see if it finished due to an infinite loop or whether it actually completed\n",
    "        if pos == last_pos+1:\n",
    "            print(\"We did it!  Count = \", count)\n",
    "            test_flag = False\n",
    "                \n",
    "    test_pos += 1\n",
    "    if test_pos == last_pos:\n",
    "        # We've reached the bottom of the instructions\n",
    "        test_flag = False\n"
   ]
  },
  {
   "cell_type": "code",
   "execution_count": null,
   "metadata": {},
   "outputs": [],
   "source": []
  }
 ],
 "metadata": {
  "kernelspec": {
   "display_name": "Python [conda env:TestEnv] *",
   "language": "python",
   "name": "conda-env-TestEnv-py"
  },
  "language_info": {
   "codemirror_mode": {
    "name": "ipython",
    "version": 3
   },
   "file_extension": ".py",
   "mimetype": "text/x-python",
   "name": "python",
   "nbconvert_exporter": "python",
   "pygments_lexer": "ipython3",
   "version": "3.8.2"
  }
 },
 "nbformat": 4,
 "nbformat_minor": 4
}

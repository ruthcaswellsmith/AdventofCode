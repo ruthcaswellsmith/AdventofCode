{
 "cells": [
  {
   "cell_type": "markdown",
   "metadata": {},
   "source": [
    "## Day 14"
   ]
  },
  {
   "cell_type": "markdown",
   "metadata": {},
   "source": [
    "### Part 1 \n",
    "\n",
    "As your ferry approaches the sea port, the captain asks for your help again. The computer system that runs this port isn't compatible with the docking program on the ferry, so the docking parameters aren't being correctly initialized in the docking program's memory.\n",
    "\n",
    "After a brief inspection, you discover that the sea port's computer system uses a strange bitmask system in its initialization program. Although you don't have the correct decoder chip handy, you can emulate it in software!\n",
    "\n",
    "The initialization program (your puzzle input) can either update the bitmask or write a value to memory. Values and memory addresses are both 36-bit unsigned integers. For example, ignoring bitmasks for a moment, a line like mem[8] = 11 would write the value 11 to memory address 8.\n",
    "\n",
    "The bitmask is always given as a string of 36 bits, written with the most significant bit (representing 2^35) on the left and the least significant bit (2^0, that is, the 1s bit) on the right. The current bitmask is applied to values immediately before they are written to memory: a 0 or 1 overwrites the corresponding bit in the value, while an X leaves the bit in the value unchanged.\n",
    "\n",
    "For example, consider the following program:\n",
    "\n",
    "- mask = XXXXXXXXXXXXXXXXXXXXXXXXXXXXX1XXXX0X\n",
    "- mem[8] = 11\n",
    "- mem[7] = 101\n",
    "- mem[8] = 0\n",
    "\n",
    "This program starts by specifying a bitmask (mask = ....). The mask it specifies will overwrite two bits in every written value: the 2s bit is overwritten with 0, and the 64s bit is overwritten with 1.\n",
    "\n",
    "The program then attempts to write the value 11 to memory address 8. By expanding everything out to individual bits, the mask is applied as follows:\n",
    "\n",
    "- value:  000000000000000000000000000000001011  (decimal 11)\n",
    "- mask:   XXXXXXXXXXXXXXXXXXXXXXXXXXXXX1XXXX0X\n",
    "- result: 000000000000000000000000000001001001  (decimal 73)\n",
    "\n",
    "So, because of the mask, the value 73 is written to memory address 8 instead. Then, the program tries to write 101 to address 7:\n",
    "\n",
    "- value:  000000000000000000000000000001100101  (decimal 101)\n",
    "- mask:   XXXXXXXXXXXXXXXXXXXXXXXXXXXXX1XXXX0X\n",
    "- result: 000000000000000000000000000001100101  (decimal 101)\n",
    "\n",
    "This time, the mask has no effect, as the bits it overwrote were already the values the mask tried to set. Finally, the program tries to write 0 to address 8:\n",
    "\n",
    "- value:  000000000000000000000000000000000000  (decimal 0)\n",
    "- mask:   XXXXXXXXXXXXXXXXXXXXXXXXXXXXX1XXXX0X\n",
    "- result: 000000000000000000000000000001000000  (decimal 64)\n",
    "\n",
    "64 is written to address 8 instead, overwriting the value that was there previously.\n",
    "\n",
    "To initialize your ferry's docking program, you need the sum of all values left in memory after the initialization program completes. (The entire 36-bit address space begins initialized to the value 0 at every address.) In the above example, only two values in memory are not zero - 101 (at address 7) and 64 (at address 8) - producing a sum of 165.\n",
    "\n",
    "Execute the initialization program. What is the sum of all values left in memory after it completes?"
   ]
  },
  {
   "cell_type": "code",
   "execution_count": 1,
   "metadata": {},
   "outputs": [],
   "source": [
    "import pandas as pd\n",
    "import numpy as np"
   ]
  },
  {
   "cell_type": "code",
   "execution_count": 2,
   "metadata": {},
   "outputs": [
    {
     "data": {
      "text/html": [
       "<div>\n",
       "<style scoped>\n",
       "    .dataframe tbody tr th:only-of-type {\n",
       "        vertical-align: middle;\n",
       "    }\n",
       "\n",
       "    .dataframe tbody tr th {\n",
       "        vertical-align: top;\n",
       "    }\n",
       "\n",
       "    .dataframe thead th {\n",
       "        text-align: right;\n",
       "    }\n",
       "</style>\n",
       "<table border=\"1\" class=\"dataframe\">\n",
       "  <thead>\n",
       "    <tr style=\"text-align: right;\">\n",
       "      <th></th>\n",
       "      <th>action</th>\n",
       "      <th>value</th>\n",
       "    </tr>\n",
       "  </thead>\n",
       "  <tbody>\n",
       "    <tr>\n",
       "      <th>0</th>\n",
       "      <td>mask</td>\n",
       "      <td>X111000X0101100001000000100011X0000X</td>\n",
       "    </tr>\n",
       "    <tr>\n",
       "      <th>1</th>\n",
       "      <td>mem[4812]</td>\n",
       "      <td>133322396</td>\n",
       "    </tr>\n",
       "    <tr>\n",
       "      <th>2</th>\n",
       "      <td>mem[39136]</td>\n",
       "      <td>1924962</td>\n",
       "    </tr>\n",
       "    <tr>\n",
       "      <th>3</th>\n",
       "      <td>mem[35697]</td>\n",
       "      <td>29912136</td>\n",
       "    </tr>\n",
       "    <tr>\n",
       "      <th>4</th>\n",
       "      <td>mem[41065]</td>\n",
       "      <td>2558851</td>\n",
       "    </tr>\n",
       "  </tbody>\n",
       "</table>\n",
       "</div>"
      ],
      "text/plain": [
       "       action                                 value\n",
       "0        mask  X111000X0101100001000000100011X0000X\n",
       "1   mem[4812]                             133322396\n",
       "2  mem[39136]                               1924962\n",
       "3  mem[35697]                              29912136\n",
       "4  mem[41065]                               2558851"
      ]
     },
     "execution_count": 2,
     "metadata": {},
     "output_type": "execute_result"
    }
   ],
   "source": [
    "df = pd.read_csv('input_data/Day14.txt', sep='=', header=None)\n",
    "df.columns=['action','value']\n",
    "df['action']=df['action'].str.strip('\\n')\n",
    "df['action']=df['action'].str.strip(' ')\n",
    "df['value']=df['value'].str.strip('\\n')\n",
    "df['value']=df['value'].str.strip(' ')\n",
    "df.head()"
   ]
  },
  {
   "cell_type": "code",
   "execution_count": 3,
   "metadata": {},
   "outputs": [],
   "source": [
    "def process_address(val, mask):\n",
    "    '''takes a value instruction and a mask and returns the result'''\n",
    "   \n",
    "    # convert our new value to binary, strip the leading 0b and pad it with zeros on the left\n",
    "    val = ( 36*'0' + (bin(int(val))[2:]) )[-36:]\n",
    "    result = val\n",
    "\n",
    "    for i in range(36):       \n",
    "\n",
    "        if mask[i] != 'X':\n",
    "            result = result[:i] + mask[i] + result[i+1:]\n",
    "        \n",
    "    return result"
   ]
  },
  {
   "cell_type": "code",
   "execution_count": 4,
   "metadata": {},
   "outputs": [],
   "source": [
    "# Create a new dataframe to hold memory values\n",
    "memory = pd.DataFrame(columns=['value'])\n",
    "\n",
    "# Looop through our dataframe\n",
    "for idx, row in df.iterrows():\n",
    "    \n",
    "    if row['action']=='mask':\n",
    "      \n",
    "        # we have a new mask\n",
    "        mask = row['value'] \n",
    "#        print('new mask: ', mask)\n",
    "    \n",
    "    else: # we have a new value for an address\n",
    "        \n",
    "        # process next instruction\n",
    "        address = int(row['action'][row['action'].find('[')+1:].strip(']'))\n",
    "        #print('address:', address)\n",
    "        \n",
    "        if not (address in memory.index):\n",
    "            # initialize this address\n",
    "            memory.loc[address] = 36*'0'\n",
    "            \n",
    "        memory.loc[address] = process_address(row['value'], mask)"
   ]
  },
  {
   "cell_type": "code",
   "execution_count": 5,
   "metadata": {},
   "outputs": [
    {
     "data": {
      "text/plain": [
       "8570568288597"
      ]
     },
     "execution_count": 5,
     "metadata": {},
     "output_type": "execute_result"
    }
   ],
   "source": [
    "# Let's sum all the values in our memory\n",
    "memory.apply(lambda x: int(x['value'],2), axis=1).sum()"
   ]
  },
  {
   "cell_type": "markdown",
   "metadata": {},
   "source": [
    "### Part 2\n",
    "\n",
    "\n",
    "For some reason, the sea port's computer system still can't communicate with your ferry's docking program. It must be using version 2 of the decoder chip!\n",
    "\n",
    "A version 2 decoder chip doesn't modify the values being written at all. Instead, it acts as a memory address decoder. Immediately before a value is written to memory, each bit in the bitmask modifies the corresponding bit of the destination memory address in the following way:\n",
    "\n",
    "- If the bitmask bit is 0, the corresponding memory address bit is unchanged.\n",
    "- If the bitmask bit is 1, the corresponding memory address bit is overwritten with 1.\n",
    "- If the bitmask bit is X, the corresponding memory address bit is floating.\n",
    "\n",
    "A floating bit is not connected to anything and instead fluctuates unpredictably. In practice, this means the floating bits will take on all possible values, potentially causing many memory addresses to be written all at once!\n",
    "\n",
    "For example, consider the following program:\n",
    "\n",
    "- mask = 000000000000000000000000000000X1001X\n",
    "- mem[42] = 100\n",
    "- mask = 00000000000000000000000000000000X0XX\n",
    "- mem[26] = 1\n",
    "\n",
    "When this program goes to write to memory address 42, it first applies the bitmask:\n",
    "\n",
    "- address: 000000000000000000000000000000101010  (decimal 42)\n",
    "- mask:    000000000000000000000000000000X1001X\n",
    "- result:  000000000000000000000000000000X1101X\n",
    "\n",
    "After applying the mask, four bits are overwritten, three of which are different, and two of which are floating. Floating bits take on every possible combination of values; with two floating bits, four actual memory addresses are written:\n",
    "\n",
    "- 000000000000000000000000000000011010  (decimal 26)\n",
    "- 000000000000000000000000000000011011  (decimal 27)\n",
    "- 000000000000000000000000000000111010  (decimal 58)\n",
    "- 000000000000000000000000000000111011  (decimal 59)\n",
    "\n",
    "Next, the program is about to write to memory address 26 with a different bitmask:\n",
    "\n",
    "- address: 000000000000000000000000000000011010  (decimal 26)\n",
    "- mask:    00000000000000000000000000000000X0XX\n",
    "- result:  00000000000000000000000000000001X0XX\n",
    "\n",
    "This results in an address with three floating bits, causing writes to eight memory addresses:\n",
    "\n",
    "- 000000000000000000000000000000010000  (decimal 16)\n",
    "- 000000000000000000000000000000010001  (decimal 17)\n",
    "- 000000000000000000000000000000010010  (decimal 18)\n",
    "- 000000000000000000000000000000010011  (decimal 19)\n",
    "- 000000000000000000000000000000011000  (decimal 24)\n",
    "- 000000000000000000000000000000011001  (decimal 25)\n",
    "- 000000000000000000000000000000011010  (decimal 26)\n",
    "- 000000000000000000000000000000011011  (decimal 27)\n",
    "\n",
    "The entire 36-bit address space still begins initialized to the value 0 at every address, and you still need the sum of all values left in memory at the end of the program. In this example, the sum is 208.\n",
    "\n",
    "Execute the initialization program using an emulator for a version 2 decoder chip. What is the sum of all values left in memory after it completes?"
   ]
  },
  {
   "cell_type": "code",
   "execution_count": 6,
   "metadata": {},
   "outputs": [
    {
     "data": {
      "text/plain": [
       "9"
      ]
     },
     "execution_count": 6,
     "metadata": {},
     "output_type": "execute_result"
    }
   ],
   "source": [
    "# Let's look at all the masks\n",
    "df[df['action']=='mask']['value'].str.count('X').max()"
   ]
  },
  {
   "cell_type": "code",
   "execution_count": 7,
   "metadata": {},
   "outputs": [
    {
     "data": {
      "text/plain": [
       "467"
      ]
     },
     "execution_count": 7,
     "metadata": {},
     "output_type": "execute_result"
    }
   ],
   "source": [
    "df[df['action']!='mask']['action'].count()"
   ]
  },
  {
   "cell_type": "code",
   "execution_count": 8,
   "metadata": {},
   "outputs": [
    {
     "data": {
      "text/plain": [
       "239104"
      ]
     },
     "execution_count": 8,
     "metadata": {},
     "output_type": "execute_result"
    }
   ],
   "source": [
    "# So at most we have 512 addresses to write for each instruction, and we have 467 instructions, so that's\n",
    "467*512"
   ]
  },
  {
   "cell_type": "code",
   "execution_count": 9,
   "metadata": {},
   "outputs": [],
   "source": [
    "# so we shouldn't have performance issues (I don't think!) and we can just\n",
    "# use simple logic"
   ]
  },
  {
   "cell_type": "code",
   "execution_count": 10,
   "metadata": {},
   "outputs": [],
   "source": [
    "# Let's add a column to just store addresses so we don't have process these every time\n",
    "def get_addr(address):\n",
    "    '''takes mem string and returns address'''\n",
    "    if address=='mask':\n",
    "        return address\n",
    "    else:\n",
    "        return int(address[address.find('[')+1:].strip(']'))"
   ]
  },
  {
   "cell_type": "code",
   "execution_count": 11,
   "metadata": {},
   "outputs": [],
   "source": [
    "#df.apply(lambda x: get_addr(x['action']),axis = 1)\n",
    "df['address']=df.apply(lambda x: get_addr(x['action']),axis = 1)"
   ]
  },
  {
   "cell_type": "code",
   "execution_count": 12,
   "metadata": {},
   "outputs": [
    {
     "data": {
      "text/html": [
       "<div>\n",
       "<style scoped>\n",
       "    .dataframe tbody tr th:only-of-type {\n",
       "        vertical-align: middle;\n",
       "    }\n",
       "\n",
       "    .dataframe tbody tr th {\n",
       "        vertical-align: top;\n",
       "    }\n",
       "\n",
       "    .dataframe thead th {\n",
       "        text-align: right;\n",
       "    }\n",
       "</style>\n",
       "<table border=\"1\" class=\"dataframe\">\n",
       "  <thead>\n",
       "    <tr style=\"text-align: right;\">\n",
       "      <th></th>\n",
       "      <th>action</th>\n",
       "      <th>value</th>\n",
       "      <th>address</th>\n",
       "    </tr>\n",
       "  </thead>\n",
       "  <tbody>\n",
       "    <tr>\n",
       "      <th>0</th>\n",
       "      <td>mask</td>\n",
       "      <td>X111000X0101100001000000100011X0000X</td>\n",
       "      <td>mask</td>\n",
       "    </tr>\n",
       "    <tr>\n",
       "      <th>1</th>\n",
       "      <td>mem[4812]</td>\n",
       "      <td>133322396</td>\n",
       "      <td>4812</td>\n",
       "    </tr>\n",
       "    <tr>\n",
       "      <th>2</th>\n",
       "      <td>mem[39136]</td>\n",
       "      <td>1924962</td>\n",
       "      <td>39136</td>\n",
       "    </tr>\n",
       "    <tr>\n",
       "      <th>3</th>\n",
       "      <td>mem[35697]</td>\n",
       "      <td>29912136</td>\n",
       "      <td>35697</td>\n",
       "    </tr>\n",
       "    <tr>\n",
       "      <th>4</th>\n",
       "      <td>mem[41065]</td>\n",
       "      <td>2558851</td>\n",
       "      <td>41065</td>\n",
       "    </tr>\n",
       "    <tr>\n",
       "      <th>...</th>\n",
       "      <td>...</td>\n",
       "      <td>...</td>\n",
       "      <td>...</td>\n",
       "    </tr>\n",
       "    <tr>\n",
       "      <th>562</th>\n",
       "      <td>mem[48342]</td>\n",
       "      <td>177911</td>\n",
       "      <td>48342</td>\n",
       "    </tr>\n",
       "    <tr>\n",
       "      <th>563</th>\n",
       "      <td>mask</td>\n",
       "      <td>00011X11011X010X00000011X10010X10111</td>\n",
       "      <td>mask</td>\n",
       "    </tr>\n",
       "    <tr>\n",
       "      <th>564</th>\n",
       "      <td>mem[6531]</td>\n",
       "      <td>1493325</td>\n",
       "      <td>6531</td>\n",
       "    </tr>\n",
       "    <tr>\n",
       "      <th>565</th>\n",
       "      <td>mem[35058]</td>\n",
       "      <td>21547</td>\n",
       "      <td>35058</td>\n",
       "    </tr>\n",
       "    <tr>\n",
       "      <th>566</th>\n",
       "      <td>mem[13400]</td>\n",
       "      <td>5230289</td>\n",
       "      <td>13400</td>\n",
       "    </tr>\n",
       "  </tbody>\n",
       "</table>\n",
       "<p>567 rows × 3 columns</p>\n",
       "</div>"
      ],
      "text/plain": [
       "         action                                 value address\n",
       "0          mask  X111000X0101100001000000100011X0000X    mask\n",
       "1     mem[4812]                             133322396    4812\n",
       "2    mem[39136]                               1924962   39136\n",
       "3    mem[35697]                              29912136   35697\n",
       "4    mem[41065]                               2558851   41065\n",
       "..          ...                                   ...     ...\n",
       "562  mem[48342]                                177911   48342\n",
       "563        mask  00011X11011X010X00000011X10010X10111    mask\n",
       "564   mem[6531]                               1493325    6531\n",
       "565  mem[35058]                                 21547   35058\n",
       "566  mem[13400]                               5230289   13400\n",
       "\n",
       "[567 rows x 3 columns]"
      ]
     },
     "execution_count": 12,
     "metadata": {},
     "output_type": "execute_result"
    }
   ],
   "source": [
    "df"
   ]
  },
  {
   "cell_type": "code",
   "execution_count": 13,
   "metadata": {},
   "outputs": [],
   "source": [
    "def process_address(val, mask):\n",
    "    '''takes a value instruction and a mask and returns the result'''\n",
    "   \n",
    "    # convert our new value to binary, strip the leading 0b and pad it with zeros on the left\n",
    "    val = ( 36*'0' + (bin(int(val))[2:]) )[-36:]\n",
    "    result = val\n",
    "\n",
    "    for i in range(36):       \n",
    "\n",
    "        if mask[i] != 'X':\n",
    "            result = result[:i] + mask[i] + result[i+1:]\n",
    "        \n",
    "    return result"
   ]
  },
  {
   "cell_type": "code",
   "execution_count": 14,
   "metadata": {},
   "outputs": [],
   "source": [
    "def get_addresses(addr, mask):\n",
    "    '''takes an address and a mask and returns a list of all possible addresses'''\n",
    "    \n",
    "    # convert our new address to binary, strip the leading 0b and pad it with zeros on the left\n",
    "    addr = ( 36*'0' + (bin(addr)[2:]) )[-36:]\n",
    "    \n",
    "    # apply the mask to the address\n",
    "    for i in range(36):       \n",
    "        # if we have a X or 1 replace that bit with X or 1, otherwise leave it\n",
    "        if mask[i] in ['1','X']:\n",
    "            addr = addr[:i] + mask[i] + addr[i+1:] \n",
    "\n",
    "    # initialize a list to hold all the variations of the address\n",
    "    working_addr = addr\n",
    "    addresses = [addr]\n",
    "    i = working_addr.find('X')\n",
    "\n",
    "    # loop through our working address as long as we have another X, replacing each X with Y as we deal with it\n",
    "    while i >= 0:\n",
    "    \n",
    "        curr_num_addr = len(addresses)\n",
    "        for j in range(curr_num_addr):\n",
    "            st = addresses.pop(0)\n",
    "            addresses.append(st[:i] + '1' + st[i+1:])\n",
    "            addresses.append(st[:i] + '0' + st[i+1:])\n",
    "    \n",
    "        # replace 'X' with 'Y'\n",
    "        working_addr = working_addr[:i] + 'Y' + working_addr[i+1:]\n",
    "        i = working_addr.find('X')\n",
    "       \n",
    "    return addresses"
   ]
  },
  {
   "cell_type": "code",
   "execution_count": 15,
   "metadata": {},
   "outputs": [
    {
     "data": {
      "text/plain": [
       "['000000000000000000000000000000111011',\n",
       " '000000000000000000000000000000111010',\n",
       " '000000000000000000000000000000011011',\n",
       " '000000000000000000000000000000011010']"
      ]
     },
     "execution_count": 15,
     "metadata": {},
     "output_type": "execute_result"
    }
   ],
   "source": [
    "# Test this for our two test cases\n",
    "get_addresses(42,'000000000000000000000000000000X1001X')"
   ]
  },
  {
   "cell_type": "code",
   "execution_count": 16,
   "metadata": {},
   "outputs": [
    {
     "data": {
      "text/plain": [
       "['000000000000000000000000000000011011',\n",
       " '000000000000000000000000000000011010',\n",
       " '000000000000000000000000000000011001',\n",
       " '000000000000000000000000000000011000',\n",
       " '000000000000000000000000000000010011',\n",
       " '000000000000000000000000000000010010',\n",
       " '000000000000000000000000000000010001',\n",
       " '000000000000000000000000000000010000']"
      ]
     },
     "execution_count": 16,
     "metadata": {},
     "output_type": "execute_result"
    }
   ],
   "source": [
    "get_addresses(26,'00000000000000000000000000000000X0XX')"
   ]
  },
  {
   "cell_type": "code",
   "execution_count": 17,
   "metadata": {},
   "outputs": [
    {
     "data": {
      "text/plain": [
       "3289441921203"
      ]
     },
     "execution_count": 17,
     "metadata": {},
     "output_type": "execute_result"
    }
   ],
   "source": [
    "# Create a new dataframe to hold memory values\n",
    "memory = pd.DataFrame(columns=['value'])\n",
    "\n",
    "# Looop through our dataframe\n",
    "for idx, row in df.iterrows():\n",
    "    \n",
    "    if row['action']=='mask':\n",
    "      \n",
    "        # we have a new mask\n",
    "        mask = row['value'] \n",
    "    \n",
    "    else: # we have a new value for an address\n",
    "        \n",
    "        # Now, the value that is written to memory can just be the decimal value\n",
    "        val = int(row['value'])\n",
    "        \n",
    "        # get the list of addresses affected\n",
    "        addresses = get_addresses(int(row['address']), mask)\n",
    "        \n",
    "        # Now we write val to each of these memory locations\n",
    "        for address in addresses:\n",
    "            dec_addr = int(address,2)\n",
    "            memory.loc[dec_addr] = val\n",
    "            \n",
    "# Let's sum all the values in our memory\n",
    "memory['value'].sum()"
   ]
  }
 ],
 "metadata": {
  "kernelspec": {
   "display_name": "Python 3",
   "language": "python",
   "name": "python3"
  },
  "language_info": {
   "codemirror_mode": {
    "name": "ipython",
    "version": 3
   },
   "file_extension": ".py",
   "mimetype": "text/x-python",
   "name": "python",
   "nbconvert_exporter": "python",
   "pygments_lexer": "ipython3",
   "version": "3.8.3"
  }
 },
 "nbformat": 4,
 "nbformat_minor": 4
}

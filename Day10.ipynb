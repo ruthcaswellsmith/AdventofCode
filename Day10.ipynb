{
 "cells": [
  {
   "cell_type": "markdown",
   "metadata": {},
   "source": [
    "## Day 10"
   ]
  },
  {
   "cell_type": "markdown",
   "metadata": {},
   "source": [
    "### Part 1\n",
    "Patched into the aircraft's data port, you discover weather forecasts of a massive tropical storm. Before you can figure out whether it will impact your vacation plans, however, your device suddenly turns off!\n",
    "\n",
    "Its battery is dead.\n",
    "\n",
    "You'll need to plug it in. There's only one problem: the charging outlet near your seat produces the wrong number of jolts. Always prepared, you make a list of all of the joltage adapters in your bag.\n",
    "\n",
    "Each of your joltage adapters is rated for a specific output joltage (your puzzle input). Any given adapter can take an input 1, 2, or 3 jolts lower than its rating and still produce its rated output joltage.\n",
    "\n",
    "In addition, your device has a built-in joltage adapter rated for 3 jolts higher than the highest-rated adapter in your bag. (If your adapter list were 3, 9, and 6, your device's built-in adapter would be rated for 12 jolts.)\n",
    "\n",
    "Treat the charging outlet near your seat as having an effective joltage rating of 0.\n",
    "\n",
    "Since you have some time to kill, you might as well test all of your adapters. Wouldn't want to get to your resort and realize you can't even charge your device!\n",
    "\n",
    "If you use every adapter in your bag at once, what is the distribution of joltage differences between the charging outlet, the adapters, and your device?\n",
    "\n",
    "For example, suppose that in your bag, you have adapters with the following joltage ratings:\n",
    "\n",
    "- 16\n",
    "- 10\n",
    "- 15\n",
    "- 5\n",
    "- 1\n",
    "- 11\n",
    "- 7\n",
    "- 19\n",
    "- 6\n",
    "- 12\n",
    "- 4\n",
    "\n",
    "With these adapters, your device's built-in joltage adapter would be rated for 19 + 3 = 22 jolts, 3 higher than the highest-rated adapter.\n",
    "\n",
    "Because adapters can only connect to a source 1-3 jolts lower than its rating, in order to use every adapter, you'd need to choose them like this:\n",
    "\n",
    "The charging outlet has an effective rating of 0 jolts, so the only adapters that could connect to it directly would need to have a joltage rating of 1, 2, or 3 jolts. Of these, only one you have is an adapter rated 1 jolt (difference of 1).\n",
    "From your 1-jolt rated adapter, the only choice is your 4-jolt rated adapter (difference of 3).\n",
    "From the 4-jolt rated adapter, the adapters rated 5, 6, or 7 are valid choices. However, in order to not skip any adapters, you have to pick the adapter rated 5 jolts (difference of 1).\n",
    "Similarly, the next choices would need to be the adapter rated 6 and then the adapter rated 7 (with difference of 1 and 1).\n",
    "The only adapter that works with the 7-jolt rated adapter is the one rated 10 jolts (difference of 3).\n",
    "From 10, the choices are 11 or 12; choose 11 (difference of 1) and then 12 (difference of 1).\n",
    "After 12, only valid adapter has a rating of 15 (difference of 3), then 16 (difference of 1), then 19 (difference of 3).\n",
    "Finally, your device's built-in adapter is always 3 higher than the highest adapter, so its rating is 22 jolts (always a difference of 3).\n",
    "In this example, when using every adapter, there are 7 differences of 1 jolt and 5 differences of 3 jolts.\n",
    "\n",
    "Here is a larger example:\n",
    "\n",
    "- 28\n",
    "- 33\n",
    "- 18\n",
    "- 42\n",
    "- 31\n",
    "- 14\n",
    "- 46\n",
    "- 20\n",
    "- 48\n",
    "- 47\n",
    "- 24\n",
    "- 23\n",
    "- 49\n",
    "- 45\n",
    "- 19\n",
    "- 38\n",
    "- 39\n",
    "- 11\n",
    "- 1\n",
    "- 32\n",
    "- 25\n",
    "- 35\n",
    "- 8\n",
    "- 17\n",
    "- 7\n",
    "- 9\n",
    "- 4\n",
    "- 2\n",
    "- 34\n",
    "- 10\n",
    "- 3\n",
    "\n",
    "In this larger example, in a chain that uses all of the adapters, there are 22 differences of 1 jolt and 10 differences of 3 jolts.\n",
    "\n",
    "Find a chain that uses all of your adapters to connect the charging outlet to your device's built-in adapter and count the joltage differences between the charging outlet, the adapters, and your device. What is the number of 1-jolt differences multiplied by the number of 3-jolt differences?\n",
    "\n"
   ]
  },
  {
   "cell_type": "code",
   "execution_count": 1,
   "metadata": {},
   "outputs": [],
   "source": [
    "# import packages\n",
    "import pandas as pd\n",
    "import numpy as np"
   ]
  },
  {
   "cell_type": "code",
   "execution_count": 2,
   "metadata": {},
   "outputs": [],
   "source": [
    "# read in data\n",
    "adapters = pd.read_csv('input_data/Day10.txt', header=None)"
   ]
  },
  {
   "cell_type": "code",
   "execution_count": 3,
   "metadata": {},
   "outputs": [
    {
     "data": {
      "text/plain": [
       "(93, 1)"
      ]
     },
     "execution_count": 3,
     "metadata": {},
     "output_type": "execute_result"
    }
   ],
   "source": [
    "adapters.shape"
   ]
  },
  {
   "cell_type": "code",
   "execution_count": 4,
   "metadata": {},
   "outputs": [],
   "source": [
    "adapters.columns=['joltage']"
   ]
  },
  {
   "cell_type": "code",
   "execution_count": 5,
   "metadata": {},
   "outputs": [],
   "source": [
    "sorted_adapters = adapters['joltage'].sort_values().to_list()"
   ]
  },
  {
   "cell_type": "code",
   "execution_count": 6,
   "metadata": {},
   "outputs": [
    {
     "name": "stdout",
     "output_type": "stream",
     "text": [
      "{1: 64, 2: 0, 3: 30}\n",
      "Answer is:  1920\n"
     ]
    }
   ],
   "source": [
    "joltage = 0\n",
    "\n",
    "jolt_diff = {1:0, 2:0, 3:0}\n",
    "\n",
    "for adapter in sorted_adapters:\n",
    "    \n",
    "    diff = adapter - joltage\n",
    "#    print('Adapater: ', adapter, 'joltage: ', joltage, 'diff: ', diff)\n",
    "\n",
    "    jolt_diff[diff] += 1\n",
    "    joltage = adapter\n",
    "    \n",
    "# Last difference is always three\n",
    "\n",
    "jolt_diff[3] += 1\n",
    "\n",
    "print(jolt_diff)\n",
    "\n",
    "print('Answer is: ', jolt_diff[1] * jolt_diff[3])"
   ]
  },
  {
   "cell_type": "markdown",
   "metadata": {},
   "source": [
    "## Part 2"
   ]
  },
  {
   "cell_type": "markdown",
   "metadata": {},
   "source": [
    "To completely determine whether you have enough adapters, you'll need to figure out how many different ways they can be arranged. Every arrangement needs to connect the charging outlet to your device. The previous rules about when adapters can successfully connect still apply.\n",
    "\n",
    "The first example above (the one that starts with 16, 10, 15) supports the following arrangements:\n",
    "\n",
    "- (0), 1, 4, 5, 6, 7, 10, 11, 12, 15, 16, 19, (22)\n",
    "- (0), 1, 4, 5, 6, 7, 10, 12, 15, 16, 19, (22)\n",
    "- (0), 1, 4, 5, 7, 10, 11, 12, 15, 16, 19, (22)\n",
    "- (0), 1, 4, 5, 7, 10, 12, 15, 16, 19, (22)\n",
    "- (0), 1, 4, 6, 7, 10, 11, 12, 15, 16, 19, (22)\n",
    "- (0), 1, 4, 6, 7, 10, 12, 15, 16, 19, (22)\n",
    "- (0), 1, 4, 7, 10, 11, 12, 15, 16, 19, (22)\n",
    "- (0), 1, 4, 7, 10, 12, 15, 16, 19, (22)\n",
    "\n",
    "(The charging outlet and your device's built-in adapter are shown in parentheses.) Given the adapters from the first example, the total number of arrangements that connect the charging outlet to your device is 8.\n",
    "\n",
    "The second example above (the one that starts with 28, 33, 18) has many arrangements. Here are a few:\n",
    "\n",
    "- (0), 1, 2, 3, 4, 7, 8, 9, 10, 11, 14, 17, 18, 19, 20, 23, 24, 25, 28, 31,\n",
    "32, 33, 34, 35, 38, 39, 42, 45, 46, 47, 48, 49, (52)\n",
    "\n",
    "- (0), 1, 2, 3, 4, 7, 8, 9, 10, 11, 14, 17, 18, 19, 20, 23, 24, 25, 28, 31,\n",
    "32, 33, 34, 35, 38, 39, 42, 45, 46, 47, 49, (52)\n",
    "\n",
    "- (0), 1, 2, 3, 4, 7, 8, 9, 10, 11, 14, 17, 18, 19, 20, 23, 24, 25, 28, 31,\n",
    "32, 33, 34, 35, 38, 39, 42, 45, 46, 48, 49, (52)\n",
    "\n",
    "- (0), 1, 2, 3, 4, 7, 8, 9, 10, 11, 14, 17, 18, 19, 20, 23, 24, 25, 28, 31,\n",
    "32, 33, 34, 35, 38, 39, 42, 45, 46, 49, (52)\n",
    "\n",
    "- (0), 1, 2, 3, 4, 7, 8, 9, 10, 11, 14, 17, 18, 19, 20, 23, 24, 25, 28, 31,\n",
    "32, 33, 34, 35, 38, 39, 42, 45, 47, 48, 49, (52)\n",
    "\n",
    "- (0), 3, 4, 7, 10, 11, 14, 17, 20, 23, 25, 28, 31, 34, 35, 38, 39, 42, 45,\n",
    "46, 48, 49, (52)\n",
    "\n",
    "- (0), 3, 4, 7, 10, 11, 14, 17, 20, 23, 25, 28, 31, 34, 35, 38, 39, 42, 45,\n",
    "46, 49, (52)\n",
    "\n",
    "- (0), 3, 4, 7, 10, 11, 14, 17, 20, 23, 25, 28, 31, 34, 35, 38, 39, 42, 45,\n",
    "47, 48, 49, (52)\n",
    "\n",
    "- (0), 3, 4, 7, 10, 11, 14, 17, 20, 23, 25, 28, 31, 34, 35, 38, 39, 42, 45,\n",
    "47, 49, (52)\n",
    "\n",
    "- (0), 3, 4, 7, 10, 11, 14, 17, 20, 23, 25, 28, 31, 34, 35, 38, 39, 42, 45,\n",
    "48, 49, (52)\n",
    "\n",
    "In total, this set of adapters can connect the charging outlet to your device in 19208 distinct arrangements.\n",
    "\n",
    "You glance back down at your bag and try to remember why you brought so many adapters; there must be more than a trillion valid ways to arrange them! Surely, there must be an efficient way to count the arrangements.\n",
    "\n",
    "What is the total number of distinct ways you can arrange the adapters to connect the charging outlet to your device?"
   ]
  },
  {
   "cell_type": "code",
   "execution_count": 7,
   "metadata": {},
   "outputs": [],
   "source": [
    "sorted_adapters.append(0)\n",
    "sorted_adapters.sort()\n",
    "sorted_adapters.append(max(sorted_adapters)+3)\n",
    "sorted_adapters.sort()"
   ]
  },
  {
   "cell_type": "code",
   "execution_count": 8,
   "metadata": {},
   "outputs": [],
   "source": [
    "def can_drop(three):\n",
    "    '''takes three sorted numbers and returns True if the one in the middle \n",
    "    can be dropped based on distance between first and third'''\n",
    "    return True if three[2]-three[0]<=3 else False"
   ]
  },
  {
   "cell_type": "code",
   "execution_count": 9,
   "metadata": {},
   "outputs": [],
   "source": [
    "def get_diff(list_of_adapters):\n",
    "    '''takes a list of adapters of length n and returns a list of differences of length n-1'''\n",
    "    diff = []\n",
    "    for i in range(len(list_of_adapters)-1):\n",
    "        diff.append(list_of_adapters[i+1] - list_of_adapters[i])\n",
    "    return diff"
   ]
  },
  {
   "cell_type": "code",
   "execution_count": 10,
   "metadata": {},
   "outputs": [],
   "source": [
    "def find_ones(ls):\n",
    "    '''takes a list and returns a 0, 2, 3, or 4 (indicating length of next string of ones)\n",
    "    as well as the remainder of the string after the list of ones occurs'''\n",
    "    \n",
    "    num_ones = 0\n",
    "    for i in range(len(ls)-1):\n",
    "        if ls[i] == 1:\n",
    "            num_ones += 1\n",
    "        else:\n",
    "            return num_ones, ls[i+1:]\n",
    "    return num_ones, ls[i+1:]"
   ]
  },
  {
   "cell_type": "code",
   "execution_count": 11,
   "metadata": {},
   "outputs": [
    {
     "data": {
      "text/plain": [
       "(4, [3])"
      ]
     },
     "execution_count": 11,
     "metadata": {},
     "output_type": "execute_result"
    }
   ],
   "source": [
    "find_ones([1, 1, 1, 1, 3])"
   ]
  },
  {
   "cell_type": "code",
   "execution_count": 12,
   "metadata": {},
   "outputs": [
    {
     "name": "stdout",
     "output_type": "stream",
     "text": [
      "variations:  2\n",
      "variations:  14\n",
      "variations:  98\n",
      "variations:  98\n",
      "variations:  686\n",
      "variations:  2744\n",
      "variations:  10976\n",
      "variations:  10976\n",
      "variations:  43904\n",
      "variations:  307328\n",
      "variations:  614656\n",
      "variations:  614656\n",
      "variations:  4302592\n",
      "variations:  4302592\n",
      "variations:  30118144\n",
      "variations:  30118144\n",
      "variations:  30118144\n",
      "variations:  60236288\n",
      "variations:  421654016\n",
      "variations:  421654016\n",
      "variations:  421654016\n",
      "variations:  1686616064\n",
      "variations:  6746464256\n",
      "variations:  6746464256\n",
      "variations:  47225249792\n",
      "variations:  47225249792\n",
      "variations:  47225249792\n",
      "variations:  188900999168\n",
      "variations:  377801998336\n",
      "variations:  1511207993344\n",
      "1511207993344\n"
     ]
    }
   ],
   "source": [
    "variations = 1\n",
    "\n",
    "# Let's get our array of differences\n",
    "diff = get_diff(sorted_adapters)\n",
    "#diff = get_diff([0, 1, 4, 5, 6, 7, 10, 11, 12, 15, 16, 19, 22])\n",
    "\n",
    "# Find a string of 1's\n",
    "while len(diff)>2:\n",
    "    \n",
    "#    print(diff)\n",
    "    num_ones, diff = find_ones(diff)\n",
    "#    print(num_ones, diff)\n",
    "    if num_ones == 4:\n",
    "        variations *= 7\n",
    "    elif num_ones == 3:\n",
    "        variations *= 4\n",
    "    elif num_ones == 2:\n",
    "        variations*= 2\n",
    "    print('variations: ', variations)   \n",
    "print(variations)"
   ]
  },
  {
   "cell_type": "code",
   "execution_count": 13,
   "metadata": {},
   "outputs": [],
   "source": [
    "def find_max_ones(ls):\n",
    "    '''takes a list of nubmers and returns max length of string of 1s'''\n",
    "    max_ones = 0\n",
    "    curr_total = 0\n",
    "    \n",
    "    for i in range(len(ls)):\n",
    "        if ls[i]==1:\n",
    "            curr_total += 1 \n",
    "        else:\n",
    "            if curr_total > max_ones:\n",
    "                max_ones = curr_total \n",
    "            curr_total = 0\n",
    "    return max_ones"
   ]
  },
  {
   "cell_type": "code",
   "execution_count": 14,
   "metadata": {},
   "outputs": [],
   "source": [
    "# 0, 1, 2, 3, 4, 7...\n",
    "\n",
    "# n=4\n",
    "# drop 1 or 2 or 3\n",
    "# drop 1&2, 1&3, 2&3\n",
    "\n",
    "# (4) 7, 8, 9, 10, 11, 14...\n",
    "# n=4\n",
    "# drop 8 or 9 or 10\n",
    "# drop 8&9, 8&10, 9&10 \n",
    "\n",
    "# (14) 17, 18, 19, 20, 23...\n",
    "# n=3\n",
    "# drop 18 or 19\n",
    "# drop 18&19\n",
    "\n",
    "# (20), 23, 24, 25, 28...\n",
    "# n=2\n",
    "# drop 24"
   ]
  },
  {
   "cell_type": "code",
   "execution_count": 16,
   "metadata": {},
   "outputs": [
    {
     "data": {
      "text/plain": [
       "95"
      ]
     },
     "execution_count": 16,
     "metadata": {},
     "output_type": "execute_result"
    }
   ],
   "source": [
    "len(sorted_adapters)"
   ]
  },
  {
   "cell_type": "code",
   "execution_count": null,
   "metadata": {},
   "outputs": [],
   "source": []
  }
 ],
 "metadata": {
  "kernelspec": {
   "display_name": "Python 3",
   "language": "python",
   "name": "python3"
  },
  "language_info": {
   "codemirror_mode": {
    "name": "ipython",
    "version": 3
   },
   "file_extension": ".py",
   "mimetype": "text/x-python",
   "name": "python",
   "nbconvert_exporter": "python",
   "pygments_lexer": "ipython3",
   "version": "3.8.3"
  }
 },
 "nbformat": 4,
 "nbformat_minor": 4
}

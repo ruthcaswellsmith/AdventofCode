{
 "cells": [
  {
   "cell_type": "markdown",
   "metadata": {},
   "source": [
    "## Day 7"
   ]
  },
  {
   "cell_type": "markdown",
   "metadata": {},
   "source": [
    "### Part 1\n",
    "You land at the regional airport in time for your next flight. In fact, it looks like you'll even have time to grab some food: all flights are currently delayed due to issues in luggage processing.\n",
    "\n",
    "Due to recent aviation regulations, many rules (your puzzle input) are being enforced about bags and their contents; bags must be color-coded and must contain specific quantities of other color-coded bags. Apparently, nobody responsible for these regulations considered how long they would take to enforce!\n",
    "\n",
    "For example, consider the following rules:\n",
    "\n",
    "- light red bags contain 1 bright white bag, 2 muted yellow bags.\n",
    "- dark orange bags contain 3 bright white bags, 4 muted yellow bags.\n",
    "- bright white bags contain 1 shiny gold bag.\n",
    "- muted yellow bags contain 2 shiny gold bags, 9 faded blue bags.\n",
    "- shiny gold bags contain 1 dark olive bag, 2 vibrant plum bags.\n",
    "- dark olive bags contain 3 faded blue bags, 4 dotted black bags.\n",
    "- vibrant plum bags contain 5 faded blue bags, 6 dotted black bags.\n",
    "- faded blue bags contain no other bags.\n",
    "- dotted black bags contain no other bags.\n",
    "\n",
    "These rules specify the required contents for 9 bag types. In this example, every faded blue bag is empty, every vibrant plum bag contains 11 bags (5 faded blue and 6 dotted black), and so on.\n",
    "\n",
    "You have a shiny gold bag. If you wanted to carry it in at least one other bag, how many different bag colors would be valid for the outermost bag? (In other words: how many colors can, eventually, contain at least one shiny gold bag?)\n",
    "\n",
    "In the above rules, the following options would be available to you:\n",
    "\n",
    "- A bright white bag, which can hold your shiny gold bag directly.\n",
    "- A muted yellow bag, which can hold your shiny gold bag directly, plus some other bags.\n",
    "- A dark orange bag, which can hold bright white and muted yellow bags, either of which could then hold your shiny gold bag.\n",
    "- A light red bag, which can hold bright white and muted yellow bags, either of which could then hold your shiny gold bag.\n",
    "\n",
    "So, in this example, the number of bag colors that can eventually contain at least one shiny gold bag is 4.\n",
    "\n",
    "How many bag colors can eventually contain at least one shiny gold bag? (The list of rules is quite long; make sure you get all of it.)"
   ]
  },
  {
   "cell_type": "code",
   "execution_count": 1,
   "metadata": {},
   "outputs": [],
   "source": [
    "# import packages\n",
    "import pandas as pd\n",
    "import numpy as np"
   ]
  },
  {
   "cell_type": "code",
   "execution_count": 2,
   "metadata": {},
   "outputs": [],
   "source": [
    "# read in data\n",
    "rules = pd.read_csv('input_data/Day7.txt', sep=\":\", header=None)"
   ]
  },
  {
   "cell_type": "code",
   "execution_count": 3,
   "metadata": {},
   "outputs": [
    {
     "data": {
      "text/plain": [
       "(594, 1)"
      ]
     },
     "execution_count": 3,
     "metadata": {},
     "output_type": "execute_result"
    }
   ],
   "source": [
    "rules.shape"
   ]
  },
  {
   "cell_type": "code",
   "execution_count": 4,
   "metadata": {},
   "outputs": [],
   "source": [
    "rules.columns=['rule']"
   ]
  },
  {
   "cell_type": "code",
   "execution_count": 5,
   "metadata": {},
   "outputs": [
    {
     "data": {
      "text/html": [
       "<div>\n",
       "<style scoped>\n",
       "    .dataframe tbody tr th:only-of-type {\n",
       "        vertical-align: middle;\n",
       "    }\n",
       "\n",
       "    .dataframe tbody tr th {\n",
       "        vertical-align: top;\n",
       "    }\n",
       "\n",
       "    .dataframe thead th {\n",
       "        text-align: right;\n",
       "    }\n",
       "</style>\n",
       "<table border=\"1\" class=\"dataframe\">\n",
       "  <thead>\n",
       "    <tr style=\"text-align: right;\">\n",
       "      <th></th>\n",
       "      <th>rule</th>\n",
       "    </tr>\n",
       "  </thead>\n",
       "  <tbody>\n",
       "    <tr>\n",
       "      <th>0</th>\n",
       "      <td>muted lime bags contain 1 wavy lime bag, 1 vib...</td>\n",
       "    </tr>\n",
       "    <tr>\n",
       "      <th>1</th>\n",
       "      <td>light red bags contain 2 clear indigo bags, 3 ...</td>\n",
       "    </tr>\n",
       "    <tr>\n",
       "      <th>2</th>\n",
       "      <td>wavy beige bags contain 4 faded chartreuse bags.</td>\n",
       "    </tr>\n",
       "    <tr>\n",
       "      <th>3</th>\n",
       "      <td>muted blue bags contain 3 mirrored tan bags.</td>\n",
       "    </tr>\n",
       "    <tr>\n",
       "      <th>4</th>\n",
       "      <td>vibrant cyan bags contain 4 drab beige bags, 4...</td>\n",
       "    </tr>\n",
       "  </tbody>\n",
       "</table>\n",
       "</div>"
      ],
      "text/plain": [
       "                                                rule\n",
       "0  muted lime bags contain 1 wavy lime bag, 1 vib...\n",
       "1  light red bags contain 2 clear indigo bags, 3 ...\n",
       "2   wavy beige bags contain 4 faded chartreuse bags.\n",
       "3       muted blue bags contain 3 mirrored tan bags.\n",
       "4  vibrant cyan bags contain 4 drab beige bags, 4..."
      ]
     },
     "execution_count": 5,
     "metadata": {},
     "output_type": "execute_result"
    }
   ],
   "source": [
    "rules.head()"
   ]
  },
  {
   "cell_type": "code",
   "execution_count": 6,
   "metadata": {},
   "outputs": [
    {
     "data": {
      "text/plain": [
       "594"
      ]
     },
     "execution_count": 6,
     "metadata": {},
     "output_type": "execute_result"
    }
   ],
   "source": [
    "# Let's check consistency of data\n",
    "np.sum(rules['rule'].str.find(' bags contain ')>0)"
   ]
  },
  {
   "cell_type": "code",
   "execution_count": 7,
   "metadata": {},
   "outputs": [],
   "source": [
    "# Define a function to break out the container bag\n",
    "def container_bag(rule):\n",
    "    '''returns container bag for a given rule based on everythign to the left of the word \"contain\"'''\n",
    "    ind = rule.find(' bags contain ')\n",
    "    return rule[0:ind]"
   ]
  },
  {
   "cell_type": "code",
   "execution_count": 8,
   "metadata": {},
   "outputs": [
    {
     "data": {
      "text/plain": [
       "'muted lime'"
      ]
     },
     "execution_count": 8,
     "metadata": {},
     "output_type": "execute_result"
    }
   ],
   "source": [
    "container_bag(rules['rule'][0])"
   ]
  },
  {
   "cell_type": "code",
   "execution_count": 9,
   "metadata": {},
   "outputs": [],
   "source": [
    "rules['outside_bag'] = rules.apply(lambda x: container_bag(x['rule']), axis=1)"
   ]
  },
  {
   "cell_type": "code",
   "execution_count": 10,
   "metadata": {},
   "outputs": [
    {
     "data": {
      "text/plain": [
       "0           muted lime\n",
       "1            light red\n",
       "2           wavy beige\n",
       "3           muted blue\n",
       "4         vibrant cyan\n",
       "            ...       \n",
       "589     dull turquoise\n",
       "590        bright aqua\n",
       "591        light olive\n",
       "592    pale chartreuse\n",
       "593        dim magenta\n",
       "Name: outside_bag, Length: 594, dtype: object"
      ]
     },
     "execution_count": 10,
     "metadata": {},
     "output_type": "execute_result"
    }
   ],
   "source": [
    "rules['outside_bag']"
   ]
  },
  {
   "cell_type": "code",
   "execution_count": 11,
   "metadata": {},
   "outputs": [],
   "source": [
    "# Define a function to build a list of contained bags\n",
    "def inside_bags(rule):\n",
    "    '''returns a list of dictionaries of inside bags with key value pairs of number and color\n",
    "    for a given rule based on everything to the right of the word \"contain\"'''\n",
    "    \n",
    "    # Let's clean up the string a bit\n",
    "    # First get rid of everything on the left inc. the word\n",
    "    ind = rule.find(' bags contain ')+ len(' bags contain ')\n",
    "    # Now get rid of bag, bags, and periods\n",
    "    ins_str = rule[ind:]\n",
    "    ins_str = ins_str.replace('.','')\n",
    "    ins_str = ins_str.replace(' bags','')\n",
    "    ins_str = ins_str.replace(' bag','')\n",
    "    ins_str = ins_str.strip()\n",
    "   \n",
    "    # Let's initialize our dictionary\n",
    "    ins_bags=[]\n",
    "    \n",
    "    # if the rest is equal to \"no other\" return null\n",
    "    if ins_str=='no other':\n",
    "        return ''\n",
    "    else:# Now break up the rest into a list of contained bags\n",
    "        inside = ins_str.split(',')\n",
    "        inside = [bag.strip() for bag in inside]\n",
    "        return [{\"number\": bag[0:bag.find(' ')], \"color\" : bag[bag.find(' ')+1:]} for bag in inside]"
   ]
  },
  {
   "cell_type": "code",
   "execution_count": 12,
   "metadata": {},
   "outputs": [
    {
     "data": {
      "text/plain": [
       "[{'number': '1', 'color': 'wavy lime'},\n",
       " {'number': '1', 'color': 'vibrant green'},\n",
       " {'number': '3', 'color': 'light yellow'}]"
      ]
     },
     "execution_count": 12,
     "metadata": {},
     "output_type": "execute_result"
    }
   ],
   "source": [
    "# Let's test this\n",
    "inside_bags(rules['rule'][0])"
   ]
  },
  {
   "cell_type": "code",
   "execution_count": 13,
   "metadata": {},
   "outputs": [],
   "source": [
    "# Now let's add a column to our df containing this list\n",
    "rules['inside_bags'] = rules.apply(lambda x: inside_bags(x['rule']), axis=1)"
   ]
  },
  {
   "cell_type": "code",
   "execution_count": 14,
   "metadata": {},
   "outputs": [
    {
     "data": {
      "text/html": [
       "<div>\n",
       "<style scoped>\n",
       "    .dataframe tbody tr th:only-of-type {\n",
       "        vertical-align: middle;\n",
       "    }\n",
       "\n",
       "    .dataframe tbody tr th {\n",
       "        vertical-align: top;\n",
       "    }\n",
       "\n",
       "    .dataframe thead th {\n",
       "        text-align: right;\n",
       "    }\n",
       "</style>\n",
       "<table border=\"1\" class=\"dataframe\">\n",
       "  <thead>\n",
       "    <tr style=\"text-align: right;\">\n",
       "      <th></th>\n",
       "      <th>rule</th>\n",
       "      <th>outside_bag</th>\n",
       "      <th>inside_bags</th>\n",
       "    </tr>\n",
       "  </thead>\n",
       "  <tbody>\n",
       "    <tr>\n",
       "      <th>0</th>\n",
       "      <td>muted lime bags contain 1 wavy lime bag, 1 vib...</td>\n",
       "      <td>muted lime</td>\n",
       "      <td>[{'number': '1', 'color': 'wavy lime'}, {'numb...</td>\n",
       "    </tr>\n",
       "    <tr>\n",
       "      <th>1</th>\n",
       "      <td>light red bags contain 2 clear indigo bags, 3 ...</td>\n",
       "      <td>light red</td>\n",
       "      <td>[{'number': '2', 'color': 'clear indigo'}, {'n...</td>\n",
       "    </tr>\n",
       "    <tr>\n",
       "      <th>2</th>\n",
       "      <td>wavy beige bags contain 4 faded chartreuse bags.</td>\n",
       "      <td>wavy beige</td>\n",
       "      <td>[{'number': '4', 'color': 'faded chartreuse'}]</td>\n",
       "    </tr>\n",
       "    <tr>\n",
       "      <th>3</th>\n",
       "      <td>muted blue bags contain 3 mirrored tan bags.</td>\n",
       "      <td>muted blue</td>\n",
       "      <td>[{'number': '3', 'color': 'mirrored tan'}]</td>\n",
       "    </tr>\n",
       "    <tr>\n",
       "      <th>4</th>\n",
       "      <td>vibrant cyan bags contain 4 drab beige bags, 4...</td>\n",
       "      <td>vibrant cyan</td>\n",
       "      <td>[{'number': '4', 'color': 'drab beige'}, {'num...</td>\n",
       "    </tr>\n",
       "    <tr>\n",
       "      <th>...</th>\n",
       "      <td>...</td>\n",
       "      <td>...</td>\n",
       "      <td>...</td>\n",
       "    </tr>\n",
       "    <tr>\n",
       "      <th>589</th>\n",
       "      <td>dull turquoise bags contain 5 light teal bags,...</td>\n",
       "      <td>dull turquoise</td>\n",
       "      <td>[{'number': '5', 'color': 'light teal'}, {'num...</td>\n",
       "    </tr>\n",
       "    <tr>\n",
       "      <th>590</th>\n",
       "      <td>bright aqua bags contain 4 dotted lime bags.</td>\n",
       "      <td>bright aqua</td>\n",
       "      <td>[{'number': '4', 'color': 'dotted lime'}]</td>\n",
       "    </tr>\n",
       "    <tr>\n",
       "      <th>591</th>\n",
       "      <td>light olive bags contain 3 wavy lavender bags,...</td>\n",
       "      <td>light olive</td>\n",
       "      <td>[{'number': '3', 'color': 'wavy lavender'}, {'...</td>\n",
       "    </tr>\n",
       "    <tr>\n",
       "      <th>592</th>\n",
       "      <td>pale chartreuse bags contain 4 dark lime bags,...</td>\n",
       "      <td>pale chartreuse</td>\n",
       "      <td>[{'number': '4', 'color': 'dark lime'}, {'numb...</td>\n",
       "    </tr>\n",
       "    <tr>\n",
       "      <th>593</th>\n",
       "      <td>dim magenta bags contain 1 dark maroon bag, 3 ...</td>\n",
       "      <td>dim magenta</td>\n",
       "      <td>[{'number': '1', 'color': 'dark maroon'}, {'nu...</td>\n",
       "    </tr>\n",
       "  </tbody>\n",
       "</table>\n",
       "<p>594 rows × 3 columns</p>\n",
       "</div>"
      ],
      "text/plain": [
       "                                                  rule      outside_bag  \\\n",
       "0    muted lime bags contain 1 wavy lime bag, 1 vib...       muted lime   \n",
       "1    light red bags contain 2 clear indigo bags, 3 ...        light red   \n",
       "2     wavy beige bags contain 4 faded chartreuse bags.       wavy beige   \n",
       "3         muted blue bags contain 3 mirrored tan bags.       muted blue   \n",
       "4    vibrant cyan bags contain 4 drab beige bags, 4...     vibrant cyan   \n",
       "..                                                 ...              ...   \n",
       "589  dull turquoise bags contain 5 light teal bags,...   dull turquoise   \n",
       "590       bright aqua bags contain 4 dotted lime bags.      bright aqua   \n",
       "591  light olive bags contain 3 wavy lavender bags,...      light olive   \n",
       "592  pale chartreuse bags contain 4 dark lime bags,...  pale chartreuse   \n",
       "593  dim magenta bags contain 1 dark maroon bag, 3 ...      dim magenta   \n",
       "\n",
       "                                           inside_bags  \n",
       "0    [{'number': '1', 'color': 'wavy lime'}, {'numb...  \n",
       "1    [{'number': '2', 'color': 'clear indigo'}, {'n...  \n",
       "2       [{'number': '4', 'color': 'faded chartreuse'}]  \n",
       "3           [{'number': '3', 'color': 'mirrored tan'}]  \n",
       "4    [{'number': '4', 'color': 'drab beige'}, {'num...  \n",
       "..                                                 ...  \n",
       "589  [{'number': '5', 'color': 'light teal'}, {'num...  \n",
       "590          [{'number': '4', 'color': 'dotted lime'}]  \n",
       "591  [{'number': '3', 'color': 'wavy lavender'}, {'...  \n",
       "592  [{'number': '4', 'color': 'dark lime'}, {'numb...  \n",
       "593  [{'number': '1', 'color': 'dark maroon'}, {'nu...  \n",
       "\n",
       "[594 rows x 3 columns]"
      ]
     },
     "execution_count": 14,
     "metadata": {},
     "output_type": "execute_result"
    }
   ],
   "source": [
    "rules"
   ]
  },
  {
   "cell_type": "code",
   "execution_count": 15,
   "metadata": {},
   "outputs": [],
   "source": [
    "# Now define a function to return whether a color is in the list of dictionaries in the column inside_bags\n",
    "def find_color(bag_list, color):\n",
    "    '''returns true if color is in the bag_list which is a list of dictionaries'''\n",
    "    return any(bag['color'] == color for bag in bag_list)"
   ]
  },
  {
   "cell_type": "code",
   "execution_count": 16,
   "metadata": {},
   "outputs": [
    {
     "data": {
      "text/plain": [
       "True"
      ]
     },
     "execution_count": 16,
     "metadata": {},
     "output_type": "execute_result"
    }
   ],
   "source": [
    "# Let's test this\n",
    "find_color(rules['inside_bags'][0],'wavy lime')"
   ]
  },
  {
   "cell_type": "code",
   "execution_count": 17,
   "metadata": {},
   "outputs": [
    {
     "data": {
      "text/plain": [
       "['dark black', 'dim beige', 'mirrored red', 'posh brown', 'shiny gray']"
      ]
     },
     "execution_count": 17,
     "metadata": {},
     "output_type": "execute_result"
    }
   ],
   "source": [
    "# Here is our list of outside bags that can contain shiny gold\n",
    "rules[rules.apply(lambda x: find_color(x['inside_bags'],'shiny gold'), axis=1)]['outside_bag'].to_list()"
   ]
  },
  {
   "cell_type": "code",
   "execution_count": 18,
   "metadata": {},
   "outputs": [],
   "source": [
    "# Define a function to return a list of bags for a particular color\n",
    "def list_of_bags(color):\n",
    "    '''returns a list of container bags for a particular color'''\n",
    "    return rules[rules.apply(lambda x: find_color(x['inside_bags'], color), axis=1)]['outside_bag'].to_list()"
   ]
  },
  {
   "cell_type": "code",
   "execution_count": 19,
   "metadata": {},
   "outputs": [],
   "source": [
    "# Let's get a unique list of colors based on an initial list\n",
    "def get_new_list(initial_list):\n",
    "    '''takes an initial list of colors and returns a new list of colors'''\n",
    "    new_list=[]\n",
    "    \n",
    "    # Create a list of possible new colors\n",
    "    for color in initial_list:\n",
    "        for i in list_of_bags(color):\n",
    "            if i not in new_list:\n",
    "                new_list.append(i)\n",
    "\n",
    "    return new_list"
   ]
  },
  {
   "cell_type": "code",
   "execution_count": 20,
   "metadata": {},
   "outputs": [
    {
     "name": "stdout",
     "output_type": "stream",
     "text": [
      "1 1\n",
      "2 6\n",
      "3 22\n",
      "4 46\n",
      "5 70\n",
      "6 96\n",
      "7 125\n",
      "8 139\n",
      "9 140\n"
     ]
    }
   ],
   "source": [
    "total_list = ['shiny gold']\n",
    "keep_adding_colors = True\n",
    "depth = 0\n",
    "\n",
    "while keep_adding_colors:\n",
    "    depth+=1\n",
    "    print(depth, len(total_list))\n",
    "    \n",
    "    # we get our new list of colors and see if there's anything new in there\n",
    "    keep_adding_colors = False\n",
    "\n",
    "    for i in get_new_list(total_list):\n",
    "        if i not in total_list:\n",
    "            keep_adding_colors=True\n",
    "            total_list.append(i)"
   ]
  },
  {
   "cell_type": "markdown",
   "metadata": {},
   "source": [
    "Answer is actually 139 because we don't count the shiny gold bag!"
   ]
  },
  {
   "cell_type": "markdown",
   "metadata": {},
   "source": [
    "### Part 2\n",
    "It's getting pretty expensive to fly these days - not because of ticket prices, but because of the ridiculous number of bags you need to buy!\n",
    "\n",
    "Consider again your shiny gold bag and the rules from the above example:\n",
    "\n",
    "- faded blue bags contain 0 other bags.\n",
    "- dotted black bags contain 0 other bags.\n",
    "- vibrant plum bags contain 11 other bags: 5 faded blue bags and 6 dotted black bags.\n",
    "- dark olive bags contain 7 other bags: 3 faded blue bags and 4 dotted black bags.\n",
    "\n",
    "So, a single shiny gold bag must contain 1 dark olive bag (and the 7 bags within it) plus 2 vibrant plum bags (and the 11 bags within each of those): 1 + 1*7 + 2 + 2*11 = 32 bags!\n",
    "\n",
    "Of course, the actual rules have a small chance of going several levels deeper than this example; be sure to count all of the bags, even if the nesting becomes topologically impractical!\n",
    "\n",
    "Here's another example:\n",
    "\n",
    "- shiny gold bags contain 2 dark red bags.\n",
    "- dark red bags contain 2 dark orange bags.\n",
    "- dark orange bags contain 2 dark yellow bags.\n",
    "- dark yellow bags contain 2 dark green bags.\n",
    "- dark green bags contain 2 dark blue bags.\n",
    "- dark blue bags contain 2 dark violet bags.\n",
    "- dark violet bags contain no other bags.\n",
    "\n",
    "In this example, a single shiny gold bag must contain 126 other bags.\n",
    "\n",
    "How many individual bags are required inside your single shiny gold bag?\n",
    "\n"
   ]
  },
  {
   "cell_type": "code",
   "execution_count": 21,
   "metadata": {},
   "outputs": [],
   "source": [
    "def get_list_of_colors(color):\n",
    "    '''this function returns the list of dictionaries of inside bags for a given outside bag'''\n",
    "    return rules[rules['outside_bag']==color]['inside_bags'].to_list()[0]"
   ]
  },
  {
   "cell_type": "code",
   "execution_count": 25,
   "metadata": {},
   "outputs": [],
   "source": [
    "# Define our recursive function\n",
    "\n",
    "def num_bags_inside(color, number):\n",
    "    \n",
    "    # we always return the number of bags for this level\n",
    "    num_bags = number\n",
    "\n",
    "    # then we add the number of bags inside that bag\n",
    "    new_list = get_list_of_colors(color)\n",
    "    if new_list != \"\":\n",
    "        for item in new_list:\n",
    "            num_bags += number * num_bags_inside(item.get('color'), int(item.get('number')))\n",
    "    return num_bags"
   ]
  },
  {
   "cell_type": "code",
   "execution_count": 26,
   "metadata": {},
   "outputs": [
    {
     "data": {
      "text/plain": [
       "58176"
      ]
     },
     "execution_count": 26,
     "metadata": {},
     "output_type": "execute_result"
    }
   ],
   "source": [
    "num_bags_inside('shiny gold', 1)"
   ]
  },
  {
   "cell_type": "markdown",
   "metadata": {},
   "source": [
    "And actual answer is 1 less or 58175 because we don't count the shiny gold bag."
   ]
  }
 ],
 "metadata": {
  "kernelspec": {
   "display_name": "Python [conda env:TestEnv] *",
   "language": "python",
   "name": "conda-env-TestEnv-py"
  },
  "language_info": {
   "codemirror_mode": {
    "name": "ipython",
    "version": 3
   },
   "file_extension": ".py",
   "mimetype": "text/x-python",
   "name": "python",
   "nbconvert_exporter": "python",
   "pygments_lexer": "ipython3",
   "version": "3.8.2"
  }
 },
 "nbformat": 4,
 "nbformat_minor": 4
}

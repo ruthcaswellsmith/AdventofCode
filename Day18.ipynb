{
 "cells": [
  {
   "cell_type": "markdown",
   "metadata": {},
   "source": [
    "## Day 18"
   ]
  },
  {
   "cell_type": "markdown",
   "metadata": {},
   "source": [
    "### Part 1 \n",
    "\n",
    "As you look out the window and notice a heavily-forested continent slowly appear over the horizon, you are interrupted by the child sitting next to you. They're curious if you could help them with their math homework.\n",
    "\n",
    "Unfortunately, it seems like this \"math\" follows different rules than you remember.\n",
    "\n",
    "The homework (your puzzle input) consists of a series of expressions that consist of addition (+), multiplication (*), and parentheses ((...)). Just like normal math, parentheses indicate that the expression inside must be evaluated before it can be used by the surrounding expression. Addition still finds the sum of the numbers on both sides of the operator, and multiplication still finds the product.\n",
    "\n",
    "However, the rules of operator precedence have changed. Rather than evaluating multiplication before addition, the operators have the same precedence, and are evaluated left-to-right regardless of the order in which they appear.\n",
    "\n",
    "For example, the steps to evaluate the expression 1 + 2 * 3 + 4 * 5 + 6 are as follows:\n",
    "\n",
    "- 1 + 2 * 3 + 4 * 5 + 6\n",
    "-   3   * 3 + 4 * 5 + 6\n",
    "-       9   + 4 * 5 + 6\n",
    "-          13   * 5 + 6\n",
    "-              65   + 6\n",
    "-                  71\n",
    "\n",
    "Parentheses can override this order; for example, here is what happens if parentheses are added to form 1 + (2 * 3) + (4 * (5 + 6)):\n",
    "\n",
    "- 1 + (2 * 3) + (4 * (5 + 6))\n",
    "- 1 +    6    + (4 * (5 + 6))\n",
    "-      7      + (4 * (5 + 6))\n",
    "-      7      + (4 *   11   )\n",
    "-      7      +     44\n",
    "-             51\n",
    "\n",
    "Here are a few more examples:\n",
    "\n",
    "- 2 * 3 + (4 * 5) becomes 26.\n",
    "- 5 + (8 * 3 + 9 + 3 * 4 * 3) becomes 437.\n",
    "- 5 * 9 * (7 * 3 * 3 + 9 * 3 + (8 + 6 * 4)) becomes 12240.\n",
    "- ((2 + 4 * 9) * (6 + 9 * 8 + 6) + 6) + 2 + 4 * 2 becomes 13632.\n",
    "\n",
    "Before you can help with the homework, you need to understand it yourself. Evaluate the expression on each line of the homework; what is the sum of the resulting values?"
   ]
  },
  {
   "cell_type": "code",
   "execution_count": null,
   "metadata": {},
   "outputs": [],
   "source": [
    "import pandas as pd\n",
    "import numpy as np"
   ]
  },
  {
   "cell_type": "code",
   "execution_count": 413,
   "metadata": {},
   "outputs": [
    {
     "name": "stdout",
     "output_type": "stream",
     "text": [
      "Sum is: 11076907812171\n"
     ]
    }
   ],
   "source": [
    "# Open file\n",
    "f = open(\"input_data/Day18.txt\", \"r\")\n",
    "\n",
    "sum = 0\n",
    "for line in f:\n",
    "    \n",
    "    line = line.strip('\\n')\n",
    "    sum += process_str(line)\n",
    "    \n",
    "f.close()\n",
    "\n",
    "print('Sum is:', sum)"
   ]
  },
  {
   "cell_type": "code",
   "execution_count": 408,
   "metadata": {},
   "outputs": [],
   "source": [
    "def split_strings(st):\n",
    "    '''takes a string with at least one operator and returns the portion inside outermost parentheses \n",
    "    and the remainder of the string'''\n",
    "    \n",
    "    if st[0] != '(':\n",
    "        return st[0], st[2:]\n",
    "    \n",
    "    else:\n",
    "        depth_paren = 1\n",
    "        ind = 1\n",
    "        found_r_paren = False\n",
    "    \n",
    "        while (depth_paren > 0):\n",
    "            if st[ind] == '(':\n",
    "                depth_paren += 1\n",
    "            elif st[ind] == ')':\n",
    "                depth_paren -= 1\n",
    "            ind += 1\n",
    "        return st[1:ind-1], st[ind+1:]\n",
    "    "
   ]
  },
  {
   "cell_type": "code",
   "execution_count": 409,
   "metadata": {},
   "outputs": [
    {
     "data": {
      "text/plain": [
       "('2 * 3', '+ (2 + 3)')"
      ]
     },
     "execution_count": 409,
     "metadata": {},
     "output_type": "execute_result"
    }
   ],
   "source": [
    "split_strings('(2 * 3) + (2 + 3)')"
   ]
  },
  {
   "cell_type": "code",
   "execution_count": 410,
   "metadata": {},
   "outputs": [],
   "source": [
    "def process_str(st):\n",
    "    '''this is a recursive function that calls itself upon hitting a left parenthese; otherwise it operates\n",
    "    on the next number'''\n",
    "\n",
    "    total = 0\n",
    "    op = '+'\n",
    "    \n",
    "#    print('inside ', st)\n",
    "    while len(st)>1:\n",
    "        \n",
    "        if st[2] in ['*','+']:  # we have a number followed by an operator\n",
    "            \n",
    "            if op == '*':\n",
    "                total *= int(st[0])\n",
    "            else:\n",
    "                total += int(st[0])\n",
    "        \n",
    "            op, st = st[2], st[4:]\n",
    "            \n",
    "        else:   # we have a left paren\n",
    "            \n",
    "            substr, remainder = split_strings(st)\n",
    "            \n",
    "            if op == '*':\n",
    "                total *= process_str(substr)\n",
    "            else:\n",
    "                total += process_str(substr)\n",
    "                \n",
    "            if remainder != '':\n",
    "                op = remainder[0]\n",
    "                st = remainder[2:]\n",
    "            else: # we've hit the end\n",
    "                return total\n",
    "        \n",
    "    # we have one more number to process\n",
    "#    print('here', st)\n",
    "    if op == '*':\n",
    "        return total * int(st[0])\n",
    "    else:\n",
    "        return total + int(st[0])"
   ]
  },
  {
   "cell_type": "code",
   "execution_count": 407,
   "metadata": {},
   "outputs": [
    {
     "data": {
      "text/plain": [
       "528768"
      ]
     },
     "execution_count": 407,
     "metadata": {},
     "output_type": "execute_result"
    }
   ],
   "source": [
    "process_str('(8 * (6 * 8 + 3) * 9 * 9 * 8) * 2')"
   ]
  },
  {
   "cell_type": "markdown",
   "metadata": {},
   "source": [
    "### Part 2\n",
    "You manage to answer the child's questions and they finish part 1 of their homework, but get stuck when they reach the next section: advanced math.\n",
    "\n",
    "Now, addition and multiplication have different precedence levels, but they're not the ones you're familiar with. Instead, addition is evaluated before multiplication.\n",
    "\n",
    "For example, the steps to evaluate the expression 1 + 2 * 3 + 4 * 5 + 6 are now as follows:\n",
    "\n",
    "- 1 + 2 * 3 + 4 * 5 + 6\n",
    "-   3   * 3 + 4 * 5 + 6\n",
    "-   3   *   7   * 5 + 6\n",
    "-   3   *   7   *  11\n",
    "-     21       *  11\n",
    "-         231\n",
    "\n",
    "Here are the other examples from above:\n",
    "\n",
    "- 1 + (2 * 3) + (4 * (5 + 6)) still becomes 51.\n",
    "- 2 * 3 + (4 * 5) becomes 46.\n",
    "- 5 + (8 * 3 + 9 + 3 * 4 * 3) becomes 1445.\n",
    "- 5 * 9 * (7 * 3 * 3 + 9 * 3 + (8 + 6 * 4)) becomes 669060.\n",
    "- ((2 + 4 * 9) * (6 + 9 * 8 + 6) + 6) + 2 + 4 * 2 becomes 23340.\n",
    "\n",
    "What do you get if you add up the results of evaluating the homework problems using these new rules?\n"
   ]
  },
  {
   "cell_type": "code",
   "execution_count": 7,
   "metadata": {},
   "outputs": [],
   "source": [
    "import numpy as np"
   ]
  },
  {
   "cell_type": "code",
   "execution_count": 89,
   "metadata": {},
   "outputs": [],
   "source": [
    "def evaluate_str(st):\n",
    "    '''this function takes a string with no paren and returns a single value,\n",
    "    performing + before *'''\n",
    "\n",
    "    total = 0\n",
    "    num_ops = st.split()\n",
    "    while '+' in num_ops:\n",
    "        plus_pos = num_ops.index('+')\n",
    "\n",
    "        # sum values around the plus sign\n",
    "        total = int(num_ops[plus_pos - 1]) + int(num_ops[plus_pos + 1])\n",
    "\n",
    "        # delete first values and plus sign and replace second value with sum\n",
    "        num_ops.pop(plus_pos)\n",
    "        num_ops.pop(plus_pos)\n",
    "        #string_total = str(total)\n",
    "        num_ops[plus_pos - 1] = str(total)\n",
    "\n",
    "    while '*' in num_ops:\n",
    "        times_pos = num_ops.index('*')\n",
    "\n",
    "        # sum values around the plus sign\n",
    "        total = int(num_ops[times_pos - 1]) * int(num_ops[times_pos + 1])\n",
    "\n",
    "        # delete first values and plus sign and replace second value with sum\n",
    "        num_ops.pop(times_pos)\n",
    "        num_ops.pop(times_pos)\n",
    "        num_ops[times_pos - 1] = str(total)\n",
    "\n",
    "    return total"
   ]
  },
  {
   "cell_type": "code",
   "execution_count": 83,
   "metadata": {},
   "outputs": [],
   "source": [
    "def split_string(st):\n",
    "    '''takes a string with at least one left paren and returns a left, middle, and right string'''\n",
    "    \n",
    "    lpos = st.find('(')\n",
    "    \n",
    "    # Grab left half of string\n",
    "    if st[0] == '(':\n",
    "        left = ''\n",
    "    \n",
    "    else:\n",
    "        left = st[0:lpos]\n",
    "    st = st[lpos:]\n",
    "#    print(st)\n",
    "    \n",
    "    # find the middle\n",
    "    depth_paren = 1\n",
    "    ind = 1\n",
    "    found_r_paren = False\n",
    "    \n",
    "    while (depth_paren > 0):\n",
    "        if st[ind] == '(':\n",
    "            depth_paren += 1\n",
    "        elif st[ind] == ')':\n",
    "            depth_paren -= 1\n",
    "        ind += 1\n",
    "        \n",
    "    middle, right = st[1:ind-1], st[ind:]\n",
    "    \n",
    "    return left, middle, right"
   ]
  },
  {
   "cell_type": "code",
   "execution_count": 78,
   "metadata": {},
   "outputs": [
    {
     "data": {
      "text/plain": [
       "('5 * ', '2 + (3 * 8)', ' + 1')"
      ]
     },
     "execution_count": 78,
     "metadata": {},
     "output_type": "execute_result"
    }
   ],
   "source": [
    "split_string('5 * (2 + (3 * 8)) + 1')"
   ]
  },
  {
   "cell_type": "code",
   "execution_count": 87,
   "metadata": {},
   "outputs": [],
   "source": [
    "def process_str(st):\n",
    "    '''this is a recursive function that loops through replacing an expression in parentheses with its value'''\n",
    "\n",
    "    while st.find('(') > -1:\n",
    "        \n",
    "        left, middle, right = split_string(st)\n",
    "        st = left + str(process_str(middle)) + right\n",
    "    \n",
    "    # evalute the remainder\n",
    "    return evaluate_str(st)"
   ]
  },
  {
   "cell_type": "code",
   "execution_count": 88,
   "metadata": {},
   "outputs": [
    {
     "name": "stdout",
     "output_type": "stream",
     "text": [
      "returning from evaluate st with total: 56\n",
      "returning from evaluate st with total: 14868\n",
      "returning from evaluate st with total: 669060\n"
     ]
    },
    {
     "data": {
      "text/plain": [
       "669060"
      ]
     },
     "execution_count": 88,
     "metadata": {},
     "output_type": "execute_result"
    }
   ],
   "source": [
    "process_str('5 * 9 * (7 * 3 * 3 + 9 * 3 + (8 + 6 * 4))')"
   ]
  },
  {
   "cell_type": "code",
   "execution_count": 90,
   "metadata": {},
   "outputs": [
    {
     "name": "stdout",
     "output_type": "stream",
     "text": [
      "Sum is: 283729053022731\n"
     ]
    }
   ],
   "source": [
    "# Open file\n",
    "f = open(\"input_data/Day18.txt\", \"r\")\n",
    "\n",
    "sum = 0\n",
    "for line in f:\n",
    "    \n",
    "    line = line.strip('\\n')\n",
    "    sum += process_str(line)\n",
    "    \n",
    "f.close()\n",
    "\n",
    "print('Sum is:', sum)"
   ]
  },
  {
   "cell_type": "code",
   "execution_count": null,
   "metadata": {},
   "outputs": [],
   "source": []
  }
 ],
 "metadata": {
  "kernelspec": {
   "display_name": "Python 3",
   "language": "python",
   "name": "python3"
  },
  "language_info": {
   "codemirror_mode": {
    "name": "ipython",
    "version": 3
   },
   "file_extension": ".py",
   "mimetype": "text/x-python",
   "name": "python",
   "nbconvert_exporter": "python",
   "pygments_lexer": "ipython3",
   "version": "3.8.2"
  }
 },
 "nbformat": 4,
 "nbformat_minor": 4
}
